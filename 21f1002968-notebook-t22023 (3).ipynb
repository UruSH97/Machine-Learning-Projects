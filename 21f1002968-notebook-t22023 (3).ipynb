{
 "cells": [
  {
   "cell_type": "code",
   "execution_count": 1,
   "id": "74fecd6e",
   "metadata": {
    "_cell_guid": "b1076dfc-b9ad-4769-8c92-a6c4dae69d19",
    "_uuid": "8f2839f25d086af736a60e9eeb907d3b93b6e0e5",
    "execution": {
     "iopub.execute_input": "2023-08-13T18:14:27.086738Z",
     "iopub.status.busy": "2023-08-13T18:14:27.086291Z",
     "iopub.status.idle": "2023-08-13T18:14:27.100658Z",
     "shell.execute_reply": "2023-08-13T18:14:27.099635Z"
    },
    "papermill": {
     "duration": 0.055271,
     "end_time": "2023-08-13T18:14:27.102895",
     "exception": false,
     "start_time": "2023-08-13T18:14:27.047624",
     "status": "completed"
    },
    "tags": []
   },
   "outputs": [
    {
     "name": "stdout",
     "output_type": "stream",
     "text": [
      "/kaggle/input/sentiment-prediction-on-movie-reviews/movies.csv\n",
      "/kaggle/input/sentiment-prediction-on-movie-reviews/sample.csv\n",
      "/kaggle/input/sentiment-prediction-on-movie-reviews/train.csv\n",
      "/kaggle/input/sentiment-prediction-on-movie-reviews/test.csv\n"
     ]
    }
   ],
   "source": [
    "# This Python 3 environment comes with many helpful analytics libraries installed\n",
    "# It is defined by the kaggle/python Docker image: https://github.com/kaggle/docker-python\n",
    "# For example, here's several helpful packages to load\n",
    "\n",
    "import numpy as np # linear algebra\n",
    "import pandas as pd # data processing, CSV file I/O (e.g. pd.read_csv)\n",
    "\n",
    "# Input data files are available in the read-only \"../input/\" directory\n",
    "# For example, running this (by clicking run or pressing Shift+Enter) will list all files under the input directory\n",
    "\n",
    "import os\n",
    "for dirname, _, filenames in os.walk('/kaggle/input'):\n",
    "    for filename in filenames:\n",
    "        print(os.path.join(dirname, filename))\n",
    "\n",
    "# You can write up to 20GB to the current directory (/kaggle/working/) that gets preserved as output when you create a version using \"Save & Run All\" \n",
    "# You can also write temporary files to /kaggle/temp/, but they won't be saved outside of the current session"
   ]
  },
  {
   "cell_type": "markdown",
   "id": "9b9f3278",
   "metadata": {
    "papermill": {
     "duration": 0.03563,
     "end_time": "2023-08-13T18:14:27.174839",
     "exception": false,
     "start_time": "2023-08-13T18:14:27.139209",
     "status": "completed"
    },
    "tags": []
   },
   "source": [
    "# Importing Libraries "
   ]
  },
  {
   "cell_type": "code",
   "execution_count": 2,
   "id": "a62b3e54",
   "metadata": {
    "execution": {
     "iopub.execute_input": "2023-08-13T18:14:27.247521Z",
     "iopub.status.busy": "2023-08-13T18:14:27.246861Z",
     "iopub.status.idle": "2023-08-13T18:14:29.566147Z",
     "shell.execute_reply": "2023-08-13T18:14:29.565305Z"
    },
    "papermill": {
     "duration": 2.358013,
     "end_time": "2023-08-13T18:14:29.568628",
     "exception": false,
     "start_time": "2023-08-13T18:14:27.210615",
     "status": "completed"
    },
    "tags": []
   },
   "outputs": [],
   "source": [
    "import matplotlib.pyplot as plt     \n",
    "import seaborn as sns               \n",
    "from sklearn.model_selection import train_test_split, cross_validate, cross_val_score, ShuffleSplit,GridSearchCV,RandomizedSearchCV\n",
    "    \n",
    "from sklearn.tree import DecisionTreeClassifier      \n",
    "from sklearn.pipeline import Pipeline                \n",
    "    \n",
    "from sklearn.decomposition import PCA                \n",
    "from sklearn.svm import SVC,LinearSVC \n",
    "\n",
    "from sklearn.naive_bayes import GaussianNB           \n",
    "from sklearn.neighbors import KNeighborsClassifier   \n",
    "\n",
    "from sklearn.linear_model import LogisticRegression,LogisticRegressionCV\n",
    "from sklearn.preprocessing import OrdinalEncoder,LabelEncoder,StandardScaler\n",
    "\n",
    "from sklearn.feature_selection import SelectKBest,chi2,RFE\n",
    "from sklearn import metrics\n",
    "\n",
    "from sklearn.feature_extraction.text import HashingVectorizer\n",
    "from sklearn.compose import ColumnTransformer\n",
    "\n",
    "\n",
    "from scipy.stats import uniform\n",
    "from sklearn.metrics import classification_report,ConfusionMatrixDisplay,confusion_matrix,f1_score,accuracy_score,mean_squared_error,make_scorer\n",
    "from sklearn.impute import KNNImputer\n",
    "\n",
    "from sklearn.ensemble import GradientBoostingClassifier,AdaBoostClassifier,VotingClassifier,RandomForestClassifier,StackingClassifier,BaggingClassifier\n",
    "\n",
    "from sklearn.preprocessing import PolynomialFeatures,StandardScaler,MaxAbsScaler,RobustScaler\n",
    "\n",
    "from xgboost import XGBClassifier"
   ]
  },
  {
   "cell_type": "markdown",
   "id": "2947e522",
   "metadata": {
    "papermill": {
     "duration": 0.035199,
     "end_time": "2023-08-13T18:14:29.639351",
     "exception": false,
     "start_time": "2023-08-13T18:14:29.604152",
     "status": "completed"
    },
    "tags": []
   },
   "source": [
    "# DATA LOADING & EDA"
   ]
  },
  {
   "cell_type": "code",
   "execution_count": 3,
   "id": "6b103440",
   "metadata": {
    "execution": {
     "iopub.execute_input": "2023-08-13T18:14:29.712118Z",
     "iopub.status.busy": "2023-08-13T18:14:29.711039Z",
     "iopub.status.idle": "2023-08-13T18:14:30.806918Z",
     "shell.execute_reply": "2023-08-13T18:14:30.805921Z"
    },
    "papermill": {
     "duration": 1.134838,
     "end_time": "2023-08-13T18:14:30.809365",
     "exception": false,
     "start_time": "2023-08-13T18:14:29.674527",
     "status": "completed"
    },
    "tags": []
   },
   "outputs": [
    {
     "data": {
      "text/html": [
       "<div>\n",
       "<style scoped>\n",
       "    .dataframe tbody tr th:only-of-type {\n",
       "        vertical-align: middle;\n",
       "    }\n",
       "\n",
       "    .dataframe tbody tr th {\n",
       "        vertical-align: top;\n",
       "    }\n",
       "\n",
       "    .dataframe thead th {\n",
       "        text-align: right;\n",
       "    }\n",
       "</style>\n",
       "<table border=\"1\" class=\"dataframe\">\n",
       "  <thead>\n",
       "    <tr style=\"text-align: right;\">\n",
       "      <th></th>\n",
       "      <th>movieid</th>\n",
       "      <th>reviewerName</th>\n",
       "      <th>isFrequentReviewer</th>\n",
       "      <th>reviewText</th>\n",
       "      <th>sentiment</th>\n",
       "    </tr>\n",
       "  </thead>\n",
       "  <tbody>\n",
       "    <tr>\n",
       "      <th>0</th>\n",
       "      <td>marvelous_pirate</td>\n",
       "      <td>Benjamin Henry</td>\n",
       "      <td>False</td>\n",
       "      <td>Henry Selick’s first movie since 2009’s Corali...</td>\n",
       "      <td>POSITIVE</td>\n",
       "    </tr>\n",
       "    <tr>\n",
       "      <th>1</th>\n",
       "      <td>tony_montana_frodo_baggins_v_rocky_balboa</td>\n",
       "      <td>Felicia Lopez</td>\n",
       "      <td>False</td>\n",
       "      <td>With a cast that reads like the Vogue Oscar pa...</td>\n",
       "      <td>NEGATIVE</td>\n",
       "    </tr>\n",
       "    <tr>\n",
       "      <th>2</th>\n",
       "      <td>darth_vader_katniss_everdeen_sorcerer_donnie_d...</td>\n",
       "      <td>Mr. Charles Burgess</td>\n",
       "      <td>True</td>\n",
       "      <td>Creed II does not give us anything but another...</td>\n",
       "      <td>POSITIVE</td>\n",
       "    </tr>\n",
       "    <tr>\n",
       "      <th>3</th>\n",
       "      <td>lara_croft_glimmer</td>\n",
       "      <td>Ryan Barrett</td>\n",
       "      <td>False</td>\n",
       "      <td>I know what you're thinking, but this is no Li...</td>\n",
       "      <td>POSITIVE</td>\n",
       "    </tr>\n",
       "    <tr>\n",
       "      <th>4</th>\n",
       "      <td>jason_bourne_surreal_the_terminator_indiana_jones</td>\n",
       "      <td>Alexander Glover</td>\n",
       "      <td>False</td>\n",
       "      <td>Director Fernando Meirelles tells the story wi...</td>\n",
       "      <td>POSITIVE</td>\n",
       "    </tr>\n",
       "  </tbody>\n",
       "</table>\n",
       "</div>"
      ],
      "text/plain": [
       "                                             movieid         reviewerName  \\\n",
       "0                                   marvelous_pirate       Benjamin Henry   \n",
       "1          tony_montana_frodo_baggins_v_rocky_balboa        Felicia Lopez   \n",
       "2  darth_vader_katniss_everdeen_sorcerer_donnie_d...  Mr. Charles Burgess   \n",
       "3                                 lara_croft_glimmer         Ryan Barrett   \n",
       "4  jason_bourne_surreal_the_terminator_indiana_jones     Alexander Glover   \n",
       "\n",
       "   isFrequentReviewer                                         reviewText  \\\n",
       "0               False  Henry Selick’s first movie since 2009’s Corali...   \n",
       "1               False  With a cast that reads like the Vogue Oscar pa...   \n",
       "2                True  Creed II does not give us anything but another...   \n",
       "3               False  I know what you're thinking, but this is no Li...   \n",
       "4               False  Director Fernando Meirelles tells the story wi...   \n",
       "\n",
       "  sentiment  \n",
       "0  POSITIVE  \n",
       "1  NEGATIVE  \n",
       "2  POSITIVE  \n",
       "3  POSITIVE  \n",
       "4  POSITIVE  "
      ]
     },
     "execution_count": 3,
     "metadata": {},
     "output_type": "execute_result"
    }
   ],
   "source": [
    "#Reading train data and storing in data\n",
    "data = pd.read_csv('/kaggle/input/sentiment-prediction-on-movie-reviews/train.csv')\n",
    "data.head()"
   ]
  },
  {
   "cell_type": "markdown",
   "id": "351aed9d",
   "metadata": {
    "papermill": {
     "duration": 0.035474,
     "end_time": "2023-08-13T18:14:30.880798",
     "exception": false,
     "start_time": "2023-08-13T18:14:30.845324",
     "status": "completed"
    },
    "tags": []
   },
   "source": [
    "**Exploring Train Dataset**"
   ]
  },
  {
   "cell_type": "code",
   "execution_count": 4,
   "id": "26b16c48",
   "metadata": {
    "execution": {
     "iopub.execute_input": "2023-08-13T18:14:30.954328Z",
     "iopub.status.busy": "2023-08-13T18:14:30.953945Z",
     "iopub.status.idle": "2023-08-13T18:14:31.082011Z",
     "shell.execute_reply": "2023-08-13T18:14:31.080731Z"
    },
    "papermill": {
     "duration": 0.167383,
     "end_time": "2023-08-13T18:14:31.084230",
     "exception": false,
     "start_time": "2023-08-13T18:14:30.916847",
     "status": "completed"
    },
    "tags": []
   },
   "outputs": [
    {
     "name": "stdout",
     "output_type": "stream",
     "text": [
      "<class 'pandas.core.frame.DataFrame'>\n",
      "RangeIndex: 162758 entries, 0 to 162757\n",
      "Data columns (total 5 columns):\n",
      " #   Column              Non-Null Count   Dtype \n",
      "---  ------              --------------   ----- \n",
      " 0   movieid             162758 non-null  object\n",
      " 1   reviewerName        162758 non-null  object\n",
      " 2   isFrequentReviewer  162758 non-null  bool  \n",
      " 3   reviewText          156311 non-null  object\n",
      " 4   sentiment           162758 non-null  object\n",
      "dtypes: bool(1), object(4)\n",
      "memory usage: 5.1+ MB\n"
     ]
    }
   ],
   "source": [
    "data.info()"
   ]
  },
  {
   "cell_type": "code",
   "execution_count": 5,
   "id": "da9fd5d1",
   "metadata": {
    "execution": {
     "iopub.execute_input": "2023-08-13T18:14:31.158265Z",
     "iopub.status.busy": "2023-08-13T18:14:31.157104Z",
     "iopub.status.idle": "2023-08-13T18:14:31.377140Z",
     "shell.execute_reply": "2023-08-13T18:14:31.376110Z"
    },
    "papermill": {
     "duration": 0.259056,
     "end_time": "2023-08-13T18:14:31.379397",
     "exception": false,
     "start_time": "2023-08-13T18:14:31.120341",
     "status": "completed"
    },
    "tags": []
   },
   "outputs": [
    {
     "data": {
      "text/html": [
       "<div>\n",
       "<style scoped>\n",
       "    .dataframe tbody tr th:only-of-type {\n",
       "        vertical-align: middle;\n",
       "    }\n",
       "\n",
       "    .dataframe tbody tr th {\n",
       "        vertical-align: top;\n",
       "    }\n",
       "\n",
       "    .dataframe thead th {\n",
       "        text-align: right;\n",
       "    }\n",
       "</style>\n",
       "<table border=\"1\" class=\"dataframe\">\n",
       "  <thead>\n",
       "    <tr style=\"text-align: right;\">\n",
       "      <th></th>\n",
       "      <th>movieid</th>\n",
       "      <th>reviewerName</th>\n",
       "      <th>isFrequentReviewer</th>\n",
       "      <th>reviewText</th>\n",
       "      <th>sentiment</th>\n",
       "    </tr>\n",
       "  </thead>\n",
       "  <tbody>\n",
       "    <tr>\n",
       "      <th>count</th>\n",
       "      <td>162758</td>\n",
       "      <td>162758</td>\n",
       "      <td>162758</td>\n",
       "      <td>156311</td>\n",
       "      <td>162758</td>\n",
       "    </tr>\n",
       "    <tr>\n",
       "      <th>unique</th>\n",
       "      <td>16812</td>\n",
       "      <td>4482</td>\n",
       "      <td>2</td>\n",
       "      <td>155071</td>\n",
       "      <td>2</td>\n",
       "    </tr>\n",
       "    <tr>\n",
       "      <th>top</th>\n",
       "      <td>escape_the_terminator_tyler_durden_astonish</td>\n",
       "      <td>Sherri Morrison</td>\n",
       "      <td>False</td>\n",
       "      <td>Parental Content Review</td>\n",
       "      <td>POSITIVE</td>\n",
       "    </tr>\n",
       "    <tr>\n",
       "      <th>freq</th>\n",
       "      <td>708</td>\n",
       "      <td>962</td>\n",
       "      <td>113189</td>\n",
       "      <td>29</td>\n",
       "      <td>108761</td>\n",
       "    </tr>\n",
       "  </tbody>\n",
       "</table>\n",
       "</div>"
      ],
      "text/plain": [
       "                                            movieid     reviewerName  \\\n",
       "count                                        162758           162758   \n",
       "unique                                        16812             4482   \n",
       "top     escape_the_terminator_tyler_durden_astonish  Sherri Morrison   \n",
       "freq                                            708              962   \n",
       "\n",
       "       isFrequentReviewer               reviewText sentiment  \n",
       "count              162758                   156311    162758  \n",
       "unique                  2                   155071         2  \n",
       "top                 False  Parental Content Review  POSITIVE  \n",
       "freq               113189                       29    108761  "
      ]
     },
     "execution_count": 5,
     "metadata": {},
     "output_type": "execute_result"
    }
   ],
   "source": [
    "data.describe()"
   ]
  },
  {
   "cell_type": "code",
   "execution_count": 6,
   "id": "bd0edcbd",
   "metadata": {
    "execution": {
     "iopub.execute_input": "2023-08-13T18:14:31.454920Z",
     "iopub.status.busy": "2023-08-13T18:14:31.454219Z",
     "iopub.status.idle": "2023-08-13T18:14:31.559125Z",
     "shell.execute_reply": "2023-08-13T18:14:31.557951Z"
    },
    "papermill": {
     "duration": 0.144954,
     "end_time": "2023-08-13T18:14:31.561662",
     "exception": false,
     "start_time": "2023-08-13T18:14:31.416708",
     "status": "completed"
    },
    "tags": []
   },
   "outputs": [
    {
     "data": {
      "text/plain": [
       "movieid                  0\n",
       "reviewerName             0\n",
       "isFrequentReviewer       0\n",
       "reviewText            6447\n",
       "sentiment                0\n",
       "dtype: int64"
      ]
     },
     "execution_count": 6,
     "metadata": {},
     "output_type": "execute_result"
    }
   ],
   "source": [
    "data.isnull().sum()"
   ]
  },
  {
   "cell_type": "code",
   "execution_count": 7,
   "id": "e96f17f1",
   "metadata": {
    "execution": {
     "iopub.execute_input": "2023-08-13T18:14:31.636875Z",
     "iopub.status.busy": "2023-08-13T18:14:31.636125Z",
     "iopub.status.idle": "2023-08-13T18:14:31.642405Z",
     "shell.execute_reply": "2023-08-13T18:14:31.641537Z"
    },
    "papermill": {
     "duration": 0.046343,
     "end_time": "2023-08-13T18:14:31.644377",
     "exception": false,
     "start_time": "2023-08-13T18:14:31.598034",
     "status": "completed"
    },
    "tags": []
   },
   "outputs": [
    {
     "data": {
      "text/plain": [
       "(162758, 5)"
      ]
     },
     "execution_count": 7,
     "metadata": {},
     "output_type": "execute_result"
    }
   ],
   "source": [
    "data.shape"
   ]
  },
  {
   "cell_type": "markdown",
   "id": "1047d456",
   "metadata": {
    "papermill": {
     "duration": 0.03606,
     "end_time": "2023-08-13T18:14:31.716486",
     "exception": false,
     "start_time": "2023-08-13T18:14:31.680426",
     "status": "completed"
    },
    "tags": []
   },
   "source": [
    "**Loading and exploring movies dataset**"
   ]
  },
  {
   "cell_type": "code",
   "execution_count": 8,
   "id": "c919eb7e",
   "metadata": {
    "execution": {
     "iopub.execute_input": "2023-08-13T18:14:31.791821Z",
     "iopub.status.busy": "2023-08-13T18:14:31.791089Z",
     "iopub.status.idle": "2023-08-13T18:14:32.641492Z",
     "shell.execute_reply": "2023-08-13T18:14:32.640388Z"
    },
    "papermill": {
     "duration": 0.890668,
     "end_time": "2023-08-13T18:14:32.644112",
     "exception": false,
     "start_time": "2023-08-13T18:14:31.753444",
     "status": "completed"
    },
    "tags": []
   },
   "outputs": [],
   "source": [
    "# loading movies dataset\n",
    "md=pd.read_csv('/kaggle/input/sentiment-prediction-on-movie-reviews/movies.csv')\n",
    "# md.head()"
   ]
  },
  {
   "cell_type": "code",
   "execution_count": 9,
   "id": "4fd656c5",
   "metadata": {
    "execution": {
     "iopub.execute_input": "2023-08-13T18:14:32.720840Z",
     "iopub.status.busy": "2023-08-13T18:14:32.720067Z",
     "iopub.status.idle": "2023-08-13T18:14:32.974743Z",
     "shell.execute_reply": "2023-08-13T18:14:32.973272Z"
    },
    "papermill": {
     "duration": 0.295608,
     "end_time": "2023-08-13T18:14:32.977328",
     "exception": false,
     "start_time": "2023-08-13T18:14:32.681720",
     "status": "completed"
    },
    "tags": []
   },
   "outputs": [
    {
     "name": "stdout",
     "output_type": "stream",
     "text": [
      "<class 'pandas.core.frame.DataFrame'>\n",
      "RangeIndex: 143258 entries, 0 to 143257\n",
      "Data columns (total 14 columns):\n",
      " #   Column                Non-Null Count   Dtype  \n",
      "---  ------                --------------   -----  \n",
      " 0   movieid               143258 non-null  object \n",
      " 1   title                 143258 non-null  object \n",
      " 2   audienceScore         73248 non-null   float64\n",
      " 3   rating                13991 non-null   object \n",
      " 4   ratingContents        13991 non-null   object \n",
      " 5   releaseDateTheaters   30773 non-null   object \n",
      " 6   releaseDateStreaming  79420 non-null   object \n",
      " 7   runtimeMinutes        129431 non-null  float64\n",
      " 8   genre                 132175 non-null  object \n",
      " 9   originalLanguage      129400 non-null  object \n",
      " 10  director              143258 non-null  object \n",
      " 11  boxOffice             14743 non-null   object \n",
      " 12  distributor           23005 non-null   object \n",
      " 13  soundType             15917 non-null   object \n",
      "dtypes: float64(2), object(12)\n",
      "memory usage: 15.3+ MB\n"
     ]
    }
   ],
   "source": [
    "md.info()"
   ]
  },
  {
   "cell_type": "code",
   "execution_count": 10,
   "id": "092b36ca",
   "metadata": {
    "execution": {
     "iopub.execute_input": "2023-08-13T18:14:33.052618Z",
     "iopub.status.busy": "2023-08-13T18:14:33.052243Z",
     "iopub.status.idle": "2023-08-13T18:14:33.303283Z",
     "shell.execute_reply": "2023-08-13T18:14:33.302254Z"
    },
    "papermill": {
     "duration": 0.291526,
     "end_time": "2023-08-13T18:14:33.305580",
     "exception": false,
     "start_time": "2023-08-13T18:14:33.014054",
     "status": "completed"
    },
    "tags": []
   },
   "outputs": [
    {
     "data": {
      "text/plain": [
       "movieid                      0\n",
       "title                        0\n",
       "audienceScore            70010\n",
       "rating                  129267\n",
       "ratingContents          129267\n",
       "releaseDateTheaters     112485\n",
       "releaseDateStreaming     63838\n",
       "runtimeMinutes           13827\n",
       "genre                    11083\n",
       "originalLanguage         13858\n",
       "director                     0\n",
       "boxOffice               128515\n",
       "distributor             120253\n",
       "soundType               127341\n",
       "dtype: int64"
      ]
     },
     "execution_count": 10,
     "metadata": {},
     "output_type": "execute_result"
    }
   ],
   "source": [
    "md.isnull().sum()"
   ]
  },
  {
   "cell_type": "code",
   "execution_count": 11,
   "id": "fb3ebcf7",
   "metadata": {
    "execution": {
     "iopub.execute_input": "2023-08-13T18:14:33.382930Z",
     "iopub.status.busy": "2023-08-13T18:14:33.382298Z",
     "iopub.status.idle": "2023-08-13T18:14:33.426688Z",
     "shell.execute_reply": "2023-08-13T18:14:33.425849Z"
    },
    "papermill": {
     "duration": 0.084942,
     "end_time": "2023-08-13T18:14:33.429439",
     "exception": false,
     "start_time": "2023-08-13T18:14:33.344497",
     "status": "completed"
    },
    "tags": []
   },
   "outputs": [
    {
     "data": {
      "text/html": [
       "<div>\n",
       "<style scoped>\n",
       "    .dataframe tbody tr th:only-of-type {\n",
       "        vertical-align: middle;\n",
       "    }\n",
       "\n",
       "    .dataframe tbody tr th {\n",
       "        vertical-align: top;\n",
       "    }\n",
       "\n",
       "    .dataframe thead th {\n",
       "        text-align: right;\n",
       "    }\n",
       "</style>\n",
       "<table border=\"1\" class=\"dataframe\">\n",
       "  <thead>\n",
       "    <tr style=\"text-align: right;\">\n",
       "      <th></th>\n",
       "      <th>audienceScore</th>\n",
       "      <th>runtimeMinutes</th>\n",
       "    </tr>\n",
       "  </thead>\n",
       "  <tbody>\n",
       "    <tr>\n",
       "      <th>count</th>\n",
       "      <td>73248.000000</td>\n",
       "      <td>129431.000000</td>\n",
       "    </tr>\n",
       "    <tr>\n",
       "      <th>mean</th>\n",
       "      <td>55.674967</td>\n",
       "      <td>93.708578</td>\n",
       "    </tr>\n",
       "    <tr>\n",
       "      <th>std</th>\n",
       "      <td>24.553648</td>\n",
       "      <td>28.129175</td>\n",
       "    </tr>\n",
       "    <tr>\n",
       "      <th>min</th>\n",
       "      <td>0.000000</td>\n",
       "      <td>1.000000</td>\n",
       "    </tr>\n",
       "    <tr>\n",
       "      <th>25%</th>\n",
       "      <td>37.000000</td>\n",
       "      <td>84.000000</td>\n",
       "    </tr>\n",
       "    <tr>\n",
       "      <th>50%</th>\n",
       "      <td>57.000000</td>\n",
       "      <td>92.000000</td>\n",
       "    </tr>\n",
       "    <tr>\n",
       "      <th>75%</th>\n",
       "      <td>76.000000</td>\n",
       "      <td>103.000000</td>\n",
       "    </tr>\n",
       "    <tr>\n",
       "      <th>max</th>\n",
       "      <td>100.000000</td>\n",
       "      <td>2700.000000</td>\n",
       "    </tr>\n",
       "  </tbody>\n",
       "</table>\n",
       "</div>"
      ],
      "text/plain": [
       "       audienceScore  runtimeMinutes\n",
       "count   73248.000000   129431.000000\n",
       "mean       55.674967       93.708578\n",
       "std        24.553648       28.129175\n",
       "min         0.000000        1.000000\n",
       "25%        37.000000       84.000000\n",
       "50%        57.000000       92.000000\n",
       "75%        76.000000      103.000000\n",
       "max       100.000000     2700.000000"
      ]
     },
     "execution_count": 11,
     "metadata": {},
     "output_type": "execute_result"
    }
   ],
   "source": [
    "md.describe()"
   ]
  },
  {
   "cell_type": "markdown",
   "id": "112c1c5b",
   "metadata": {
    "papermill": {
     "duration": 0.039476,
     "end_time": "2023-08-13T18:14:33.517030",
     "exception": false,
     "start_time": "2023-08-13T18:14:33.477554",
     "status": "completed"
    },
    "tags": []
   },
   "source": [
    "**Loading and exploring Test dataset**"
   ]
  },
  {
   "cell_type": "code",
   "execution_count": 12,
   "id": "34b9d540",
   "metadata": {
    "execution": {
     "iopub.execute_input": "2023-08-13T18:14:33.593252Z",
     "iopub.status.busy": "2023-08-13T18:14:33.592835Z",
     "iopub.status.idle": "2023-08-13T18:14:33.916756Z",
     "shell.execute_reply": "2023-08-13T18:14:33.916018Z"
    },
    "papermill": {
     "duration": 0.364006,
     "end_time": "2023-08-13T18:14:33.918656",
     "exception": false,
     "start_time": "2023-08-13T18:14:33.554650",
     "status": "completed"
    },
    "tags": []
   },
   "outputs": [
    {
     "data": {
      "text/html": [
       "<div>\n",
       "<style scoped>\n",
       "    .dataframe tbody tr th:only-of-type {\n",
       "        vertical-align: middle;\n",
       "    }\n",
       "\n",
       "    .dataframe tbody tr th {\n",
       "        vertical-align: top;\n",
       "    }\n",
       "\n",
       "    .dataframe thead th {\n",
       "        text-align: right;\n",
       "    }\n",
       "</style>\n",
       "<table border=\"1\" class=\"dataframe\">\n",
       "  <thead>\n",
       "    <tr style=\"text-align: right;\">\n",
       "      <th></th>\n",
       "      <th>movieid</th>\n",
       "      <th>reviewerName</th>\n",
       "      <th>isTopCritic</th>\n",
       "      <th>reviewText</th>\n",
       "    </tr>\n",
       "  </thead>\n",
       "  <tbody>\n",
       "    <tr>\n",
       "      <th>0</th>\n",
       "      <td>legend_marty_mcfly_oracle</td>\n",
       "      <td>John Kim</td>\n",
       "      <td>False</td>\n",
       "      <td>Green slowly cranks up the dread with style an...</td>\n",
       "    </tr>\n",
       "    <tr>\n",
       "      <th>1</th>\n",
       "      <td>terminator_katniss_everdeen_glimmer</td>\n",
       "      <td>Brian Chaney</td>\n",
       "      <td>False</td>\n",
       "      <td>Philip Noyce's direction is elegant and unforc...</td>\n",
       "    </tr>\n",
       "    <tr>\n",
       "      <th>2</th>\n",
       "      <td>james_bond_labyrinth_gollum</td>\n",
       "      <td>Danielle Parker</td>\n",
       "      <td>False</td>\n",
       "      <td>It wouldn't do to say what path Maria ultimate...</td>\n",
       "    </tr>\n",
       "    <tr>\n",
       "      <th>3</th>\n",
       "      <td>v_quest_han_solo_wondrous</td>\n",
       "      <td>Brittany Lane</td>\n",
       "      <td>False</td>\n",
       "      <td>Pig is not exactly the arthouse John Wick that...</td>\n",
       "    </tr>\n",
       "    <tr>\n",
       "      <th>4</th>\n",
       "      <td>enigma_hulk_surreal_starlight</td>\n",
       "      <td>Justin Willis</td>\n",
       "      <td>False</td>\n",
       "      <td>An imaginative no-budget musical of sorts abou...</td>\n",
       "    </tr>\n",
       "  </tbody>\n",
       "</table>\n",
       "</div>"
      ],
      "text/plain": [
       "                               movieid     reviewerName  isTopCritic  \\\n",
       "0            legend_marty_mcfly_oracle         John Kim        False   \n",
       "1  terminator_katniss_everdeen_glimmer     Brian Chaney        False   \n",
       "2          james_bond_labyrinth_gollum  Danielle Parker        False   \n",
       "3            v_quest_han_solo_wondrous    Brittany Lane        False   \n",
       "4        enigma_hulk_surreal_starlight    Justin Willis        False   \n",
       "\n",
       "                                          reviewText  \n",
       "0  Green slowly cranks up the dread with style an...  \n",
       "1  Philip Noyce's direction is elegant and unforc...  \n",
       "2  It wouldn't do to say what path Maria ultimate...  \n",
       "3  Pig is not exactly the arthouse John Wick that...  \n",
       "4  An imaginative no-budget musical of sorts abou...  "
      ]
     },
     "execution_count": 12,
     "metadata": {},
     "output_type": "execute_result"
    }
   ],
   "source": [
    "test_data=pd.read_csv('/kaggle/input/sentiment-prediction-on-movie-reviews/test.csv')\n",
    "test_data.head()"
   ]
  },
  {
   "cell_type": "code",
   "execution_count": 13,
   "id": "ce555742",
   "metadata": {
    "execution": {
     "iopub.execute_input": "2023-08-13T18:14:33.996237Z",
     "iopub.status.busy": "2023-08-13T18:14:33.995514Z",
     "iopub.status.idle": "2023-08-13T18:14:34.035843Z",
     "shell.execute_reply": "2023-08-13T18:14:34.034725Z"
    },
    "papermill": {
     "duration": 0.0816,
     "end_time": "2023-08-13T18:14:34.038089",
     "exception": false,
     "start_time": "2023-08-13T18:14:33.956489",
     "status": "completed"
    },
    "tags": []
   },
   "outputs": [
    {
     "name": "stdout",
     "output_type": "stream",
     "text": [
      "<class 'pandas.core.frame.DataFrame'>\n",
      "RangeIndex: 55315 entries, 0 to 55314\n",
      "Data columns (total 4 columns):\n",
      " #   Column        Non-Null Count  Dtype \n",
      "---  ------        --------------  ----- \n",
      " 0   movieid       55315 non-null  object\n",
      " 1   reviewerName  55315 non-null  object\n",
      " 2   isTopCritic   55315 non-null  bool  \n",
      " 3   reviewText    52805 non-null  object\n",
      "dtypes: bool(1), object(3)\n",
      "memory usage: 1.3+ MB\n"
     ]
    }
   ],
   "source": [
    "test_data.info()"
   ]
  },
  {
   "cell_type": "code",
   "execution_count": 14,
   "id": "bb00b61a",
   "metadata": {
    "execution": {
     "iopub.execute_input": "2023-08-13T18:14:34.115433Z",
     "iopub.status.busy": "2023-08-13T18:14:34.114741Z",
     "iopub.status.idle": "2023-08-13T18:14:34.188152Z",
     "shell.execute_reply": "2023-08-13T18:14:34.187138Z"
    },
    "papermill": {
     "duration": 0.113967,
     "end_time": "2023-08-13T18:14:34.190351",
     "exception": false,
     "start_time": "2023-08-13T18:14:34.076384",
     "status": "completed"
    },
    "tags": []
   },
   "outputs": [
    {
     "data": {
      "text/html": [
       "<div>\n",
       "<style scoped>\n",
       "    .dataframe tbody tr th:only-of-type {\n",
       "        vertical-align: middle;\n",
       "    }\n",
       "\n",
       "    .dataframe tbody tr th {\n",
       "        vertical-align: top;\n",
       "    }\n",
       "\n",
       "    .dataframe thead th {\n",
       "        text-align: right;\n",
       "    }\n",
       "</style>\n",
       "<table border=\"1\" class=\"dataframe\">\n",
       "  <thead>\n",
       "    <tr style=\"text-align: right;\">\n",
       "      <th></th>\n",
       "      <th>movieid</th>\n",
       "      <th>reviewerName</th>\n",
       "      <th>isTopCritic</th>\n",
       "      <th>reviewText</th>\n",
       "    </tr>\n",
       "  </thead>\n",
       "  <tbody>\n",
       "    <tr>\n",
       "      <th>count</th>\n",
       "      <td>55315</td>\n",
       "      <td>55315</td>\n",
       "      <td>55315</td>\n",
       "      <td>52805</td>\n",
       "    </tr>\n",
       "    <tr>\n",
       "      <th>unique</th>\n",
       "      <td>16786</td>\n",
       "      <td>4495</td>\n",
       "      <td>2</td>\n",
       "      <td>52686</td>\n",
       "    </tr>\n",
       "    <tr>\n",
       "      <th>top</th>\n",
       "      <td>escape_the_terminator_tyler_durden_astonish</td>\n",
       "      <td>Sherri Morrison</td>\n",
       "      <td>False</td>\n",
       "      <td>Parental Content Review</td>\n",
       "    </tr>\n",
       "    <tr>\n",
       "      <th>freq</th>\n",
       "      <td>230</td>\n",
       "      <td>428</td>\n",
       "      <td>38428</td>\n",
       "      <td>12</td>\n",
       "    </tr>\n",
       "  </tbody>\n",
       "</table>\n",
       "</div>"
      ],
      "text/plain": [
       "                                            movieid     reviewerName  \\\n",
       "count                                         55315            55315   \n",
       "unique                                        16786             4495   \n",
       "top     escape_the_terminator_tyler_durden_astonish  Sherri Morrison   \n",
       "freq                                            230              428   \n",
       "\n",
       "       isTopCritic               reviewText  \n",
       "count        55315                    52805  \n",
       "unique           2                    52686  \n",
       "top          False  Parental Content Review  \n",
       "freq         38428                       12  "
      ]
     },
     "execution_count": 14,
     "metadata": {},
     "output_type": "execute_result"
    }
   ],
   "source": [
    "test_data.describe()"
   ]
  },
  {
   "cell_type": "code",
   "execution_count": 15,
   "id": "a89d670e",
   "metadata": {
    "execution": {
     "iopub.execute_input": "2023-08-13T18:14:34.267807Z",
     "iopub.status.busy": "2023-08-13T18:14:34.267439Z",
     "iopub.status.idle": "2023-08-13T18:14:34.300933Z",
     "shell.execute_reply": "2023-08-13T18:14:34.300236Z"
    },
    "papermill": {
     "duration": 0.073804,
     "end_time": "2023-08-13T18:14:34.302755",
     "exception": false,
     "start_time": "2023-08-13T18:14:34.228951",
     "status": "completed"
    },
    "tags": []
   },
   "outputs": [
    {
     "data": {
      "text/plain": [
       "movieid            0\n",
       "reviewerName       0\n",
       "isTopCritic        0\n",
       "reviewText      2510\n",
       "dtype: int64"
      ]
     },
     "execution_count": 15,
     "metadata": {},
     "output_type": "execute_result"
    }
   ],
   "source": [
    "test_data.isnull().sum()"
   ]
  },
  {
   "cell_type": "code",
   "execution_count": 16,
   "id": "f22930d8",
   "metadata": {
    "execution": {
     "iopub.execute_input": "2023-08-13T18:14:34.380307Z",
     "iopub.status.busy": "2023-08-13T18:14:34.379338Z",
     "iopub.status.idle": "2023-08-13T18:14:34.386234Z",
     "shell.execute_reply": "2023-08-13T18:14:34.385203Z"
    },
    "papermill": {
     "duration": 0.047417,
     "end_time": "2023-08-13T18:14:34.388416",
     "exception": false,
     "start_time": "2023-08-13T18:14:34.340999",
     "status": "completed"
    },
    "tags": []
   },
   "outputs": [
    {
     "data": {
      "text/plain": [
       "((162758, 5), (55315, 4), (143258, 14))"
      ]
     },
     "execution_count": 16,
     "metadata": {},
     "output_type": "execute_result"
    }
   ],
   "source": [
    "data.shape,test_data.shape,md.shape"
   ]
  },
  {
   "cell_type": "markdown",
   "id": "63d404fa",
   "metadata": {
    "papermill": {
     "duration": 0.037885,
     "end_time": "2023-08-13T18:14:34.467614",
     "exception": false,
     "start_time": "2023-08-13T18:14:34.429729",
     "status": "completed"
    },
    "tags": []
   },
   "source": [
    "# merging movie and train dataset"
   ]
  },
  {
   "cell_type": "code",
   "execution_count": 17,
   "id": "24708839",
   "metadata": {
    "execution": {
     "iopub.execute_input": "2023-08-13T18:14:34.545791Z",
     "iopub.status.busy": "2023-08-13T18:14:34.545111Z",
     "iopub.status.idle": "2023-08-13T18:14:34.601199Z",
     "shell.execute_reply": "2023-08-13T18:14:34.600330Z"
    },
    "papermill": {
     "duration": 0.097326,
     "end_time": "2023-08-13T18:14:34.603635",
     "exception": false,
     "start_time": "2023-08-13T18:14:34.506309",
     "status": "completed"
    },
    "tags": []
   },
   "outputs": [],
   "source": [
    "md = md.drop_duplicates(subset = 'movieid')"
   ]
  },
  {
   "cell_type": "code",
   "execution_count": 18,
   "id": "452b197f",
   "metadata": {
    "execution": {
     "iopub.execute_input": "2023-08-13T18:14:34.679998Z",
     "iopub.status.busy": "2023-08-13T18:14:34.679629Z",
     "iopub.status.idle": "2023-08-13T18:14:35.053893Z",
     "shell.execute_reply": "2023-08-13T18:14:35.052714Z"
    },
    "papermill": {
     "duration": 0.415385,
     "end_time": "2023-08-13T18:14:35.056541",
     "exception": false,
     "start_time": "2023-08-13T18:14:34.641156",
     "status": "completed"
    },
    "tags": []
   },
   "outputs": [],
   "source": [
    "merge=pd.merge(data,md,on=\"movieid\",how=\"left\")\n",
    "mer_ts=pd.merge(test_data,md,on=\"movieid\",how=\"left\")\n"
   ]
  },
  {
   "cell_type": "code",
   "execution_count": 19,
   "id": "f177e4d7",
   "metadata": {
    "execution": {
     "iopub.execute_input": "2023-08-13T18:14:35.133397Z",
     "iopub.status.busy": "2023-08-13T18:14:35.132965Z",
     "iopub.status.idle": "2023-08-13T18:14:35.139344Z",
     "shell.execute_reply": "2023-08-13T18:14:35.138546Z"
    },
    "papermill": {
     "duration": 0.047201,
     "end_time": "2023-08-13T18:14:35.141315",
     "exception": false,
     "start_time": "2023-08-13T18:14:35.094114",
     "status": "completed"
    },
    "tags": []
   },
   "outputs": [
    {
     "data": {
      "text/plain": [
       "(55315, 17)"
      ]
     },
     "execution_count": 19,
     "metadata": {},
     "output_type": "execute_result"
    }
   ],
   "source": [
    "merge.shape\n",
    "mer_ts.shape"
   ]
  },
  {
   "cell_type": "code",
   "execution_count": 20,
   "id": "4be7700b",
   "metadata": {
    "execution": {
     "iopub.execute_input": "2023-08-13T18:14:35.221551Z",
     "iopub.status.busy": "2023-08-13T18:14:35.220796Z",
     "iopub.status.idle": "2023-08-13T18:14:35.236560Z",
     "shell.execute_reply": "2023-08-13T18:14:35.235706Z"
    },
    "papermill": {
     "duration": 0.058286,
     "end_time": "2023-08-13T18:14:35.238688",
     "exception": false,
     "start_time": "2023-08-13T18:14:35.180402",
     "status": "completed"
    },
    "tags": []
   },
   "outputs": [
    {
     "data": {
      "text/plain": [
       "array([nan, '$115.7M', '$7.6M', ..., '$210.0K', '$111.2K', '$799.4K'],\n",
       "      dtype=object)"
      ]
     },
     "execution_count": 20,
     "metadata": {},
     "output_type": "execute_result"
    }
   ],
   "source": [
    "merge.boxOffice.unique()"
   ]
  },
  {
   "cell_type": "markdown",
   "id": "9fc78330",
   "metadata": {
    "papermill": {
     "duration": 0.037264,
     "end_time": "2023-08-13T18:14:35.313768",
     "exception": false,
     "start_time": "2023-08-13T18:14:35.276504",
     "status": "completed"
    },
    "tags": []
   },
   "source": [
    "Here we can change boxoffice column to float "
   ]
  },
  {
   "cell_type": "code",
   "execution_count": 21,
   "id": "5d74f537",
   "metadata": {
    "execution": {
     "iopub.execute_input": "2023-08-13T18:14:35.449936Z",
     "iopub.status.busy": "2023-08-13T18:14:35.448924Z",
     "iopub.status.idle": "2023-08-13T18:14:35.685665Z",
     "shell.execute_reply": "2023-08-13T18:14:35.684625Z"
    },
    "papermill": {
     "duration": 0.336721,
     "end_time": "2023-08-13T18:14:35.688240",
     "exception": false,
     "start_time": "2023-08-13T18:14:35.351519",
     "status": "completed"
    },
    "tags": []
   },
   "outputs": [],
   "source": [
    "# Step 1: Remove currency symbols and non-numeric characters\n",
    "merge['boxOffice'] = merge['boxOffice'].str.replace(r'[^\\d.]', '', regex=True)\n",
    "\n",
    "# Step 2: Handle missing values (convert NaN to 0)\n",
    "merge['boxOffice'].fillna('0', inplace=True)\n",
    "\n",
    "# Step 3: Convert to float\n",
    "merge['boxOffice'] = merge['boxOffice'].astype(float)\n",
    "\n",
    "\n",
    "# Step 1: Remove currency symbols and non-numeric characters\n",
    "mer_ts['boxOffice'] = mer_ts['boxOffice'].str.replace(r'[^\\d.]', '', regex=True)\n",
    "\n",
    "# Step 2: Handle missing values (convert NaN to 0)\n",
    "\n",
    "mer_ts['boxOffice'].fillna('0', inplace=True)\n",
    "\n",
    "# Step 3: Convert to float\n",
    "mer_ts['boxOffice'] = mer_ts['boxOffice'].astype(float)"
   ]
  },
  {
   "cell_type": "code",
   "execution_count": 22,
   "id": "2cac98ca",
   "metadata": {
    "execution": {
     "iopub.execute_input": "2023-08-13T18:14:35.766616Z",
     "iopub.status.busy": "2023-08-13T18:14:35.766231Z",
     "iopub.status.idle": "2023-08-13T18:14:35.807525Z",
     "shell.execute_reply": "2023-08-13T18:14:35.806479Z"
    },
    "papermill": {
     "duration": 0.083249,
     "end_time": "2023-08-13T18:14:35.809616",
     "exception": false,
     "start_time": "2023-08-13T18:14:35.726367",
     "status": "completed"
    },
    "tags": []
   },
   "outputs": [
    {
     "data": {
      "text/html": [
       "<div>\n",
       "<style scoped>\n",
       "    .dataframe tbody tr th:only-of-type {\n",
       "        vertical-align: middle;\n",
       "    }\n",
       "\n",
       "    .dataframe tbody tr th {\n",
       "        vertical-align: top;\n",
       "    }\n",
       "\n",
       "    .dataframe thead th {\n",
       "        text-align: right;\n",
       "    }\n",
       "</style>\n",
       "<table border=\"1\" class=\"dataframe\">\n",
       "  <thead>\n",
       "    <tr style=\"text-align: right;\">\n",
       "      <th></th>\n",
       "      <th>audienceScore</th>\n",
       "      <th>runtimeMinutes</th>\n",
       "      <th>boxOffice</th>\n",
       "    </tr>\n",
       "  </thead>\n",
       "  <tbody>\n",
       "    <tr>\n",
       "      <th>count</th>\n",
       "      <td>149510.000000</td>\n",
       "      <td>159382.000000</td>\n",
       "      <td>162758.000000</td>\n",
       "    </tr>\n",
       "    <tr>\n",
       "      <th>mean</th>\n",
       "      <td>65.214541</td>\n",
       "      <td>106.911828</td>\n",
       "      <td>76.177784</td>\n",
       "    </tr>\n",
       "    <tr>\n",
       "      <th>std</th>\n",
       "      <td>19.937695</td>\n",
       "      <td>22.138131</td>\n",
       "      <td>152.614432</td>\n",
       "    </tr>\n",
       "    <tr>\n",
       "      <th>min</th>\n",
       "      <td>0.000000</td>\n",
       "      <td>4.000000</td>\n",
       "      <td>0.000000</td>\n",
       "    </tr>\n",
       "    <tr>\n",
       "      <th>25%</th>\n",
       "      <td>51.000000</td>\n",
       "      <td>93.000000</td>\n",
       "      <td>0.000000</td>\n",
       "    </tr>\n",
       "    <tr>\n",
       "      <th>50%</th>\n",
       "      <td>68.000000</td>\n",
       "      <td>104.000000</td>\n",
       "      <td>13.400000</td>\n",
       "    </tr>\n",
       "    <tr>\n",
       "      <th>75%</th>\n",
       "      <td>82.000000</td>\n",
       "      <td>118.000000</td>\n",
       "      <td>72.100000</td>\n",
       "    </tr>\n",
       "    <tr>\n",
       "      <th>max</th>\n",
       "      <td>100.000000</td>\n",
       "      <td>561.000000</td>\n",
       "      <td>992.300000</td>\n",
       "    </tr>\n",
       "  </tbody>\n",
       "</table>\n",
       "</div>"
      ],
      "text/plain": [
       "       audienceScore  runtimeMinutes      boxOffice\n",
       "count  149510.000000   159382.000000  162758.000000\n",
       "mean       65.214541      106.911828      76.177784\n",
       "std        19.937695       22.138131     152.614432\n",
       "min         0.000000        4.000000       0.000000\n",
       "25%        51.000000       93.000000       0.000000\n",
       "50%        68.000000      104.000000      13.400000\n",
       "75%        82.000000      118.000000      72.100000\n",
       "max       100.000000      561.000000     992.300000"
      ]
     },
     "execution_count": 22,
     "metadata": {},
     "output_type": "execute_result"
    }
   ],
   "source": [
    "merge.describe()"
   ]
  },
  {
   "cell_type": "markdown",
   "id": "92f215be",
   "metadata": {
    "papermill": {
     "duration": 0.03792,
     "end_time": "2023-08-13T18:14:35.885686",
     "exception": false,
     "start_time": "2023-08-13T18:14:35.847766",
     "status": "completed"
    },
    "tags": []
   },
   "source": [
    "1. The median audience score (50th percentile) is 68, which is higher than the mean, indicating a slightly positively skewed distribution.\n",
    "2. The audience score has a standard deviation of 19.93, indicating some variability in the ratings.\n",
    "3. The median runtime (50th percentile) is 100 minutes, which is close to the mean, suggesting a roughly symmetrical distribution.\n",
    "4. The median box office revenue (50th percentile) is 13.4, also the 25th percentile value, indicating that a significant portion of movies in the dataset did not report any box office revenue.\n",
    "5. The 75th percentile value is 72.1, which means 75% of movies in the dataset had box office revenue less than 72.1 , while the maximum revenue is 999.4, suggesting that there are some successful movies in the dataset."
   ]
  },
  {
   "cell_type": "code",
   "execution_count": 23,
   "id": "654c849b",
   "metadata": {
    "execution": {
     "iopub.execute_input": "2023-08-13T18:14:35.963725Z",
     "iopub.status.busy": "2023-08-13T18:14:35.962818Z",
     "iopub.status.idle": "2023-08-13T18:14:36.318120Z",
     "shell.execute_reply": "2023-08-13T18:14:36.316975Z"
    },
    "papermill": {
     "duration": 0.396903,
     "end_time": "2023-08-13T18:14:36.320617",
     "exception": false,
     "start_time": "2023-08-13T18:14:35.923714",
     "status": "completed"
    },
    "tags": []
   },
   "outputs": [
    {
     "data": {
      "text/plain": [
       "movieid                     0\n",
       "reviewerName                0\n",
       "isFrequentReviewer          0\n",
       "reviewText               6447\n",
       "sentiment                   0\n",
       "title                       0\n",
       "audienceScore           13248\n",
       "rating                  63724\n",
       "ratingContents          63724\n",
       "releaseDateTheaters     35834\n",
       "releaseDateStreaming    16185\n",
       "runtimeMinutes           3376\n",
       "genre                    2438\n",
       "originalLanguage         3290\n",
       "director                    0\n",
       "boxOffice                   0\n",
       "distributor             40663\n",
       "soundType               85367\n",
       "dtype: int64"
      ]
     },
     "execution_count": 23,
     "metadata": {},
     "output_type": "execute_result"
    }
   ],
   "source": [
    "merge.isnull().sum()"
   ]
  },
  {
   "cell_type": "code",
   "execution_count": 24,
   "id": "22c4e521",
   "metadata": {
    "execution": {
     "iopub.execute_input": "2023-08-13T18:14:36.399352Z",
     "iopub.status.busy": "2023-08-13T18:14:36.398955Z",
     "iopub.status.idle": "2023-08-13T18:14:36.775113Z",
     "shell.execute_reply": "2023-08-13T18:14:36.774370Z"
    },
    "papermill": {
     "duration": 0.418061,
     "end_time": "2023-08-13T18:14:36.777316",
     "exception": false,
     "start_time": "2023-08-13T18:14:36.359255",
     "status": "completed"
    },
    "tags": []
   },
   "outputs": [
    {
     "name": "stdout",
     "output_type": "stream",
     "text": [
      "<class 'pandas.core.frame.DataFrame'>\n",
      "Int64Index: 162758 entries, 0 to 162757\n",
      "Data columns (total 18 columns):\n",
      " #   Column                Non-Null Count   Dtype  \n",
      "---  ------                --------------   -----  \n",
      " 0   movieid               162758 non-null  object \n",
      " 1   reviewerName          162758 non-null  object \n",
      " 2   isFrequentReviewer    162758 non-null  bool   \n",
      " 3   reviewText            156311 non-null  object \n",
      " 4   sentiment             162758 non-null  object \n",
      " 5   title                 162758 non-null  object \n",
      " 6   audienceScore         149510 non-null  float64\n",
      " 7   rating                99034 non-null   object \n",
      " 8   ratingContents        99034 non-null   object \n",
      " 9   releaseDateTheaters   126924 non-null  object \n",
      " 10  releaseDateStreaming  146573 non-null  object \n",
      " 11  runtimeMinutes        159382 non-null  float64\n",
      " 12  genre                 160320 non-null  object \n",
      " 13  originalLanguage      159468 non-null  object \n",
      " 14  director              162758 non-null  object \n",
      " 15  boxOffice             162758 non-null  float64\n",
      " 16  distributor           122095 non-null  object \n",
      " 17  soundType             77391 non-null   object \n",
      "dtypes: bool(1), float64(3), object(14)\n",
      "memory usage: 22.5+ MB\n"
     ]
    }
   ],
   "source": [
    "merge.info()"
   ]
  },
  {
   "cell_type": "markdown",
   "id": "beb75622",
   "metadata": {
    "papermill": {
     "duration": 0.037899,
     "end_time": "2023-08-13T18:14:36.854207",
     "exception": false,
     "start_time": "2023-08-13T18:14:36.816308",
     "status": "completed"
    },
    "tags": []
   },
   "source": [
    "**Handling Missing Values**"
   ]
  },
  {
   "cell_type": "code",
   "execution_count": 25,
   "id": "2a5a2967",
   "metadata": {
    "execution": {
     "iopub.execute_input": "2023-08-13T18:14:36.933356Z",
     "iopub.status.busy": "2023-08-13T18:14:36.932451Z",
     "iopub.status.idle": "2023-08-13T18:14:36.970364Z",
     "shell.execute_reply": "2023-08-13T18:14:36.969536Z"
    },
    "papermill": {
     "duration": 0.0796,
     "end_time": "2023-08-13T18:14:36.972585",
     "exception": false,
     "start_time": "2023-08-13T18:14:36.892985",
     "status": "completed"
    },
    "tags": []
   },
   "outputs": [],
   "source": [
    "data['reviewText'].fillna(\" \",inplace=True)\n",
    "merge['reviewText'].fillna(\" \",inplace=True)\n",
    "mer_ts['reviewText'].fillna(\" \",inplace=True)"
   ]
  },
  {
   "cell_type": "markdown",
   "id": "c07f7fc0",
   "metadata": {
    "papermill": {
     "duration": 0.03853,
     "end_time": "2023-08-13T18:14:37.050549",
     "exception": false,
     "start_time": "2023-08-13T18:14:37.012019",
     "status": "completed"
    },
    "tags": []
   },
   "source": [
    "# Data Visualisation"
   ]
  },
  {
   "cell_type": "code",
   "execution_count": 26,
   "id": "2a7db86f",
   "metadata": {
    "execution": {
     "iopub.execute_input": "2023-08-13T18:14:37.129415Z",
     "iopub.status.busy": "2023-08-13T18:14:37.128839Z",
     "iopub.status.idle": "2023-08-13T18:14:37.535708Z",
     "shell.execute_reply": "2023-08-13T18:14:37.534682Z"
    },
    "papermill": {
     "duration": 0.449045,
     "end_time": "2023-08-13T18:14:37.538092",
     "exception": false,
     "start_time": "2023-08-13T18:14:37.089047",
     "status": "completed"
    },
    "tags": []
   },
   "outputs": [
    {
     "data": {
      "text/plain": [
       "<Axes: xlabel='sentiment', ylabel='count'>"
      ]
     },
     "execution_count": 26,
     "metadata": {},
     "output_type": "execute_result"
    },
    {
     "data": {
      "image/png": "[encoded data removed]",
      "text/plain": [
       "<Figure size 640x480 with 1 Axes>"
      ]
     },
     "metadata": {},
     "output_type": "display_data"
    }
   ],
   "source": [
    "sns.countplot(x = 'sentiment',data = data)\n",
    "sns.countplot(x = 'sentiment',data = merge)"
   ]
  },
  {
   "cell_type": "code",
   "execution_count": 27,
   "id": "f3c28b6a",
   "metadata": {
    "execution": {
     "iopub.execute_input": "2023-08-13T18:14:37.618720Z",
     "iopub.status.busy": "2023-08-13T18:14:37.618320Z",
     "iopub.status.idle": "2023-08-13T18:14:37.623001Z",
     "shell.execute_reply": "2023-08-13T18:14:37.622175Z"
    },
    "papermill": {
     "duration": 0.047801,
     "end_time": "2023-08-13T18:14:37.625045",
     "exception": false,
     "start_time": "2023-08-13T18:14:37.577244",
     "status": "completed"
    },
    "tags": []
   },
   "outputs": [],
   "source": [
    "# # WordCloud of all reviews on merge\n",
    "# all_words=' '.join(text for text in merge['reviewText'])\n",
    "# from wordcloud import WordCloud\n",
    "# wordcloud = WordCloud(width=800, height=500, random_state=21, max_font_size=110).generate(all_words)\n",
    "# plt.figure(figsize=(6,6))\n",
    "# plt.title('Merge reviews')\n",
    "# plt.imshow(wordcloud, interpolation=\"bilinear\")\n",
    "# plt.axis('off')\n",
    "# plt.show()\n",
    "\n",
    "# # WordCloud of all reviews\n",
    "# all_words=' '.join(text for text in data['reviewText'])\n",
    "# from wordcloud import WordCloud\n",
    "# wordcloud = WordCloud(width=800, height=500, random_state=21, max_font_size=110).generate(all_words)\n",
    "# plt.figure(figsize=(6,6))\n",
    "# plt.title('Train reviews')\n",
    "# plt.imshow(wordcloud, interpolation=\"bilinear\")\n",
    "# plt.axis('off')\n",
    "# plt.show()"
   ]
  },
  {
   "cell_type": "markdown",
   "id": "3df1635f",
   "metadata": {
    "papermill": {
     "duration": 0.03969,
     "end_time": "2023-08-13T18:14:37.704452",
     "exception": false,
     "start_time": "2023-08-13T18:14:37.664762",
     "status": "completed"
    },
    "tags": []
   },
   "source": [
    "word cloud seems different for both"
   ]
  },
  {
   "cell_type": "code",
   "execution_count": 28,
   "id": "44207098",
   "metadata": {
    "execution": {
     "iopub.execute_input": "2023-08-13T18:14:37.787042Z",
     "iopub.status.busy": "2023-08-13T18:14:37.786426Z",
     "iopub.status.idle": "2023-08-13T18:14:37.791133Z",
     "shell.execute_reply": "2023-08-13T18:14:37.790190Z"
    },
    "papermill": {
     "duration": 0.047465,
     "end_time": "2023-08-13T18:14:37.793152",
     "exception": false,
     "start_time": "2023-08-13T18:14:37.745687",
     "status": "completed"
    },
    "tags": []
   },
   "outputs": [],
   "source": [
    "# # WordCloud of positive reviews on merge\n",
    "# pos_words=' '.join([text for text in merge['reviewText'][merge['sentiment']==\"POSITIVE\"]])\n",
    "# from wordcloud import WordCloud\n",
    "# wordcloud = WordCloud(width=800, height=500, random_state=21, max_font_size=110).generate(pos_words)\n",
    "# plt.figure(figsize=(6,6))\n",
    "# plt.title('Merge Positive reviews')\n",
    "# plt.imshow(wordcloud, interpolation=\"bilinear\")\n",
    "# plt.axis('off')\n",
    "# plt.show()\n",
    "\n",
    "# # WordCloud of positive reviews\n",
    "# pos_words=' '.join([text for text in data['reviewText'][data['sentiment']==\"POSITIVE\"]])\n",
    "# from wordcloud import WordCloud\n",
    "# wordcloud = WordCloud(width=800, height=500, random_state=21, max_font_size=110).generate(pos_words)\n",
    "# plt.figure(figsize=(6,6))\n",
    "# plt.title('Train Positive Reviews')\n",
    "# plt.imshow(wordcloud, interpolation=\"bilinear\")\n",
    "# plt.axis('off')\n",
    "# plt.show()"
   ]
  },
  {
   "cell_type": "code",
   "execution_count": 29,
   "id": "321e9fe0",
   "metadata": {
    "execution": {
     "iopub.execute_input": "2023-08-13T18:14:37.873492Z",
     "iopub.status.busy": "2023-08-13T18:14:37.872786Z",
     "iopub.status.idle": "2023-08-13T18:14:37.876884Z",
     "shell.execute_reply": "2023-08-13T18:14:37.876234Z"
    },
    "papermill": {
     "duration": 0.046169,
     "end_time": "2023-08-13T18:14:37.878690",
     "exception": false,
     "start_time": "2023-08-13T18:14:37.832521",
     "status": "completed"
    },
    "tags": []
   },
   "outputs": [],
   "source": [
    "# # WordCloud of negative reviews on merge\n",
    "# neg_words=' '.join([text for text in merge['reviewText'][merge['sentiment']==\"NEGATIVE\"]])\n",
    "# from wordcloud import WordCloud\n",
    "# wordcloud = WordCloud(width=800, height=500, random_state=21, max_font_size=110).generate(neg_words)\n",
    "# plt.figure(figsize=(6,6))\n",
    "# plt.title('Merge Negative Reviews')\n",
    "# plt.imshow(wordcloud, interpolation=\"bilinear\")\n",
    "# plt.axis('off')\n",
    "# plt.show()\n",
    "\n",
    "\n",
    "# # WordCloud of negative reviews \n",
    "# neg_words=' '.join([text for text in data['reviewText'][data['sentiment']==\"NEGATIVE\"]])\n",
    "# from wordcloud import WordCloud\n",
    "# wordcloud = WordCloud(width=800, height=500, random_state=21, max_font_size=110).generate(neg_words)\n",
    "# plt.figure(figsize=(6,6))\n",
    "# plt.title('Train Negative Reviews')\n",
    "# plt.imshow(wordcloud, interpolation=\"bilinear\")\n",
    "# plt.axis('off')\n",
    "# plt.show()"
   ]
  },
  {
   "cell_type": "markdown",
   "id": "16549c59",
   "metadata": {
    "papermill": {
     "duration": 0.037847,
     "end_time": "2023-08-13T18:14:37.955374",
     "exception": false,
     "start_time": "2023-08-13T18:14:37.917527",
     "status": "completed"
    },
    "tags": []
   },
   "source": [
    "From Wordcloud , i can observe words are different after merging movies dataset.\n",
    "\n",
    "in movie dataset sentiment column is not there due to which in train word positive words and negative words are more visible"
   ]
  },
  {
   "cell_type": "code",
   "execution_count": 30,
   "id": "f8290eab",
   "metadata": {
    "execution": {
     "iopub.execute_input": "2023-08-13T18:14:38.035077Z",
     "iopub.status.busy": "2023-08-13T18:14:38.034037Z",
     "iopub.status.idle": "2023-08-13T18:14:38.038409Z",
     "shell.execute_reply": "2023-08-13T18:14:38.037627Z"
    },
    "papermill": {
     "duration": 0.046575,
     "end_time": "2023-08-13T18:14:38.040366",
     "exception": false,
     "start_time": "2023-08-13T18:14:37.993791",
     "status": "completed"
    },
    "tags": []
   },
   "outputs": [],
   "source": [
    "# # Countplot for 'movieid' of Train data\n",
    "# plt.figure(figsize=(6, 6))\n",
    "# sns.countplot(x='movieid', data=data)\n",
    "# plt.title('Count of Occurrences for each MovieID')\n",
    "# plt.xlabel('MovieID')\n",
    "# plt.ylabel('Count')\n",
    "# plt.show()\n",
    "\n",
    "# # Countplot for 'reviewerName' of Train data\n",
    "# plt.figure(figsize=(6, 6))\n",
    "# sns.countplot(x='reviewerName', data=data)\n",
    "# plt.title('Count of Occurrences for each Reviewer Name')\n",
    "# plt.xlabel('Reviewer Name')\n",
    "# plt.ylabel('Count')\n",
    "# plt.show()"
   ]
  },
  {
   "cell_type": "markdown",
   "id": "3911fcbc",
   "metadata": {
    "papermill": {
     "duration": 0.038191,
     "end_time": "2023-08-13T18:14:38.117288",
     "exception": false,
     "start_time": "2023-08-13T18:14:38.079097",
     "status": "completed"
    },
    "tags": []
   },
   "source": [
    "most of the veviewer names are repeated , two reviewers are having count approx 600 maximum\n"
   ]
  },
  {
   "cell_type": "code",
   "execution_count": 31,
   "id": "1d3b1872",
   "metadata": {
    "execution": {
     "iopub.execute_input": "2023-08-13T18:14:38.196109Z",
     "iopub.status.busy": "2023-08-13T18:14:38.195731Z",
     "iopub.status.idle": "2023-08-13T18:14:38.200930Z",
     "shell.execute_reply": "2023-08-13T18:14:38.199963Z"
    },
    "papermill": {
     "duration": 0.047312,
     "end_time": "2023-08-13T18:14:38.203248",
     "exception": false,
     "start_time": "2023-08-13T18:14:38.155936",
     "status": "completed"
    },
    "tags": []
   },
   "outputs": [],
   "source": [
    "# # Plotting histogram of audienceScore of merge\n",
    "# plt.figure(figsize=(8, 6))\n",
    "# sns.histplot(merge['audienceScore'].dropna(), bins=20, kde=True)\n",
    "# plt.title('Audience Score Distribution')\n",
    "# plt.xlabel('Audience Score')\n",
    "# plt.ylabel('Count')\n",
    "# plt.show()\n",
    "\n",
    "# # Plotting scatter plot of audienceScore and runtimeMinutes of merge\n",
    "# plt.figure(figsize=(8, 6))\n",
    "# sns.scatterplot(x='audienceScore', y='runtimeMinutes', data=merge)\n",
    "# plt.title('Audience Score vs. Runtime')\n",
    "# plt.xlabel('Audience Score')\n",
    "# plt.ylabel('Runtime (Minutes)')\n",
    "# plt.show()\n",
    "\n",
    "# # Plotting scatter plot of audienceScore and boxoffice of merge\n",
    "# plt.figure(figsize=(8, 6))\n",
    "# sns.scatterplot(x='audienceScore', y='boxOffice', data=merge)\n",
    "# plt.title('Audience Score vs. box-office ')\n",
    "# plt.xlabel('Audience Score')\n",
    "# plt.ylabel('Box-Office')\n",
    "# plt.show()\n",
    "\n",
    "# # Plotting histogram of BoxOffice of merge\n",
    "# plt.figure(figsize=(8, 6))\n",
    "# sns.histplot(merge['boxOffice'], bins=20, kde=True)\n",
    "# plt.title('Audience Score Distribution')\n",
    "# plt.xlabel('Audience Score')\n",
    "# plt.ylabel('Count')\n",
    "# plt.show()\n"
   ]
  },
  {
   "cell_type": "markdown",
   "id": "14495f52",
   "metadata": {
    "papermill": {
     "duration": 0.038325,
     "end_time": "2023-08-13T18:14:38.280493",
     "exception": false,
     "start_time": "2023-08-13T18:14:38.242168",
     "status": "completed"
    },
    "tags": []
   },
   "source": [
    "75-90 have most count in Audience Score\n",
    "\n",
    "Runtime upto 200 covers most of the Audience Score"
   ]
  },
  {
   "cell_type": "code",
   "execution_count": 32,
   "id": "d3153204",
   "metadata": {
    "execution": {
     "iopub.execute_input": "2023-08-13T18:14:38.359810Z",
     "iopub.status.busy": "2023-08-13T18:14:38.359419Z",
     "iopub.status.idle": "2023-08-13T18:14:38.363582Z",
     "shell.execute_reply": "2023-08-13T18:14:38.362596Z"
    },
    "papermill": {
     "duration": 0.046408,
     "end_time": "2023-08-13T18:14:38.365675",
     "exception": false,
     "start_time": "2023-08-13T18:14:38.319267",
     "status": "completed"
    },
    "tags": []
   },
   "outputs": [],
   "source": [
    "# merge['releaseDateTheaters'] = pd.to_datetime(merge['releaseDateTheaters'])\n",
    "# plt.figure(figsize=(12, 6))\n",
    "# sns.lineplot(x='releaseDateTheaters', y='audienceScore', data=merge)\n",
    "# plt.title('Audience Score Trend by Release Date in Theaters')\n",
    "# plt.xlabel('Release Date in Theaters')\n",
    "# plt.ylabel('Audience Score')\n",
    "# plt.xticks(rotation=45)\n",
    "# plt.show()"
   ]
  },
  {
   "cell_type": "markdown",
   "id": "fbf5c43b",
   "metadata": {
    "papermill": {
     "duration": 0.039813,
     "end_time": "2023-08-13T18:14:38.444417",
     "exception": false,
     "start_time": "2023-08-13T18:14:38.404604",
     "status": "completed"
    },
    "tags": []
   },
   "source": [
    "# Data Pre-Processing on Merge data"
   ]
  },
  {
   "cell_type": "code",
   "execution_count": 33,
   "id": "f411dae5",
   "metadata": {
    "execution": {
     "iopub.execute_input": "2023-08-13T18:14:38.523669Z",
     "iopub.status.busy": "2023-08-13T18:14:38.523301Z",
     "iopub.status.idle": "2023-08-13T18:14:38.571227Z",
     "shell.execute_reply": "2023-08-13T18:14:38.570162Z"
    },
    "papermill": {
     "duration": 0.090274,
     "end_time": "2023-08-13T18:14:38.573691",
     "exception": false,
     "start_time": "2023-08-13T18:14:38.483417",
     "status": "completed"
    },
    "tags": []
   },
   "outputs": [],
   "source": [
    "drp_clm=['releaseDateTheaters','releaseDateStreaming','soundType','distributor']\n",
    "merge = merge.drop(columns=drp_clm)\n",
    "mer_ts = mer_ts.drop(columns=drp_clm)"
   ]
  },
  {
   "cell_type": "code",
   "execution_count": 34,
   "id": "b5da9620",
   "metadata": {
    "execution": {
     "iopub.execute_input": "2023-08-13T18:14:38.653629Z",
     "iopub.status.busy": "2023-08-13T18:14:38.653260Z",
     "iopub.status.idle": "2023-08-13T18:14:38.810335Z",
     "shell.execute_reply": "2023-08-13T18:14:38.809305Z"
    },
    "papermill": {
     "duration": 0.200319,
     "end_time": "2023-08-13T18:14:38.813334",
     "exception": false,
     "start_time": "2023-08-13T18:14:38.613015",
     "status": "completed"
    },
    "tags": []
   },
   "outputs": [],
   "source": [
    "merge['audienceScore'] = merge['audienceScore'].fillna(merge['audienceScore'].mean())\n",
    "merge['runtimeMinutes'] = merge['runtimeMinutes'].fillna(merge['runtimeMinutes'].median())\n",
    "merge['rating']= merge['rating'].fillna(merge['rating'].mode().iloc[0])\n",
    "merge['ratingContents']=merge['ratingContents'].fillna(merge['ratingContents'].mode().iloc[0])\n",
    "merge['genre']=merge['genre'].fillna(merge['genre'].mode().iloc[0])\n",
    "merge['originalLanguage']=merge['originalLanguage'].fillna(merge['originalLanguage'].mode().iloc[0])\n",
    "\n",
    "mer_ts['audienceScore'] = mer_ts['audienceScore'].fillna(mer_ts['audienceScore'].mean())\n",
    "mer_ts['runtimeMinutes'] =mer_ts['runtimeMinutes'].fillna(mer_ts['runtimeMinutes'].median())\n",
    "mer_ts['rating']= mer_ts['rating'].fillna(mer_ts['rating'].mode().iloc[0])\n",
    "mer_ts['ratingContents']=mer_ts['ratingContents'].fillna(mer_ts['ratingContents'].mode().iloc[0])\n",
    "mer_ts['genre']=mer_ts['genre'].fillna(mer_ts['genre'].mode().iloc[0])\n",
    "mer_ts['originalLanguage']=mer_ts['originalLanguage'].fillna(mer_ts['originalLanguage'].mode().iloc[0])\n"
   ]
  },
  {
   "cell_type": "code",
   "execution_count": 35,
   "id": "982f6e12",
   "metadata": {
    "execution": {
     "iopub.execute_input": "2023-08-13T18:14:38.907982Z",
     "iopub.status.busy": "2023-08-13T18:14:38.907625Z",
     "iopub.status.idle": "2023-08-13T18:14:38.912428Z",
     "shell.execute_reply": "2023-08-13T18:14:38.911459Z"
    },
    "papermill": {
     "duration": 0.05763,
     "end_time": "2023-08-13T18:14:38.914667",
     "exception": false,
     "start_time": "2023-08-13T18:14:38.857037",
     "status": "completed"
    },
    "tags": []
   },
   "outputs": [],
   "source": [
    "# from sklearn.impute import SimpleImputer\n",
    "# from sklearn.compose import ColumnTransformer\n",
    "\n",
    "# #  SimpleImputer with strategy='most_frequent' for categorical columns\n",
    "# #  SimpleImputer with strategy='mean' for numerical columns\n",
    "# imputer_categorical = SimpleImputer(strategy='most_frequent')\n",
    "# imputer_numerical = SimpleImputer(strategy='mean')\n",
    "\n",
    "# #  ColumnTransformer with pipelines for different column types\n",
    "# preprocess = ColumnTransformer(\n",
    "#     transformers=[\n",
    "#         ('numerical', Pipeline([('imputer', imputer_numerical)]),['audienceScore', 'runtimeMinutes']),\n",
    "#         ('categorical', Pipeline([('imputer', imputer_categorical)]),['rating', 'ratingContents','genre','originalLanguage'])\n",
    "#     ],\n",
    "# )\n",
    "\n",
    "# # Fit and transform the data using the preprocessing pipeline\n",
    "# merge_trans = preprocess.fit_transform(merge)\n",
    "\n",
    "# # convert the transformed data to a DataFrame\n",
    "# column = ['reviewerName', 'isFrequentReviewer', 'reviewText', 'sentiment', 'title', 'audienceScore', 'rating', 'ratingContents']\n",
    "# mrg_tran = pd.DataFrame(merge_trans, columns=columns)\n",
    "\n"
   ]
  },
  {
   "cell_type": "markdown",
   "id": "446a70ff",
   "metadata": {
    "papermill": {
     "duration": 0.043722,
     "end_time": "2023-08-13T18:14:38.998566",
     "exception": false,
     "start_time": "2023-08-13T18:14:38.954844",
     "status": "completed"
    },
    "tags": []
   },
   "source": [
    "(a) Text Cleaning\n",
    "\n",
    "Firstly, to avoid the difference brought from case sensitivity, all words were transferred into lower case. Since the main feature required to be analyzed was the words conveying, punctuations and HTML tags were removed. In addition, some people may prefer to use punctuations as the emotion symbols, thus the emotion characters were remained and placed at the end of sentence."
   ]
  },
  {
   "cell_type": "code",
   "execution_count": 36,
   "id": "cad21046",
   "metadata": {
    "execution": {
     "iopub.execute_input": "2023-08-13T18:14:39.079797Z",
     "iopub.status.busy": "2023-08-13T18:14:39.078535Z",
     "iopub.status.idle": "2023-08-13T18:14:39.085864Z",
     "shell.execute_reply": "2023-08-13T18:14:39.084811Z"
    },
    "papermill": {
     "duration": 0.050195,
     "end_time": "2023-08-13T18:14:39.087936",
     "exception": false,
     "start_time": "2023-08-13T18:14:39.037741",
     "status": "completed"
    },
    "tags": []
   },
   "outputs": [],
   "source": [
    "#converting all object type column to clean text ie; in lower case with any symbol or puncuatuation marks\n",
    "import re\n",
    "def preprocessor(text):\n",
    "    # Remove HTML tags\n",
    "    text = re.sub('<[^>]*>', '', text)\n",
    "    \n",
    "    # Find and remove emoticons\n",
    "    emoticons = re.findall('(?::|;|=)(?:-)?(?:\\)|\\(|D|P)', text)\n",
    "    \n",
    "    # Remove non-word characters, including underscores\n",
    "    text = re.sub('[\\W_]+', ' ', text.lower()) + ' '.join(emoticons).replace('-', '')\n",
    "    \n",
    "    return text\n"
   ]
  },
  {
   "cell_type": "code",
   "execution_count": 37,
   "id": "d18021ee",
   "metadata": {
    "execution": {
     "iopub.execute_input": "2023-08-13T18:14:39.172649Z",
     "iopub.status.busy": "2023-08-13T18:14:39.172295Z",
     "iopub.status.idle": "2023-08-13T18:14:50.420222Z",
     "shell.execute_reply": "2023-08-13T18:14:50.419313Z"
    },
    "papermill": {
     "duration": 11.29062,
     "end_time": "2023-08-13T18:14:50.422671",
     "exception": false,
     "start_time": "2023-08-13T18:14:39.132051",
     "status": "completed"
    },
    "tags": []
   },
   "outputs": [],
   "source": [
    "columns_to_preprocess = [\n",
    "    'reviewText', 'reviewerName', 'title', 'rating', 'ratingContents',\n",
    "    'genre', 'originalLanguage', 'director', 'movieid'\n",
    "]\n",
    "\n",
    "# Apply preprocessor to each column in the 'merge' DataFrame\n",
    "for column in columns_to_preprocess:\n",
    "    merge[column] = merge[column].apply(preprocessor)\n",
    "\n",
    "# Apply preprocessor to each column in the 'mer_ts' DataFrame\n",
    "for column in columns_to_preprocess:\n",
    "    mer_ts[column] = mer_ts[column].apply(preprocessor)"
   ]
  },
  {
   "cell_type": "markdown",
   "id": "502c17a1",
   "metadata": {
    "papermill": {
     "duration": 0.040313,
     "end_time": "2023-08-13T18:14:50.501822",
     "exception": false,
     "start_time": "2023-08-13T18:14:50.461509",
     "status": "completed"
    },
    "tags": []
   },
   "source": [
    "b) Text tokenization is the important step in the NLP. It is a way of separating a piece of text into smaller units called tokens. In this project, token was the word extracted from the clear review which has been implemented data cleaning. 2 types of tokenization were tried in this project.\n",
    "\n",
    "One was called tokenizer which just split the sentence into word.another is called stemmer which group similar word into the same group."
   ]
  },
  {
   "cell_type": "code",
   "execution_count": 38,
   "id": "508f89fb",
   "metadata": {
    "execution": {
     "iopub.execute_input": "2023-08-13T18:14:50.581055Z",
     "iopub.status.busy": "2023-08-13T18:14:50.580669Z",
     "iopub.status.idle": "2023-08-13T18:14:50.587392Z",
     "shell.execute_reply": "2023-08-13T18:14:50.586430Z"
    },
    "papermill": {
     "duration": 0.0487,
     "end_time": "2023-08-13T18:14:50.589553",
     "exception": false,
     "start_time": "2023-08-13T18:14:50.540853",
     "status": "completed"
    },
    "tags": []
   },
   "outputs": [],
   "source": [
    "import re\n",
    "def tokenizer(text):\n",
    "    return text.split()\n",
    "def stem(word):\n",
    "    if word.endswith(\"ing\"):\n",
    "        return word[:-3]\n",
    "    elif word.endswith(\"ed\"):\n",
    "        return word[:-2]\n",
    "    elif word.endswith(\"ly\"):\n",
    "        return word[:-2]\n",
    "    elif word.endswith(\"er\"):\n",
    "        return word[:-2]\n",
    "    # Add more stemming rules as needed\n",
    "    return word\n",
    "\n",
    "def tokenizer_stemmer(text):\n",
    "    return [stem(word) for word in text.split()]"
   ]
  },
  {
   "cell_type": "code",
   "execution_count": 39,
   "id": "5162c858",
   "metadata": {
    "_kg_hide-input": true,
    "execution": {
     "iopub.execute_input": "2023-08-13T18:14:50.669418Z",
     "iopub.status.busy": "2023-08-13T18:14:50.669008Z",
     "iopub.status.idle": "2023-08-13T18:14:50.685552Z",
     "shell.execute_reply": "2023-08-13T18:14:50.684856Z"
    },
    "papermill": {
     "duration": 0.058703,
     "end_time": "2023-08-13T18:14:50.687466",
     "exception": false,
     "start_time": "2023-08-13T18:14:50.628763",
     "status": "completed"
    },
    "tags": []
   },
   "outputs": [
    {
     "data": {
      "text/html": [
       "<div>\n",
       "<style scoped>\n",
       "    .dataframe tbody tr th:only-of-type {\n",
       "        vertical-align: middle;\n",
       "    }\n",
       "\n",
       "    .dataframe tbody tr th {\n",
       "        vertical-align: top;\n",
       "    }\n",
       "\n",
       "    .dataframe thead th {\n",
       "        text-align: right;\n",
       "    }\n",
       "</style>\n",
       "<table border=\"1\" class=\"dataframe\">\n",
       "  <thead>\n",
       "    <tr style=\"text-align: right;\">\n",
       "      <th></th>\n",
       "      <th>movieid</th>\n",
       "      <th>reviewerName</th>\n",
       "      <th>isTopCritic</th>\n",
       "      <th>reviewText</th>\n",
       "      <th>title</th>\n",
       "      <th>audienceScore</th>\n",
       "      <th>rating</th>\n",
       "      <th>ratingContents</th>\n",
       "      <th>runtimeMinutes</th>\n",
       "      <th>genre</th>\n",
       "      <th>originalLanguage</th>\n",
       "      <th>director</th>\n",
       "      <th>boxOffice</th>\n",
       "    </tr>\n",
       "  </thead>\n",
       "  <tbody>\n",
       "    <tr>\n",
       "      <th>0</th>\n",
       "      <td>legend marty mcfly oracle</td>\n",
       "      <td>john kim</td>\n",
       "      <td>False</td>\n",
       "      <td>green slowly cranks up the dread with style an...</td>\n",
       "      <td>legend marty mcfly oracle</td>\n",
       "      <td>57.000000</td>\n",
       "      <td>r</td>\n",
       "      <td>gore bloody horror violence language througho...</td>\n",
       "      <td>111.0</td>\n",
       "      <td>holiday horror mystery thriller</td>\n",
       "      <td>english</td>\n",
       "      <td>sara barnett</td>\n",
       "      <td>64.0</td>\n",
       "    </tr>\n",
       "    <tr>\n",
       "      <th>1</th>\n",
       "      <td>terminator katniss everdeen glimmer</td>\n",
       "      <td>brian chaney</td>\n",
       "      <td>False</td>\n",
       "      <td>philip noyce s direction is elegant and unforc...</td>\n",
       "      <td>terminator katniss everdeen glimmer</td>\n",
       "      <td>86.000000</td>\n",
       "      <td>pg</td>\n",
       "      <td>emotional thematic material</td>\n",
       "      <td>94.0</td>\n",
       "      <td>drama adventure</td>\n",
       "      <td>english</td>\n",
       "      <td>cindy flander</td>\n",
       "      <td>6.2</td>\n",
       "    </tr>\n",
       "    <tr>\n",
       "      <th>2</th>\n",
       "      <td>james bond labyrinth gollum</td>\n",
       "      <td>danielle parker</td>\n",
       "      <td>False</td>\n",
       "      <td>it wouldn t do to say what path maria ultimate...</td>\n",
       "      <td>james bond labyrinth gollum</td>\n",
       "      <td>62.000000</td>\n",
       "      <td>r</td>\n",
       "      <td>language</td>\n",
       "      <td>103.0</td>\n",
       "      <td>drama</td>\n",
       "      <td>french</td>\n",
       "      <td>charlotte bramble</td>\n",
       "      <td>0.0</td>\n",
       "    </tr>\n",
       "    <tr>\n",
       "      <th>3</th>\n",
       "      <td>v quest han solo wondrous</td>\n",
       "      <td>brittany lane</td>\n",
       "      <td>False</td>\n",
       "      <td>pig is not exactly the arthouse john wick that...</td>\n",
       "      <td>v quest han solo wondrous</td>\n",
       "      <td>84.000000</td>\n",
       "      <td>r</td>\n",
       "      <td>language</td>\n",
       "      <td>92.0</td>\n",
       "      <td>drama mystery thriller</td>\n",
       "      <td>english</td>\n",
       "      <td>jean gainer</td>\n",
       "      <td>3.1</td>\n",
       "    </tr>\n",
       "    <tr>\n",
       "      <th>4</th>\n",
       "      <td>enigma hulk surreal starlight</td>\n",
       "      <td>justin willis</td>\n",
       "      <td>False</td>\n",
       "      <td>an imaginative no budget musical of sorts abou...</td>\n",
       "      <td>enigma hulk surreal starlight</td>\n",
       "      <td>65.000179</td>\n",
       "      <td>r</td>\n",
       "      <td>language</td>\n",
       "      <td>66.0</td>\n",
       "      <td>drama musical</td>\n",
       "      <td>arabic</td>\n",
       "      <td>marvin short</td>\n",
       "      <td>0.0</td>\n",
       "    </tr>\n",
       "  </tbody>\n",
       "</table>\n",
       "</div>"
      ],
      "text/plain": [
       "                               movieid     reviewerName  isTopCritic  \\\n",
       "0            legend marty mcfly oracle         john kim        False   \n",
       "1  terminator katniss everdeen glimmer     brian chaney        False   \n",
       "2          james bond labyrinth gollum  danielle parker        False   \n",
       "3            v quest han solo wondrous    brittany lane        False   \n",
       "4        enigma hulk surreal starlight    justin willis        False   \n",
       "\n",
       "                                          reviewText  \\\n",
       "0  green slowly cranks up the dread with style an...   \n",
       "1  philip noyce s direction is elegant and unforc...   \n",
       "2  it wouldn t do to say what path maria ultimate...   \n",
       "3  pig is not exactly the arthouse john wick that...   \n",
       "4  an imaginative no budget musical of sorts abou...   \n",
       "\n",
       "                                 title  audienceScore rating  \\\n",
       "0            legend marty mcfly oracle      57.000000      r   \n",
       "1  terminator katniss everdeen glimmer      86.000000     pg   \n",
       "2          james bond labyrinth gollum      62.000000      r   \n",
       "3            v quest han solo wondrous      84.000000      r   \n",
       "4        enigma hulk surreal starlight      65.000179      r   \n",
       "\n",
       "                                      ratingContents  runtimeMinutes  \\\n",
       "0   gore bloody horror violence language througho...           111.0   \n",
       "1                       emotional thematic material             94.0   \n",
       "2                                          language            103.0   \n",
       "3                                          language             92.0   \n",
       "4                                          language             66.0   \n",
       "\n",
       "                             genre originalLanguage           director  \\\n",
       "0  holiday horror mystery thriller          english       sara barnett   \n",
       "1                  drama adventure          english      cindy flander   \n",
       "2                            drama           french  charlotte bramble   \n",
       "3           drama mystery thriller          english        jean gainer   \n",
       "4                    drama musical           arabic       marvin short   \n",
       "\n",
       "   boxOffice  \n",
       "0       64.0  \n",
       "1        6.2  \n",
       "2        0.0  \n",
       "3        3.1  \n",
       "4        0.0  "
      ]
     },
     "execution_count": 39,
     "metadata": {},
     "output_type": "execute_result"
    }
   ],
   "source": [
    "mer_ts.head()"
   ]
  },
  {
   "cell_type": "code",
   "execution_count": 40,
   "id": "46787d00",
   "metadata": {
    "execution": {
     "iopub.execute_input": "2023-08-13T18:14:50.767782Z",
     "iopub.status.busy": "2023-08-13T18:14:50.766697Z",
     "iopub.status.idle": "2023-08-13T18:14:50.784330Z",
     "shell.execute_reply": "2023-08-13T18:14:50.783548Z"
    },
    "papermill": {
     "duration": 0.059656,
     "end_time": "2023-08-13T18:14:50.786263",
     "exception": false,
     "start_time": "2023-08-13T18:14:50.726607",
     "status": "completed"
    },
    "tags": []
   },
   "outputs": [
    {
     "data": {
      "text/plain": [
       "array(['pg 13', 'r', 'pg', 'nc 17', 'tv14', 'tvpg', 'tvma'], dtype=object)"
      ]
     },
     "execution_count": 40,
     "metadata": {},
     "output_type": "execute_result"
    }
   ],
   "source": [
    "merge.rating.unique()"
   ]
  },
  {
   "cell_type": "code",
   "execution_count": 41,
   "id": "15d7fcde",
   "metadata": {
    "execution": {
     "iopub.execute_input": "2023-08-13T18:14:50.866683Z",
     "iopub.status.busy": "2023-08-13T18:14:50.866306Z",
     "iopub.status.idle": "2023-08-13T18:14:51.250563Z",
     "shell.execute_reply": "2023-08-13T18:14:51.249798Z"
    },
    "papermill": {
     "duration": 0.426946,
     "end_time": "2023-08-13T18:14:51.252629",
     "exception": false,
     "start_time": "2023-08-13T18:14:50.825683",
     "status": "completed"
    },
    "tags": []
   },
   "outputs": [
    {
     "data": {
      "image/png": "[encoded data removed]",
      "text/plain": [
       "<Figure size 1000x600 with 2 Axes>"
      ]
     },
     "metadata": {},
     "output_type": "display_data"
    }
   ],
   "source": [
    "# Create a crosstab between sentiment and rating\n",
    "crosstab_df = pd.crosstab(merge['sentiment'], merge['rating'])\n",
    "\n",
    "# Plot the heatmap\n",
    "plt.figure(figsize=(10, 6))\n",
    "sns.heatmap(crosstab_df, annot=True, cmap='YlGnBu', fmt='d')\n",
    "plt.title('Sentiment vs. Rating')\n",
    "plt.xlabel('Rating')\n",
    "plt.ylabel('Sentiment')\n",
    "plt.show()"
   ]
  },
  {
   "cell_type": "code",
   "execution_count": 42,
   "id": "c06ba28c",
   "metadata": {
    "execution": {
     "iopub.execute_input": "2023-08-13T18:14:51.334675Z",
     "iopub.status.busy": "2023-08-13T18:14:51.333845Z",
     "iopub.status.idle": "2023-08-13T18:14:51.338210Z",
     "shell.execute_reply": "2023-08-13T18:14:51.337547Z"
    },
    "papermill": {
     "duration": 0.047319,
     "end_time": "2023-08-13T18:14:51.340021",
     "exception": false,
     "start_time": "2023-08-13T18:14:51.292702",
     "status": "completed"
    },
    "tags": []
   },
   "outputs": [],
   "source": [
    "dtype_numerical = ['audienceScore','runtimeMinutes','boxOffice']\n",
    "dtype_categorical = ['movieid','reviewerName',\n",
    "                    'title',\n",
    "                    'rating',\n",
    "                    'ratingContents',\n",
    "                    'genre',\n",
    "                    'originalLanguage',\n",
    "                    'director']"
   ]
  },
  {
   "cell_type": "markdown",
   "id": "25a2f954",
   "metadata": {
    "papermill": {
     "duration": 0.039534,
     "end_time": "2023-08-13T18:14:51.418939",
     "exception": false,
     "start_time": "2023-08-13T18:14:51.379405",
     "status": "completed"
    },
    "tags": []
   },
   "source": [
    "**Feature Engineering / preprocessing**"
   ]
  },
  {
   "cell_type": "code",
   "execution_count": 43,
   "id": "2a4422bb",
   "metadata": {
    "execution": {
     "iopub.execute_input": "2023-08-13T18:14:51.501229Z",
     "iopub.status.busy": "2023-08-13T18:14:51.500595Z",
     "iopub.status.idle": "2023-08-13T18:14:52.254031Z",
     "shell.execute_reply": "2023-08-13T18:14:52.253091Z"
    },
    "papermill": {
     "duration": 0.798082,
     "end_time": "2023-08-13T18:14:52.256569",
     "exception": false,
     "start_time": "2023-08-13T18:14:51.458487",
     "status": "completed"
    },
    "tags": []
   },
   "outputs": [],
   "source": [
    "#converting categorical type column using hash function to transform in numeric value\n",
    "for col in dtype_categorical:\n",
    "    merge[col]=merge[col].apply(lambda x: hash(x) % (10**2))"
   ]
  },
  {
   "cell_type": "code",
   "execution_count": 44,
   "id": "e1649348",
   "metadata": {
    "execution": {
     "iopub.execute_input": "2023-08-13T18:14:52.341613Z",
     "iopub.status.busy": "2023-08-13T18:14:52.341241Z",
     "iopub.status.idle": "2023-08-13T18:14:52.603172Z",
     "shell.execute_reply": "2023-08-13T18:14:52.602262Z"
    },
    "papermill": {
     "duration": 0.305882,
     "end_time": "2023-08-13T18:14:52.605729",
     "exception": false,
     "start_time": "2023-08-13T18:14:52.299847",
     "status": "completed"
    },
    "tags": []
   },
   "outputs": [],
   "source": [
    "#converting categorical type column using hash function to transform in numeric value\n",
    "for col in dtype_categorical:\n",
    "    mer_ts[col]=mer_ts[col].apply(lambda x: hash(x) % (10**2))"
   ]
  },
  {
   "cell_type": "code",
   "execution_count": 45,
   "id": "27d2cf00",
   "metadata": {
    "execution": {
     "iopub.execute_input": "2023-08-13T18:14:52.686951Z",
     "iopub.status.busy": "2023-08-13T18:14:52.686593Z",
     "iopub.status.idle": "2023-08-13T18:14:52.740798Z",
     "shell.execute_reply": "2023-08-13T18:14:52.739919Z"
    },
    "papermill": {
     "duration": 0.097379,
     "end_time": "2023-08-13T18:14:52.743121",
     "exception": false,
     "start_time": "2023-08-13T18:14:52.645742",
     "status": "completed"
    },
    "tags": []
   },
   "outputs": [],
   "source": [
    "# Label Encoding for sentiment and isFrequentReviewer columns\n",
    "label_encoder = LabelEncoder()\n",
    "le = LabelEncoder()\n",
    "merge['sentiment'] = label_encoder.fit_transform(merge['sentiment'])\n",
    "merge['isFrequentReviewer'] = le.fit_transform(merge['isFrequentReviewer'])\n",
    "\n",
    "# Label Encoding for sentiment and isFrequentReviewer columns\n",
    "\n",
    "mer_ts['isTopCritic'] = le.fit_transform(mer_ts['isTopCritic'])\n"
   ]
  },
  {
   "cell_type": "code",
   "execution_count": 46,
   "id": "c7cdabf5",
   "metadata": {
    "execution": {
     "iopub.execute_input": "2023-08-13T18:14:52.825735Z",
     "iopub.status.busy": "2023-08-13T18:14:52.825372Z",
     "iopub.status.idle": "2023-08-13T18:14:52.830175Z",
     "shell.execute_reply": "2023-08-13T18:14:52.829134Z"
    },
    "papermill": {
     "duration": 0.04796,
     "end_time": "2023-08-13T18:14:52.832269",
     "exception": false,
     "start_time": "2023-08-13T18:14:52.784309",
     "status": "completed"
    },
    "tags": []
   },
   "outputs": [],
   "source": [
    "dtype_num = ['movieid','reviewerName','isFrequentReviewer','sentiment',\n",
    "                    'title','audienceScore',\n",
    "                    'rating',\n",
    "                    'ratingContents','runtimeMinutes',\n",
    "                    'genre',\n",
    "                    'originalLanguage',\n",
    "                    'director','boxOffice']"
   ]
  },
  {
   "cell_type": "code",
   "execution_count": 47,
   "id": "ee74a163",
   "metadata": {
    "execution": {
     "iopub.execute_input": "2023-08-13T18:14:52.913834Z",
     "iopub.status.busy": "2023-08-13T18:14:52.913065Z",
     "iopub.status.idle": "2023-08-13T18:14:53.987616Z",
     "shell.execute_reply": "2023-08-13T18:14:53.986538Z"
    },
    "papermill": {
     "duration": 1.118683,
     "end_time": "2023-08-13T18:14:53.990766",
     "exception": false,
     "start_time": "2023-08-13T18:14:52.872083",
     "status": "completed"
    },
    "tags": []
   },
   "outputs": [
    {
     "data": {
      "image/png": "[encoded data removed]",
      "text/plain": [
       "<Figure size 1400x700 with 2 Axes>"
      ]
     },
     "metadata": {},
     "output_type": "display_data"
    }
   ],
   "source": [
    "plt.figure(figsize=(14,7))\n",
    "\n",
    "sns.heatmap(merge[dtype_num].corr(), cmap='coolwarm', annot=True)\n",
    "plt.title(\"Correlation heatmap for numerical features\")\n",
    "plt.show()\n"
   ]
  },
  {
   "cell_type": "markdown",
   "id": "028ad8b5",
   "metadata": {
    "papermill": {
     "duration": 0.042002,
     "end_time": "2023-08-13T18:14:54.075987",
     "exception": false,
     "start_time": "2023-08-13T18:14:54.033985",
     "status": "completed"
    },
    "tags": []
   },
   "source": [
    "**Clearly we can see sentiment has correlation with audiencescore only with 0.3 correlation**"
   ]
  },
  {
   "cell_type": "code",
   "execution_count": 48,
   "id": "467084db",
   "metadata": {
    "execution": {
     "iopub.execute_input": "2023-08-13T18:14:54.163631Z",
     "iopub.status.busy": "2023-08-13T18:14:54.163270Z",
     "iopub.status.idle": "2023-08-13T18:14:54.168171Z",
     "shell.execute_reply": "2023-08-13T18:14:54.167159Z"
    },
    "papermill": {
     "duration": 0.051126,
     "end_time": "2023-08-13T18:14:54.170295",
     "exception": false,
     "start_time": "2023-08-13T18:14:54.119169",
     "status": "completed"
    },
    "tags": []
   },
   "outputs": [],
   "source": [
    "# from sklearn.pipeline import FeatureUnion\n",
    "# from sklearn.feature_extraction.text import TfidfVectorizer\n",
    "# from sklearn.feature_extraction import FeatureHasher\n",
    "\n",
    "# #scaling for numerical features\n",
    "# num_pre = Pipeline([('scaler',StandardScaler())])\n",
    "# #Hashing Vectorizer for categorical feature\n",
    "# hasher = FeatureHasher(n_features=10, input_type='string')\n",
    "# cat_pre = Pipeline([('hasher_encoding',FeatureHasher(n_features=10))])\n",
    "\n",
    "# #tfidf for review text\n",
    "# text_pre = Pipeline([('tfidf_vect',TfidfVectorizer())])\n",
    "# #labelencoder for target column\n",
    "# sent_pre = Pipeline([('encoder',LabelEncoder())])\n",
    "\n",
    "# Preprocessor = ColumnTransformer(transformers=[('numerical',num_pre,dtype_numerical),\n",
    "#                                              ('categorical',FeatureUnion([('hasher_encoding',cat_pre)]),dtype_categorical),\n",
    "#                                              ('text',text_pre,'reviewText'),\n",
    "#                                              ('target',sent_pre,'sentiment')],remainder='passthrough')\n",
    "# X_pre=Preprocessor.fit(merge)\n",
    "# x_pre=Preprocessor.transform(merge)\n",
    "\n",
    "# X_pre_df = pd.DataFrame(x_pre)"
   ]
  },
  {
   "cell_type": "code",
   "execution_count": 49,
   "id": "bff3faa5",
   "metadata": {
    "execution": {
     "iopub.execute_input": "2023-08-13T18:14:54.256830Z",
     "iopub.status.busy": "2023-08-13T18:14:54.256472Z",
     "iopub.status.idle": "2023-08-13T18:14:54.261280Z",
     "shell.execute_reply": "2023-08-13T18:14:54.260231Z"
    },
    "papermill": {
     "duration": 0.050741,
     "end_time": "2023-08-13T18:14:54.263291",
     "exception": false,
     "start_time": "2023-08-13T18:14:54.212550",
     "status": "completed"
    },
    "tags": []
   },
   "outputs": [],
   "source": [
    "X_merge = merge['reviewText']\n",
    "y=merge['sentiment']\n",
    "\n",
    "X_test = mer_ts['reviewText']"
   ]
  },
  {
   "cell_type": "code",
   "execution_count": 50,
   "id": "7f3c83db",
   "metadata": {
    "execution": {
     "iopub.execute_input": "2023-08-13T18:14:54.351541Z",
     "iopub.status.busy": "2023-08-13T18:14:54.351150Z",
     "iopub.status.idle": "2023-08-13T18:15:04.972659Z",
     "shell.execute_reply": "2023-08-13T18:15:04.971443Z"
    },
    "papermill": {
     "duration": 10.66881,
     "end_time": "2023-08-13T18:15:04.975410",
     "exception": false,
     "start_time": "2023-08-13T18:14:54.306600",
     "status": "completed"
    },
    "tags": []
   },
   "outputs": [
    {
     "name": "stderr",
     "output_type": "stream",
     "text": [
      "/opt/conda/lib/python3.10/site-packages/sklearn/feature_extraction/text.py:528: UserWarning: The parameter 'token_pattern' will not be used since 'tokenizer' is not None'\n",
      "  warnings.warn(\n"
     ]
    }
   ],
   "source": [
    "from sklearn.feature_extraction.text import TfidfVectorizer      # applying Tfidf Vectorizer for encoding\n",
    "tfidf_vect =TfidfVectorizer(strip_accents=None,\n",
    "                         lowercase=True,\n",
    "                         preprocessor=None,  # Have applied preprocessor in Data Cleaning\n",
    "                         tokenizer=tokenizer_stemmer,\n",
    "                         use_idf=True,\n",
    "                         norm='l2',\n",
    "                         smooth_idf=True)\n",
    "tfidf_vect = tfidf_vect.fit(X_merge)\n",
    "X_tm = tfidf_vect.transform(X_merge)"
   ]
  },
  {
   "cell_type": "code",
   "execution_count": 51,
   "id": "0fe87a95",
   "metadata": {
    "execution": {
     "iopub.execute_input": "2023-08-13T18:15:05.064554Z",
     "iopub.status.busy": "2023-08-13T18:15:05.064160Z",
     "iopub.status.idle": "2023-08-13T18:15:06.872467Z",
     "shell.execute_reply": "2023-08-13T18:15:06.871345Z"
    },
    "papermill": {
     "duration": 1.856241,
     "end_time": "2023-08-13T18:15:06.875107",
     "exception": false,
     "start_time": "2023-08-13T18:15:05.018866",
     "status": "completed"
    },
    "tags": []
   },
   "outputs": [],
   "source": [
    "#tfidf_vectt = tfidf_vect.fit(X_test)\n",
    "X_ts = tfidf_vect.transform(X_test)"
   ]
  },
  {
   "cell_type": "code",
   "execution_count": 52,
   "id": "f40eca84",
   "metadata": {
    "execution": {
     "iopub.execute_input": "2023-08-13T18:15:06.963549Z",
     "iopub.status.busy": "2023-08-13T18:15:06.963141Z",
     "iopub.status.idle": "2023-08-13T18:15:06.969173Z",
     "shell.execute_reply": "2023-08-13T18:15:06.968196Z"
    },
    "papermill": {
     "duration": 0.052574,
     "end_time": "2023-08-13T18:15:06.971439",
     "exception": false,
     "start_time": "2023-08-13T18:15:06.918865",
     "status": "completed"
    },
    "tags": []
   },
   "outputs": [
    {
     "data": {
      "text/plain": [
       "((162758, 57862), (55315, 57862))"
      ]
     },
     "execution_count": 52,
     "metadata": {},
     "output_type": "execute_result"
    }
   ],
   "source": [
    "X_tm.shape,X_ts.shape"
   ]
  },
  {
   "cell_type": "code",
   "execution_count": 53,
   "id": "31f9d32b",
   "metadata": {
    "execution": {
     "iopub.execute_input": "2023-08-13T18:15:07.060628Z",
     "iopub.status.busy": "2023-08-13T18:15:07.060251Z",
     "iopub.status.idle": "2023-08-13T18:15:07.070730Z",
     "shell.execute_reply": "2023-08-13T18:15:07.069905Z"
    },
    "papermill": {
     "duration": 0.05758,
     "end_time": "2023-08-13T18:15:07.072719",
     "exception": false,
     "start_time": "2023-08-13T18:15:07.015139",
     "status": "completed"
    },
    "tags": []
   },
   "outputs": [],
   "source": [
    "au_tr  = merge[['audienceScore','runtimeMinutes','boxOffice','genre']]\n",
    "au_ts  = mer_ts[['audienceScore','runtimeMinutes','boxOffice','genre']]"
   ]
  },
  {
   "cell_type": "code",
   "execution_count": 54,
   "id": "1fb41f48",
   "metadata": {
    "execution": {
     "iopub.execute_input": "2023-08-13T18:15:07.160901Z",
     "iopub.status.busy": "2023-08-13T18:15:07.159863Z",
     "iopub.status.idle": "2023-08-13T18:15:07.178030Z",
     "shell.execute_reply": "2023-08-13T18:15:07.177244Z"
    },
    "papermill": {
     "duration": 0.064163,
     "end_time": "2023-08-13T18:15:07.180236",
     "exception": false,
     "start_time": "2023-08-13T18:15:07.116073",
     "status": "completed"
    },
    "tags": []
   },
   "outputs": [],
   "source": [
    "# Create a pipeline with StandardScaler\n",
    "pipeline = Pipeline([\n",
    "    ('scaler', StandardScaler())\n",
    "])\n",
    "\n",
    "# Fit and transform the training data\n",
    "pipe_tr = pipeline.fit_transform(au_tr)\n",
    "\n",
    "# Transform the test data using the same scaler\n",
    "pipe_ts = pipeline.transform(au_ts)"
   ]
  },
  {
   "cell_type": "code",
   "execution_count": 55,
   "id": "f5e37b26",
   "metadata": {
    "execution": {
     "iopub.execute_input": "2023-08-13T18:15:07.267814Z",
     "iopub.status.busy": "2023-08-13T18:15:07.266767Z",
     "iopub.status.idle": "2023-08-13T18:15:07.380158Z",
     "shell.execute_reply": "2023-08-13T18:15:07.379091Z"
    },
    "papermill": {
     "duration": 0.159558,
     "end_time": "2023-08-13T18:15:07.382897",
     "exception": false,
     "start_time": "2023-08-13T18:15:07.223339",
     "status": "completed"
    },
    "tags": []
   },
   "outputs": [],
   "source": [
    "from scipy.sparse import hstack\n",
    "# Stack scaled data with other sparse matrices\n",
    "merged_data_tr = hstack([pipe_tr, X_tm])\n",
    "merged_data_ts = hstack([pipe_ts, X_ts])"
   ]
  },
  {
   "cell_type": "markdown",
   "id": "7261bd14",
   "metadata": {
    "papermill": {
     "duration": 0.04285,
     "end_time": "2023-08-13T18:15:07.469381",
     "exception": false,
     "start_time": "2023-08-13T18:15:07.426531",
     "status": "completed"
    },
    "tags": []
   },
   "source": [
    "# Model1: Logistic Regression"
   ]
  },
  {
   "cell_type": "code",
   "execution_count": 56,
   "id": "e88c1c2b",
   "metadata": {
    "execution": {
     "iopub.execute_input": "2023-08-13T18:15:07.557511Z",
     "iopub.status.busy": "2023-08-13T18:15:07.557072Z",
     "iopub.status.idle": "2023-08-13T18:15:07.561002Z",
     "shell.execute_reply": "2023-08-13T18:15:07.560256Z"
    },
    "papermill": {
     "duration": 0.050939,
     "end_time": "2023-08-13T18:15:07.562826",
     "exception": false,
     "start_time": "2023-08-13T18:15:07.511887",
     "status": "completed"
    },
    "tags": []
   },
   "outputs": [],
   "source": [
    "# log_reg1 =LogisticRegression(C = 6.084,max_iter = 1000,penalty=\"l2\",solver='liblinear',random_state=42)\n",
    "# log_reg1.fit(merged_data_tr,y)\n",
    "# y_pred = log_reg1.predict(merged_data_tr) \n",
    "# f1_score(y,y_pred,average=\"micro\")"
   ]
  },
  {
   "cell_type": "markdown",
   "id": "4a7ae6a6",
   "metadata": {
    "papermill": {
     "duration": 0.043367,
     "end_time": "2023-08-13T18:15:07.649614",
     "exception": false,
     "start_time": "2023-08-13T18:15:07.606247",
     "status": "completed"
    },
    "tags": []
   },
   "source": [
    "F1 score on merged data without tuning:0.84\n",
    "on test : 0.81372\n",
    "\n",
    "\n",
    "F1 score on merged data with tuning:0.8748\n",
    "on test : 0.81527"
   ]
  },
  {
   "cell_type": "markdown",
   "id": "f6d2ac6b",
   "metadata": {
    "papermill": {
     "duration": 0.042781,
     "end_time": "2023-08-13T18:15:07.734802",
     "exception": false,
     "start_time": "2023-08-13T18:15:07.692021",
     "status": "completed"
    },
    "tags": []
   },
   "source": [
    "# Hyperparameter tuning for logistic regression"
   ]
  },
  {
   "cell_type": "code",
   "execution_count": 57,
   "id": "6b1ab2f7",
   "metadata": {
    "execution": {
     "iopub.execute_input": "2023-08-13T18:15:07.822732Z",
     "iopub.status.busy": "2023-08-13T18:15:07.822044Z",
     "iopub.status.idle": "2023-08-13T18:15:07.826062Z",
     "shell.execute_reply": "2023-08-13T18:15:07.825418Z"
    },
    "papermill": {
     "duration": 0.050397,
     "end_time": "2023-08-13T18:15:07.827975",
     "exception": false,
     "start_time": "2023-08-13T18:15:07.777578",
     "status": "completed"
    },
    "tags": []
   },
   "outputs": [],
   "source": [
    "# # Define the hyperparameter search space\n",
    "# params = {'C': uniform(loc=0, scale=20),'penalty': ['l1', 'l2'],'solver': ['liblinear','saga'],'max_iter': [10000]}\n",
    "\n",
    "# # applying model\n",
    "# log_reg = LogisticRegression(random_state=42)\n",
    "\n",
    "# #using randomsearch cv for hypertuning\n",
    "# random_search1 = RandomizedSearchCV(log_reg,param_distributions=params, n_iter=10,cv =5, scoring='accuracy',n_jobs =1, random_state=42)\n",
    "# random_search1.fit(merged_data_tr,y)\n",
    "\n",
    "# #getting best estimator and parameter for log_reg\n",
    "# best_model1 = random_search1.best_estimator_\n",
    "# best_params1 = random_search1.best_params_\n",
    "\n",
    "# #applying on train data\n",
    "# y_pred1 = best_model1.predict(merged_data_tr)\n",
    "\n",
    "# # Calculate the F1 score\n",
    "# f1 = f1_score(y, y_pred1, average='micro')\n",
    "# print(\"Best Hyperparameters:\", best_params1)\n",
    "# print(\"F1 Score:\", f1)"
   ]
  },
  {
   "cell_type": "markdown",
   "id": "23b7c373",
   "metadata": {
    "papermill": {
     "duration": 0.041997,
     "end_time": "2023-08-13T18:15:07.912918",
     "exception": false,
     "start_time": "2023-08-13T18:15:07.870921",
     "status": "completed"
    },
    "tags": []
   },
   "source": [
    "Best Hyperparameters for logistic regression: {'C': 6.0848448591907545, 'max_iter': 1000, 'penalty': 'l2', 'solver': 'liblinear'}\n",
    "F1 Score: 0.8819965838852776"
   ]
  },
  {
   "cell_type": "code",
   "execution_count": 58,
   "id": "84874f7a",
   "metadata": {
    "execution": {
     "iopub.execute_input": "2023-08-13T18:15:08.000232Z",
     "iopub.status.busy": "2023-08-13T18:15:07.999557Z",
     "iopub.status.idle": "2023-08-13T18:15:08.003200Z",
     "shell.execute_reply": "2023-08-13T18:15:08.002519Z"
    },
    "papermill": {
     "duration": 0.04973,
     "end_time": "2023-08-13T18:15:08.005157",
     "exception": false,
     "start_time": "2023-08-13T18:15:07.955427",
     "status": "completed"
    },
    "tags": []
   },
   "outputs": [],
   "source": [
    "# #applying confusion metrix\n",
    "# cm1 = confusion_matrix(y,y_pred1)\n",
    "# #visualisation of confusion matrix\n",
    "# sns.heatmap(cm1,annot=True,cmap='Blues')\n",
    "# plt.xlabel('Predicted Labels')\n",
    "# plt.ylabel('True Labels')\n",
    "# plt.title('Confusion Matrix')\n",
    "# plt.show()"
   ]
  },
  {
   "cell_type": "code",
   "execution_count": 59,
   "id": "3abe5157",
   "metadata": {
    "execution": {
     "iopub.execute_input": "2023-08-13T18:15:08.094283Z",
     "iopub.status.busy": "2023-08-13T18:15:08.093630Z",
     "iopub.status.idle": "2023-08-13T18:15:08.097084Z",
     "shell.execute_reply": "2023-08-13T18:15:08.096444Z"
    },
    "papermill": {
     "duration": 0.049346,
     "end_time": "2023-08-13T18:15:08.099018",
     "exception": false,
     "start_time": "2023-08-13T18:15:08.049672",
     "status": "completed"
    },
    "tags": []
   },
   "outputs": [],
   "source": [
    "# #printing classification report\n",
    "# clf_report1 = classification_report(y, y_pred_labels)\n",
    "# print(clf_report1)"
   ]
  },
  {
   "cell_type": "markdown",
   "id": "e80321d9",
   "metadata": {
    "papermill": {
     "duration": 0.042585,
     "end_time": "2023-08-13T18:15:08.184015",
     "exception": false,
     "start_time": "2023-08-13T18:15:08.141430",
     "status": "completed"
    },
    "tags": []
   },
   "source": [
    "# Best Model: LinearSVC"
   ]
  },
  {
   "cell_type": "code",
   "execution_count": 60,
   "id": "10cfd5ac",
   "metadata": {
    "execution": {
     "iopub.execute_input": "2023-08-13T18:15:08.271105Z",
     "iopub.status.busy": "2023-08-13T18:15:08.270498Z",
     "iopub.status.idle": "2023-08-13T18:16:59.994069Z",
     "shell.execute_reply": "2023-08-13T18:16:59.993001Z"
    },
    "papermill": {
     "duration": 111.811962,
     "end_time": "2023-08-13T18:17:00.038574",
     "exception": false,
     "start_time": "2023-08-13T18:15:08.226612",
     "status": "completed"
    },
    "tags": []
   },
   "outputs": [
    {
     "name": "stdout",
     "output_type": "stream",
     "text": [
      "F1 score: 0.8676501308691431\n"
     ]
    }
   ],
   "source": [
    "svm = LinearSVC(C=0.37, max_iter=10000, loss='squared_hinge',random_state=42,tol=0.001)\n",
    "svm.fit(merged_data_tr, y)\n",
    "y_pred2 = svm.predict(merged_data_tr)\n",
    "f1 = f1_score(y, y_pred2, average=\"micro\")\n",
    "\n",
    "print(\"F1 score:\", f1)"
   ]
  },
  {
   "cell_type": "markdown",
   "id": "e01f25fa",
   "metadata": {
    "papermill": {
     "duration": 0.042606,
     "end_time": "2023-08-13T18:17:00.126633",
     "exception": false,
     "start_time": "2023-08-13T18:17:00.084027",
     "status": "completed"
    },
    "tags": []
   },
   "source": [
    "without tuning: 0.86552 on test :0.81598\n",
    "with tuning :0.8694,F1 score: 0.8714717556126275 with c = 0.334\n",
    "test score: 0.81748\n",
    "\n",
    "\n"
   ]
  },
  {
   "cell_type": "markdown",
   "id": "c6b9705c",
   "metadata": {
    "papermill": {
     "duration": 0.043242,
     "end_time": "2023-08-13T18:17:00.213718",
     "exception": false,
     "start_time": "2023-08-13T18:17:00.170476",
     "status": "completed"
    },
    "tags": []
   },
   "source": [
    "**Encluding more column like box office and genre increase the test score to 0.81759 while on train score was same**"
   ]
  },
  {
   "cell_type": "markdown",
   "id": "780b674d",
   "metadata": {
    "papermill": {
     "duration": 0.042763,
     "end_time": "2023-08-13T18:17:00.299871",
     "exception": false,
     "start_time": "2023-08-13T18:17:00.257108",
     "status": "completed"
    },
    "tags": []
   },
   "source": [
    "# Hyperparameter tuning for LinearSVC"
   ]
  },
  {
   "cell_type": "code",
   "execution_count": 61,
   "id": "8e4d11b8",
   "metadata": {
    "execution": {
     "iopub.execute_input": "2023-08-13T18:17:00.387957Z",
     "iopub.status.busy": "2023-08-13T18:17:00.387549Z",
     "iopub.status.idle": "2023-08-13T18:17:00.392509Z",
     "shell.execute_reply": "2023-08-13T18:17:00.391469Z"
    },
    "papermill": {
     "duration": 0.051492,
     "end_time": "2023-08-13T18:17:00.394515",
     "exception": false,
     "start_time": "2023-08-13T18:17:00.343023",
     "status": "completed"
    },
    "tags": []
   },
   "outputs": [],
   "source": [
    "# ## Define the hyperparameter search space\n",
    "# param_dist = {'C': uniform(loc=0, scale=1),'loss': ['hinge', 'squared_hinge'],'max_iter': [100000]}\n",
    "\n",
    "#  # Create the Linear SVC model\n",
    "# linear_svc = LinearSVC()\n",
    "\n",
    "# # Perform random search cross-validation\n",
    "# random_search2 = RandomizedSearchCV(linear_svc, param_distributions=param_dist, n_iter=10, scoring='f1_micro', random_state=42)\n",
    "# random_search2.fit(merged_data_tr,y)\n",
    "\n",
    "# # Get the best model and its hyperparameters\n",
    "# best_model2 = random_search2.best_estimator_\n",
    "# best_params2 = random_search2.best_params_\n",
    "\n",
    "#  # Make predictions using the best model\n",
    "# y_pred2 = best_model2.predict(merged_data_tr)\n",
    "\n",
    "#  # Calculate the F1 score\n",
    "# f1 = f1_score(y, y_pred2, average='micro')\n",
    "\n",
    "#  # Print the best hyperparameters and F1 score\n",
    "# print(\"Best Hyperparameters:\", best_params2)\n",
    "# print(\"F1 Score:\", f1)"
   ]
  },
  {
   "cell_type": "markdown",
   "id": "a7a1ee3d",
   "metadata": {
    "papermill": {
     "duration": 0.042914,
     "end_time": "2023-08-13T18:17:00.481775",
     "exception": false,
     "start_time": "2023-08-13T18:17:00.438861",
     "status": "completed"
    },
    "tags": []
   },
   "source": [
    "Best Hyperparameters: {'C': 0.33370861113902184, 'loss': 'squared_hinge', 'max_iter': 100000}\n",
    "F1 Score: 0.8714471792477174"
   ]
  },
  {
   "cell_type": "code",
   "execution_count": 62,
   "id": "1b654275",
   "metadata": {
    "execution": {
     "iopub.execute_input": "2023-08-13T18:17:00.570324Z",
     "iopub.status.busy": "2023-08-13T18:17:00.569634Z",
     "iopub.status.idle": "2023-08-13T18:17:00.574047Z",
     "shell.execute_reply": "2023-08-13T18:17:00.573354Z"
    },
    "papermill": {
     "duration": 0.050919,
     "end_time": "2023-08-13T18:17:00.576082",
     "exception": false,
     "start_time": "2023-08-13T18:17:00.525163",
     "status": "completed"
    },
    "tags": []
   },
   "outputs": [],
   "source": [
    "# #applying confusion metrix\n",
    "# cm2 = confusion_matrix(y,y_pred2)\n",
    "# #visualisation of confusion matrix\n",
    "# sns.heatmap(cm2,annot=True,cmap='Blues')\n",
    "# plt.xlabel('Predicted Labels')\n",
    "# plt.ylabel('True Labels')\n",
    "# plt.title('Confusion Matrix')\n",
    "# plt.show()"
   ]
  },
  {
   "cell_type": "code",
   "execution_count": 63,
   "id": "2ae49a14",
   "metadata": {
    "execution": {
     "iopub.execute_input": "2023-08-13T18:17:00.664267Z",
     "iopub.status.busy": "2023-08-13T18:17:00.663587Z",
     "iopub.status.idle": "2023-08-13T18:17:00.668313Z",
     "shell.execute_reply": "2023-08-13T18:17:00.667305Z"
    },
    "papermill": {
     "duration": 0.051578,
     "end_time": "2023-08-13T18:17:00.670615",
     "exception": false,
     "start_time": "2023-08-13T18:17:00.619037",
     "status": "completed"
    },
    "tags": []
   },
   "outputs": [],
   "source": [
    "# #printing classification report\n",
    "# clf_report2 = classification_report(y, y_pred2)\n",
    "# print(clf_report2)"
   ]
  },
  {
   "cell_type": "markdown",
   "id": "eed1c0c4",
   "metadata": {
    "papermill": {
     "duration": 0.042575,
     "end_time": "2023-08-13T18:17:00.756325",
     "exception": false,
     "start_time": "2023-08-13T18:17:00.713750",
     "status": "completed"
    },
    "tags": []
   },
   "source": [
    "# Model3: Bagging Model"
   ]
  },
  {
   "cell_type": "code",
   "execution_count": 64,
   "id": "823a5cd5",
   "metadata": {
    "execution": {
     "iopub.execute_input": "2023-08-13T18:17:00.843852Z",
     "iopub.status.busy": "2023-08-13T18:17:00.843497Z",
     "iopub.status.idle": "2023-08-13T18:17:00.847981Z",
     "shell.execute_reply": "2023-08-13T18:17:00.846850Z"
    },
    "papermill": {
     "duration": 0.050963,
     "end_time": "2023-08-13T18:17:00.850165",
     "exception": false,
     "start_time": "2023-08-13T18:17:00.799202",
     "status": "completed"
    },
    "tags": []
   },
   "outputs": [],
   "source": [
    "\n",
    "# # Create the base model (Logistic Regression)\n",
    "# base_model = LogisticRegression(C=6, max_iter=1000, penalty='l2', solver='liblinear')\n",
    "\n",
    "# # Create the Bagging classifier with Logistic Regression as the base model\n",
    "# bagging_model = BaggingClassifier(base_model, n_estimators=14, random_state=52)\n",
    "\n",
    "# # Train the Bagging classifier\n",
    "# bagging_model.fit(merged_data_tr, y)\n",
    "# y_pred5 = bagging_model.predict(merged_data_tr)\n",
    "\n",
    "# # Evaluate the model using F1-score\n",
    "# f1 = f1_score(y, y_pred5, average=\"micro\")\n",
    "# print(\"F1 Score:\", f1)\n",
    "\n"
   ]
  },
  {
   "cell_type": "markdown",
   "id": "71bf7175",
   "metadata": {
    "papermill": {
     "duration": 0.042831,
     "end_time": "2023-08-13T18:17:00.936999",
     "exception": false,
     "start_time": "2023-08-13T18:17:00.894168",
     "status": "completed"
    },
    "tags": []
   },
   "source": [
    "F1 Score: 0.8672507649393578"
   ]
  },
  {
   "cell_type": "markdown",
   "id": "63d377ca",
   "metadata": {
    "papermill": {
     "duration": 0.042883,
     "end_time": "2023-08-13T18:17:01.022826",
     "exception": false,
     "start_time": "2023-08-13T18:17:00.979943",
     "status": "completed"
    },
    "tags": []
   },
   "source": [
    "# Hyperparameter tuning for Bagging Model"
   ]
  },
  {
   "cell_type": "code",
   "execution_count": 65,
   "id": "05cdb7cd",
   "metadata": {
    "execution": {
     "iopub.execute_input": "2023-08-13T18:17:01.112728Z",
     "iopub.status.busy": "2023-08-13T18:17:01.112371Z",
     "iopub.status.idle": "2023-08-13T18:17:01.116690Z",
     "shell.execute_reply": "2023-08-13T18:17:01.115926Z"
    },
    "papermill": {
     "duration": 0.051063,
     "end_time": "2023-08-13T18:17:01.118628",
     "exception": false,
     "start_time": "2023-08-13T18:17:01.067565",
     "status": "completed"
    },
    "tags": []
   },
   "outputs": [],
   "source": [
    "# # Create the base model (Logistic Regression)\n",
    "# base_model = LogisticRegression(max_iter=1000)\n",
    "\n",
    "# # Create the Bagging classifier with Logistic Regression as the base model\n",
    "# bagging_model = BaggingClassifier(base_model, random_state=52)\n",
    "\n",
    "# # Define the hyperparameters to sample from\n",
    "# param_dist = {\n",
    "#     'n_estimators': np.arange(5, 16),   # Number of base estimators in the ensemble (5 to 15)\n",
    "#     'base_estimator__C': np.logspace(-3, 3, 7),  # C parameter of Logistic Regression (0.001 to 1000)\n",
    "# }\n",
    "\n",
    "# # Create the RandomizedSearchCV object\n",
    "# random_search = RandomizedSearchCV(bagging_model, param_distributions=param_dist, n_iter=10, scoring='f1_micro', cv=5, random_state=42)\n",
    "\n",
    "# # Train the RandomizedSearchCV to find the best hyperparameters\n",
    "# random_search.fit(merged_data_tr, y)\n",
    "\n",
    "# # Get the best estimator and its hyperparameters\n",
    "# best_bagging_model = random_search.best_estimator_\n",
    "# best_params = random_search.best_params_\n",
    "\n",
    "# # Print the best hyperparameters\n",
    "# print(\"Best Hyperparameters:\", best_params)\n",
    "\n",
    "# # Evaluate the best model on the test set\n",
    "# y_pred3 = best_bagging_model.predict(merged_data_tr)\n",
    "# f1 = f1_score(y, y_pred, average=\"micro\")\n",
    "# print(\"Best F1 Score:\", f1)\n"
   ]
  },
  {
   "cell_type": "code",
   "execution_count": 66,
   "id": "2c4bdd7c",
   "metadata": {
    "execution": {
     "iopub.execute_input": "2023-08-13T18:17:01.206763Z",
     "iopub.status.busy": "2023-08-13T18:17:01.206408Z",
     "iopub.status.idle": "2023-08-13T18:17:01.210545Z",
     "shell.execute_reply": "2023-08-13T18:17:01.209455Z"
    },
    "papermill": {
     "duration": 0.050535,
     "end_time": "2023-08-13T18:17:01.212566",
     "exception": false,
     "start_time": "2023-08-13T18:17:01.162031",
     "status": "completed"
    },
    "tags": []
   },
   "outputs": [],
   "source": [
    "# #printing classification report\n",
    "# clf_report3 = classification_report(y, y_pred3)\n",
    "# print(clf_report3)"
   ]
  },
  {
   "cell_type": "code",
   "execution_count": 67,
   "id": "e8f5d5b8",
   "metadata": {
    "execution": {
     "iopub.execute_input": "2023-08-13T18:17:01.300713Z",
     "iopub.status.busy": "2023-08-13T18:17:01.300007Z",
     "iopub.status.idle": "2023-08-13T18:17:01.363646Z",
     "shell.execute_reply": "2023-08-13T18:17:01.362552Z"
    },
    "papermill": {
     "duration": 0.110552,
     "end_time": "2023-08-13T18:17:01.366295",
     "exception": false,
     "start_time": "2023-08-13T18:17:01.255743",
     "status": "completed"
    },
    "tags": []
   },
   "outputs": [],
   "source": [
    "#applying best model on test data\n",
    "test_predictions=svm.predict(merged_data_ts)"
   ]
  },
  {
   "cell_type": "markdown",
   "id": "10f89bcd",
   "metadata": {
    "papermill": {
     "duration": 0.042757,
     "end_time": "2023-08-13T18:17:01.452421",
     "exception": false,
     "start_time": "2023-08-13T18:17:01.409664",
     "status": "completed"
    },
    "tags": []
   },
   "source": [
    "# Submission"
   ]
  },
  {
   "cell_type": "code",
   "execution_count": 68,
   "id": "0298be0f",
   "metadata": {
    "execution": {
     "iopub.execute_input": "2023-08-13T18:17:01.540346Z",
     "iopub.status.busy": "2023-08-13T18:17:01.539936Z",
     "iopub.status.idle": "2023-08-13T18:17:01.699084Z",
     "shell.execute_reply": "2023-08-13T18:17:01.698003Z"
    },
    "papermill": {
     "duration": 0.206147,
     "end_time": "2023-08-13T18:17:01.701644",
     "exception": false,
     "start_time": "2023-08-13T18:17:01.495497",
     "status": "completed"
    },
    "tags": []
   },
   "outputs": [],
   "source": [
    "sample=pd.read_csv(\"/kaggle/input/sentiment-prediction-on-movie-reviews/sample.csv\")#reading sample data\n",
    "submission = pd.DataFrame(columns =['id','sentiment']) #submission\n",
    "submission['id'] = [i for i in range(len(test_predictions))]\n",
    "submission['sentiment'] = label_encoder.inverse_transform(test_predictions)\n",
    "submission.to_csv('submission.csv', index = False)"
   ]
  },
  {
   "cell_type": "markdown",
   "id": "01f0ac9b",
   "metadata": {
    "papermill": {
     "duration": 0.043036,
     "end_time": "2023-08-13T18:17:01.788306",
     "exception": false,
     "start_time": "2023-08-13T18:17:01.745270",
     "status": "completed"
    },
    "tags": []
   },
   "source": [
    "# DATA PRE-PROCESSING on Train data"
   ]
  },
  {
   "cell_type": "markdown",
   "id": "46ac3cf6",
   "metadata": {
    "papermill": {
     "duration": 0.043135,
     "end_time": "2023-08-13T18:17:01.874994",
     "exception": false,
     "start_time": "2023-08-13T18:17:01.831859",
     "status": "completed"
    },
    "tags": []
   },
   "source": [
    "**HANDLING NULL VALUES**"
   ]
  },
  {
   "cell_type": "code",
   "execution_count": 69,
   "id": "51b3f7d7",
   "metadata": {
    "execution": {
     "iopub.execute_input": "2023-08-13T18:17:01.966563Z",
     "iopub.status.busy": "2023-08-13T18:17:01.966166Z",
     "iopub.status.idle": "2023-08-13T18:17:01.970799Z",
     "shell.execute_reply": "2023-08-13T18:17:01.969782Z"
    },
    "papermill": {
     "duration": 0.05244,
     "end_time": "2023-08-13T18:17:01.972969",
     "exception": false,
     "start_time": "2023-08-13T18:17:01.920529",
     "status": "completed"
    },
    "tags": []
   },
   "outputs": [],
   "source": [
    "# # Check for missing values in the 'reviewText' column\n",
    "# missing_values = data.isnull().sum()\n",
    "# print(f\"Number of missing values in 'reviewText': {missing_values}\")"
   ]
  },
  {
   "cell_type": "code",
   "execution_count": 70,
   "id": "4696d46c",
   "metadata": {
    "execution": {
     "iopub.execute_input": "2023-08-13T18:17:02.061839Z",
     "iopub.status.busy": "2023-08-13T18:17:02.061450Z",
     "iopub.status.idle": "2023-08-13T18:17:02.065674Z",
     "shell.execute_reply": "2023-08-13T18:17:02.064685Z"
    },
    "papermill": {
     "duration": 0.051786,
     "end_time": "2023-08-13T18:17:02.067714",
     "exception": false,
     "start_time": "2023-08-13T18:17:02.015928",
     "status": "completed"
    },
    "tags": []
   },
   "outputs": [],
   "source": [
    "# data['reviewText'].fillna(\" \",inplace=True)"
   ]
  },
  {
   "cell_type": "code",
   "execution_count": 71,
   "id": "4ec59874",
   "metadata": {
    "execution": {
     "iopub.execute_input": "2023-08-13T18:17:02.155095Z",
     "iopub.status.busy": "2023-08-13T18:17:02.154728Z",
     "iopub.status.idle": "2023-08-13T18:17:02.158686Z",
     "shell.execute_reply": "2023-08-13T18:17:02.157966Z"
    },
    "papermill": {
     "duration": 0.050109,
     "end_time": "2023-08-13T18:17:02.160598",
     "exception": false,
     "start_time": "2023-08-13T18:17:02.110489",
     "status": "completed"
    },
    "tags": []
   },
   "outputs": [],
   "source": [
    "# #checking non null value in reviewText column\n",
    "# non_null_values = data['reviewText'].notnull().sum()\n",
    "# print(f\"Number of non-null values in 'reviewText': {non_null_values}\")"
   ]
  },
  {
   "cell_type": "code",
   "execution_count": 72,
   "id": "c64dc548",
   "metadata": {
    "execution": {
     "iopub.execute_input": "2023-08-13T18:17:02.248755Z",
     "iopub.status.busy": "2023-08-13T18:17:02.248374Z",
     "iopub.status.idle": "2023-08-13T18:17:02.252794Z",
     "shell.execute_reply": "2023-08-13T18:17:02.251806Z"
    },
    "papermill": {
     "duration": 0.05098,
     "end_time": "2023-08-13T18:17:02.254861",
     "exception": false,
     "start_time": "2023-08-13T18:17:02.203881",
     "status": "completed"
    },
    "tags": []
   },
   "outputs": [],
   "source": [
    "# #creating copy of train data\n",
    "# data_cp = data.copy()\n",
    "# data_cp.head()"
   ]
  },
  {
   "cell_type": "code",
   "execution_count": 73,
   "id": "ff9aa913",
   "metadata": {
    "execution": {
     "iopub.execute_input": "2023-08-13T18:17:02.343872Z",
     "iopub.status.busy": "2023-08-13T18:17:02.343096Z",
     "iopub.status.idle": "2023-08-13T18:17:02.347977Z",
     "shell.execute_reply": "2023-08-13T18:17:02.346676Z"
    },
    "papermill": {
     "duration": 0.052162,
     "end_time": "2023-08-13T18:17:02.350571",
     "exception": false,
     "start_time": "2023-08-13T18:17:02.298409",
     "status": "completed"
    },
    "tags": []
   },
   "outputs": [],
   "source": [
    "# #applying preprocessor function to categorical column\n",
    "# data_cp['movieid'] = data_cp['movieid'].apply(preprocessor)\n",
    "# data_cp['reviewerName'] = data_cp['reviewerName'].apply(preprocessor)\n",
    "# data_cp['reviewText'] = data_cp['reviewText'].apply(preprocessor)"
   ]
  },
  {
   "cell_type": "code",
   "execution_count": 74,
   "id": "4d7b773b",
   "metadata": {
    "execution": {
     "iopub.execute_input": "2023-08-13T18:17:02.438962Z",
     "iopub.status.busy": "2023-08-13T18:17:02.438581Z",
     "iopub.status.idle": "2023-08-13T18:17:02.443246Z",
     "shell.execute_reply": "2023-08-13T18:17:02.442162Z"
    },
    "papermill": {
     "duration": 0.051608,
     "end_time": "2023-08-13T18:17:02.445534",
     "exception": false,
     "start_time": "2023-08-13T18:17:02.393926",
     "status": "completed"
    },
    "tags": []
   },
   "outputs": [],
   "source": [
    "# data_cp.head()#checking for changes"
   ]
  },
  {
   "cell_type": "code",
   "execution_count": 75,
   "id": "3e6b4fe8",
   "metadata": {
    "execution": {
     "iopub.execute_input": "2023-08-13T18:17:02.533787Z",
     "iopub.status.busy": "2023-08-13T18:17:02.533397Z",
     "iopub.status.idle": "2023-08-13T18:17:02.537715Z",
     "shell.execute_reply": "2023-08-13T18:17:02.536747Z"
    },
    "papermill": {
     "duration": 0.051085,
     "end_time": "2023-08-13T18:17:02.539942",
     "exception": false,
     "start_time": "2023-08-13T18:17:02.488857",
     "status": "completed"
    },
    "tags": []
   },
   "outputs": [],
   "source": [
    "# #splitting label and feature column\n",
    "# X=data_cp.drop(['sentiment'],axis=1)\n",
    "# y=data_cp['sentiment']"
   ]
  },
  {
   "cell_type": "code",
   "execution_count": 76,
   "id": "fb539133",
   "metadata": {
    "execution": {
     "iopub.execute_input": "2023-08-13T18:17:02.628362Z",
     "iopub.status.busy": "2023-08-13T18:17:02.627645Z",
     "iopub.status.idle": "2023-08-13T18:17:02.631915Z",
     "shell.execute_reply": "2023-08-13T18:17:02.631241Z"
    },
    "papermill": {
     "duration": 0.050525,
     "end_time": "2023-08-13T18:17:02.633919",
     "exception": false,
     "start_time": "2023-08-13T18:17:02.583394",
     "status": "completed"
    },
    "tags": []
   },
   "outputs": [],
   "source": [
    "# #converting object type column to numerical\n",
    "# le = LabelEncoder()\n",
    "# y_encoded = le.fit_transform(y)"
   ]
  },
  {
   "cell_type": "markdown",
   "id": "8bdbf250",
   "metadata": {
    "papermill": {
     "duration": 0.042817,
     "end_time": "2023-08-13T18:17:02.719558",
     "exception": false,
     "start_time": "2023-08-13T18:17:02.676741",
     "status": "completed"
    },
    "tags": []
   },
   "source": [
    "# FEATURE RANKING"
   ]
  },
  {
   "cell_type": "code",
   "execution_count": 77,
   "id": "e6c54e7d",
   "metadata": {
    "execution": {
     "iopub.execute_input": "2023-08-13T18:17:02.807283Z",
     "iopub.status.busy": "2023-08-13T18:17:02.806568Z",
     "iopub.status.idle": "2023-08-13T18:17:02.810906Z",
     "shell.execute_reply": "2023-08-13T18:17:02.810224Z"
    },
    "papermill": {
     "duration": 0.050375,
     "end_time": "2023-08-13T18:17:02.812871",
     "exception": false,
     "start_time": "2023-08-13T18:17:02.762496",
     "status": "completed"
    },
    "tags": []
   },
   "outputs": [],
   "source": [
    "# #ordinalencoding on categorical variables\n",
    "# cat_cols=X.select_dtypes(include=['object','bool']).columns\n",
    "# encoder = OrdinalEncoder()\n",
    "# X_encoded = pd.DataFrame(encoder.fit_transform(X[cat_cols]),columns=cat_cols)\n"
   ]
  },
  {
   "cell_type": "code",
   "execution_count": 78,
   "id": "e50877be",
   "metadata": {
    "execution": {
     "iopub.execute_input": "2023-08-13T18:17:02.900737Z",
     "iopub.status.busy": "2023-08-13T18:17:02.900018Z",
     "iopub.status.idle": "2023-08-13T18:17:02.904694Z",
     "shell.execute_reply": "2023-08-13T18:17:02.904005Z"
    },
    "papermill": {
     "duration": 0.051,
     "end_time": "2023-08-13T18:17:02.906716",
     "exception": false,
     "start_time": "2023-08-13T18:17:02.855716",
     "status": "completed"
    },
    "tags": []
   },
   "outputs": [],
   "source": [
    "# #using Recursive feature elimination to eliminate unnecessary column\n",
    "# model = LogisticRegression()\n",
    "# rfe = RFE(estimator=model,n_features_to_select=2)\n",
    "# X_selected = rfe.fit_transform(X_encoded,y_encoded)\n",
    "# feature_rankings = rfe.ranking_\n",
    "# print(\"Feature Rankings:\")\n",
    "# for feature, rank in zip(X_encoded.columns, feature_rankings):\n",
    "#     print(f\"{feature}: {rank}\")"
   ]
  },
  {
   "cell_type": "markdown",
   "id": "f8a593a7",
   "metadata": {
    "papermill": {
     "duration": 0.042362,
     "end_time": "2023-08-13T18:17:02.991848",
     "exception": false,
     "start_time": "2023-08-13T18:17:02.949486",
     "status": "completed"
    },
    "tags": []
   },
   "source": [
    "on the basis of rfe we can remove isFrequentReviewver\n"
   ]
  },
  {
   "cell_type": "code",
   "execution_count": 79,
   "id": "85d030da",
   "metadata": {
    "execution": {
     "iopub.execute_input": "2023-08-13T18:17:03.081429Z",
     "iopub.status.busy": "2023-08-13T18:17:03.080419Z",
     "iopub.status.idle": "2023-08-13T18:17:03.084931Z",
     "shell.execute_reply": "2023-08-13T18:17:03.084220Z"
    },
    "papermill": {
     "duration": 0.052274,
     "end_time": "2023-08-13T18:17:03.086943",
     "exception": false,
     "start_time": "2023-08-13T18:17:03.034669",
     "status": "completed"
    },
    "tags": []
   },
   "outputs": [],
   "source": [
    "# from sklearn.feature_selection import VarianceThreshold\n",
    "\n",
    "\n",
    "# # Applying variance threshold feature selection\n",
    "# var_threshold = VarianceThreshold(threshold=10000000)  \n",
    "# X_selected = var_threshold.fit_transform(X_encoded,y_encoded)\n",
    "\n",
    "# # Getting the selected feature indices\n",
    "# selected_feature_indices = var_threshold.get_support(indices=True)\n",
    "\n",
    "# # Getting the selected feature names\n",
    "# selected_feature_names = X_encoded.columns[selected_feature_indices]\n",
    "\n",
    "# # Print the selected feature_names\n",
    "# print(\"Selected Features:\")\n",
    "# for feature in selected_feature_names:\n",
    "#     print(feature)\n"
   ]
  },
  {
   "cell_type": "markdown",
   "id": "bbdd37bf",
   "metadata": {
    "papermill": {
     "duration": 0.044186,
     "end_time": "2023-08-13T18:17:03.174937",
     "exception": false,
     "start_time": "2023-08-13T18:17:03.130751",
     "status": "completed"
    },
    "tags": []
   },
   "source": [
    "\n",
    "\n",
    "on the basis of variance threshold we can remove reviewername"
   ]
  },
  {
   "cell_type": "code",
   "execution_count": 80,
   "id": "e7043541",
   "metadata": {
    "execution": {
     "iopub.execute_input": "2023-08-13T18:17:03.264489Z",
     "iopub.status.busy": "2023-08-13T18:17:03.263422Z",
     "iopub.status.idle": "2023-08-13T18:17:03.268102Z",
     "shell.execute_reply": "2023-08-13T18:17:03.267203Z"
    },
    "papermill": {
     "duration": 0.051138,
     "end_time": "2023-08-13T18:17:03.270226",
     "exception": false,
     "start_time": "2023-08-13T18:17:03.219088",
     "status": "completed"
    },
    "tags": []
   },
   "outputs": [],
   "source": [
    "# k = 1\n",
    "# selector = SelectKBest(score_func=chi2, k=k)\n",
    "# X_selected = selector.fit_transform(X_encoded, y_encoded)\n",
    "# selected_feature_indices = selector.get_support(indices=True)\n",
    "# selected_feature_names = X_encoded.columns[selected_feature_indices]\n",
    "# print(\"Selected Features:\")\n",
    "# for feature in selected_feature_names:\n",
    "#     print(feature)"
   ]
  },
  {
   "cell_type": "markdown",
   "id": "710ac702",
   "metadata": {
    "papermill": {
     "duration": 0.044306,
     "end_time": "2023-08-13T18:17:03.359860",
     "exception": false,
     "start_time": "2023-08-13T18:17:03.315554",
     "status": "completed"
    },
    "tags": []
   },
   "source": [
    "on the basis of selectKbest we can remove movieid\n"
   ]
  },
  {
   "cell_type": "code",
   "execution_count": 81,
   "id": "b9c8bcba",
   "metadata": {
    "execution": {
     "iopub.execute_input": "2023-08-13T18:17:03.460613Z",
     "iopub.status.busy": "2023-08-13T18:17:03.459619Z",
     "iopub.status.idle": "2023-08-13T18:17:03.465831Z",
     "shell.execute_reply": "2023-08-13T18:17:03.464729Z"
    },
    "papermill": {
     "duration": 0.06167,
     "end_time": "2023-08-13T18:17:03.468834",
     "exception": false,
     "start_time": "2023-08-13T18:17:03.407164",
     "status": "completed"
    },
    "tags": []
   },
   "outputs": [],
   "source": [
    "# #after feature selection taking only reviewtext as per ranking\n",
    "# X_new = data_cp['reviewText']\n",
    "# y_new = y_encoded"
   ]
  },
  {
   "cell_type": "code",
   "execution_count": 82,
   "id": "7de173c9",
   "metadata": {
    "execution": {
     "iopub.execute_input": "2023-08-13T18:17:03.559089Z",
     "iopub.status.busy": "2023-08-13T18:17:03.558361Z",
     "iopub.status.idle": "2023-08-13T18:17:03.562223Z",
     "shell.execute_reply": "2023-08-13T18:17:03.561513Z"
    },
    "papermill": {
     "duration": 0.050784,
     "end_time": "2023-08-13T18:17:03.564118",
     "exception": false,
     "start_time": "2023-08-13T18:17:03.513334",
     "status": "completed"
    },
    "tags": []
   },
   "outputs": [],
   "source": [
    "# from sklearn.feature_extraction.text import TfidfVectorizer      # applying Tfidf Vectorizer for encoding\n",
    "# tfidf_vect =TfidfVectorizer()\n",
    "# tfidf_vect = tfidf_vect.fit(X_new)\n",
    "# X_tfidf = tfidf_vect.transform(X_new)\n",
    "\n",
    "# #X_tfidf = pd.DataFrame(tfidf_X.toarray(), columns=tfidf_vect.get_feature_names_out())\n",
    "# X_tfidf.shape"
   ]
  },
  {
   "cell_type": "markdown",
   "id": "a2047e71",
   "metadata": {
    "papermill": {
     "duration": 0.043347,
     "end_time": "2023-08-13T18:17:03.651010",
     "exception": false,
     "start_time": "2023-08-13T18:17:03.607663",
     "status": "completed"
    },
    "tags": []
   },
   "source": [
    "# Baseline Model"
   ]
  },
  {
   "cell_type": "code",
   "execution_count": 83,
   "id": "39ced258",
   "metadata": {
    "execution": {
     "iopub.execute_input": "2023-08-13T18:17:03.740868Z",
     "iopub.status.busy": "2023-08-13T18:17:03.740215Z",
     "iopub.status.idle": "2023-08-13T18:17:03.744007Z",
     "shell.execute_reply": "2023-08-13T18:17:03.743307Z"
    },
    "papermill": {
     "duration": 0.049959,
     "end_time": "2023-08-13T18:17:03.745900",
     "exception": false,
     "start_time": "2023-08-13T18:17:03.695941",
     "status": "completed"
    },
    "tags": []
   },
   "outputs": [],
   "source": [
    "# from sklearn.dummy import DummyClassifier\n",
    "# dc = DummyClassifier\n",
    "# dummy_clf = dc(strategy = 'most_frequent')\n",
    "# dummy_clf.fit(X_tfidf,y_new)\n",
    "# y_pred = dummy_clf.predict(X_tfidf)\n",
    "# dummy_clf.score(y_new,y_pred)"
   ]
  },
  {
   "cell_type": "markdown",
   "id": "3b426725",
   "metadata": {
    "papermill": {
     "duration": 0.0425,
     "end_time": "2023-08-13T18:17:03.831713",
     "exception": false,
     "start_time": "2023-08-13T18:17:03.789213",
     "status": "completed"
    },
    "tags": []
   },
   "source": [
    "#  MODEL 1: LOGISTIC REGRESSION"
   ]
  },
  {
   "cell_type": "code",
   "execution_count": 84,
   "id": "acc4664b",
   "metadata": {
    "execution": {
     "iopub.execute_input": "2023-08-13T18:17:03.919800Z",
     "iopub.status.busy": "2023-08-13T18:17:03.919208Z",
     "iopub.status.idle": "2023-08-13T18:17:03.922664Z",
     "shell.execute_reply": "2023-08-13T18:17:03.922006Z"
    },
    "papermill": {
     "duration": 0.049916,
     "end_time": "2023-08-13T18:17:03.924520",
     "exception": false,
     "start_time": "2023-08-13T18:17:03.874604",
     "status": "completed"
    },
    "tags": []
   },
   "outputs": [],
   "source": [
    "# log_reg  =LogisticRegression(max_iter = 1000,random_state=42,solver = \"liblinear\",C = 3)\n",
    "# log_reg.fit(X_tfidf,y_new)\n",
    "# y_pred = log_reg.predict(X_tfidf)\n",
    "# f1_score(y_new,y_pred,average=\"micro\")"
   ]
  },
  {
   "cell_type": "code",
   "execution_count": 85,
   "id": "7543718c",
   "metadata": {
    "execution": {
     "iopub.execute_input": "2023-08-13T18:17:04.015257Z",
     "iopub.status.busy": "2023-08-13T18:17:04.014608Z",
     "iopub.status.idle": "2023-08-13T18:17:04.018239Z",
     "shell.execute_reply": "2023-08-13T18:17:04.017524Z"
    },
    "papermill": {
     "duration": 0.052104,
     "end_time": "2023-08-13T18:17:04.020154",
     "exception": false,
     "start_time": "2023-08-13T18:17:03.968050",
     "status": "completed"
    },
    "tags": []
   },
   "outputs": [],
   "source": [
    "# log_reg  =LogisticRegression(max_iter = 1000,multi_class='multinomial',C=3,solver=\"saga\")\n",
    "# log_reg.fit(X_tfidf,y_new)\n",
    "# y_pred = log_reg.predict(X_tfidf)\n",
    "# f1_score(y_new,y_pred,average=\"micro\")"
   ]
  },
  {
   "cell_type": "markdown",
   "id": "aab42b1e",
   "metadata": {
    "papermill": {
     "duration": 0.04307,
     "end_time": "2023-08-13T18:17:04.108009",
     "exception": false,
     "start_time": "2023-08-13T18:17:04.064939",
     "status": "completed"
    },
    "tags": []
   },
   "source": [
    "0.8580223399157031"
   ]
  },
  {
   "cell_type": "code",
   "execution_count": 86,
   "id": "e8a9c8f8",
   "metadata": {
    "execution": {
     "iopub.execute_input": "2023-08-13T18:17:04.196732Z",
     "iopub.status.busy": "2023-08-13T18:17:04.196090Z",
     "iopub.status.idle": "2023-08-13T18:17:04.199938Z",
     "shell.execute_reply": "2023-08-13T18:17:04.199112Z"
    },
    "papermill": {
     "duration": 0.050377,
     "end_time": "2023-08-13T18:17:04.202153",
     "exception": false,
     "start_time": "2023-08-13T18:17:04.151776",
     "status": "completed"
    },
    "tags": []
   },
   "outputs": [],
   "source": [
    "# pipe = Pipeline([('scaler',MaxAbsScaler()),('logreg',LogisticRegression(multi_class='multinomial',solver='sag'))])\n",
    "# pipe.fit(X_tfidf,y_new)"
   ]
  },
  {
   "cell_type": "code",
   "execution_count": 87,
   "id": "0e3dcb52",
   "metadata": {
    "execution": {
     "iopub.execute_input": "2023-08-13T18:17:04.290204Z",
     "iopub.status.busy": "2023-08-13T18:17:04.289589Z",
     "iopub.status.idle": "2023-08-13T18:17:04.293729Z",
     "shell.execute_reply": "2023-08-13T18:17:04.293004Z"
    },
    "papermill": {
     "duration": 0.050191,
     "end_time": "2023-08-13T18:17:04.295642",
     "exception": false,
     "start_time": "2023-08-13T18:17:04.245451",
     "status": "completed"
    },
    "tags": []
   },
   "outputs": [],
   "source": [
    "# pipe = Pipeline([('scaler',MaxAbsScaler()),('logreg',LogisticRegressionCV(cv=5,multi_class='multinomial',solver='saga',max_iter=1000,random_state=1729))])\n",
    "# pipe.fit(X_tfidf,y_new)"
   ]
  },
  {
   "cell_type": "markdown",
   "id": "a3e209a7",
   "metadata": {
    "papermill": {
     "duration": 0.042499,
     "end_time": "2023-08-13T18:17:04.381596",
     "exception": false,
     "start_time": "2023-08-13T18:17:04.339097",
     "status": "completed"
    },
    "tags": []
   },
   "source": [
    "# hyperparameter tuning for log_reg"
   ]
  },
  {
   "cell_type": "code",
   "execution_count": 88,
   "id": "49093235",
   "metadata": {
    "execution": {
     "iopub.execute_input": "2023-08-13T18:17:04.470339Z",
     "iopub.status.busy": "2023-08-13T18:17:04.469960Z",
     "iopub.status.idle": "2023-08-13T18:17:04.474547Z",
     "shell.execute_reply": "2023-08-13T18:17:04.473582Z"
    },
    "papermill": {
     "duration": 0.05203,
     "end_time": "2023-08-13T18:17:04.476617",
     "exception": false,
     "start_time": "2023-08-13T18:17:04.424587",
     "status": "completed"
    },
    "tags": []
   },
   "outputs": [],
   "source": [
    "# # Define the hyperparameter search space\n",
    "# params = {'C': uniform(loc=0, scale=20),'penalty': ['l1', 'l2'],'solver': ['liblinear','saga'],'max_iter': [1000]}\n",
    "\n",
    "# # applying model\n",
    "# log_reg = LogisticRegression(random_state=42)\n",
    "\n",
    "# #using randomsearch cv for hypertuning\n",
    "# random_search1 = RandomizedSearchCV(log_reg,param_distributions=params, n_iter=10,cv =5, scoring='accuracy',n_jobs =1, random_state=42)\n",
    "# random_search1.fit(X_tfidf,y_new)\n",
    "\n",
    "# #getting best estimator and parameter for log_reg\n",
    "# best_model1 = random_search1.best_estimator_\n",
    "# best_params1 = random_search1.best_params_\n",
    "\n",
    "# #applying on train data\n",
    "# y_pred1 = best_model1.predict(X_tfidf)\n",
    "\n",
    "# # Calculate the F1 score\n",
    "# f1 = f1_score(y_new, y_pred1, average='micro')\n",
    "# print(\"Best Hyperparameters:\", best_params1)\n",
    "# print(\"F1 Score:\", f1)"
   ]
  },
  {
   "cell_type": "markdown",
   "id": "f7fc5c99",
   "metadata": {
    "papermill": {
     "duration": 0.042396,
     "end_time": "2023-08-13T18:17:04.562102",
     "exception": false,
     "start_time": "2023-08-13T18:17:04.519706",
     "status": "completed"
    },
    "tags": []
   },
   "source": [
    "Best Hyperparameters: {'C': 6.0848448591907545, 'max_iter': 1000, 'penalty': 'l2', 'solver': 'liblinear'}\n",
    "F1 Score: 0.8747281239631846\n",
    "\n",
    "\n",
    "using random state 42"
   ]
  },
  {
   "cell_type": "markdown",
   "id": "ba4cb582",
   "metadata": {
    "papermill": {
     "duration": 0.042782,
     "end_time": "2023-08-13T18:17:04.647857",
     "exception": false,
     "start_time": "2023-08-13T18:17:04.605075",
     "status": "completed"
    },
    "tags": []
   },
   "source": [
    "Best Hyperparameters: {'C': 3.0424224295953772, 'max_iter': 1000, 'penalty': 'l2', 'solver': 'liblinear'}\n",
    "F1 Score: 0.8583111122033938"
   ]
  },
  {
   "cell_type": "code",
   "execution_count": 89,
   "id": "abd2fde3",
   "metadata": {
    "execution": {
     "iopub.execute_input": "2023-08-13T18:17:04.735862Z",
     "iopub.status.busy": "2023-08-13T18:17:04.735108Z",
     "iopub.status.idle": "2023-08-13T18:17:04.739717Z",
     "shell.execute_reply": "2023-08-13T18:17:04.738767Z"
    },
    "papermill": {
     "duration": 0.051197,
     "end_time": "2023-08-13T18:17:04.741835",
     "exception": false,
     "start_time": "2023-08-13T18:17:04.690638",
     "status": "completed"
    },
    "tags": []
   },
   "outputs": [],
   "source": [
    "# #applying confusion metrix\n",
    "# cm1 = confusion_matrix(y_new,y_pred)\n",
    "# #visualisation of confusion matrix\n",
    "# sns.heatmap(cm1,annot=True,cmap='Blues')\n",
    "# plt.xlabel('Predicted Labels')\n",
    "# plt.ylabel('True Labels')\n",
    "# plt.title('Confusion Matrix')\n",
    "# plt.show()"
   ]
  },
  {
   "cell_type": "code",
   "execution_count": 90,
   "id": "a31be6d0",
   "metadata": {
    "execution": {
     "iopub.execute_input": "2023-08-13T18:17:04.829220Z",
     "iopub.status.busy": "2023-08-13T18:17:04.828813Z",
     "iopub.status.idle": "2023-08-13T18:17:04.832922Z",
     "shell.execute_reply": "2023-08-13T18:17:04.831739Z"
    },
    "papermill": {
     "duration": 0.050287,
     "end_time": "2023-08-13T18:17:04.835045",
     "exception": false,
     "start_time": "2023-08-13T18:17:04.784758",
     "status": "completed"
    },
    "tags": []
   },
   "outputs": [],
   "source": [
    "# #printing classification report\n",
    "# clf_report1 = classification_report(y_new, y_pred1)\n",
    "# print(clf_report1)"
   ]
  },
  {
   "cell_type": "markdown",
   "id": "3cc918ca",
   "metadata": {
    "papermill": {
     "duration": 0.042773,
     "end_time": "2023-08-13T18:17:04.920871",
     "exception": false,
     "start_time": "2023-08-13T18:17:04.878098",
     "status": "completed"
    },
    "tags": []
   },
   "source": [
    "# MODEL2 : SVM USING LINEAR SVC"
   ]
  },
  {
   "cell_type": "code",
   "execution_count": 91,
   "id": "cdd3d44b",
   "metadata": {
    "execution": {
     "iopub.execute_input": "2023-08-13T18:17:05.008210Z",
     "iopub.status.busy": "2023-08-13T18:17:05.007840Z",
     "iopub.status.idle": "2023-08-13T18:17:05.011862Z",
     "shell.execute_reply": "2023-08-13T18:17:05.010798Z"
    },
    "papermill": {
     "duration": 0.050164,
     "end_time": "2023-08-13T18:17:05.013954",
     "exception": false,
     "start_time": "2023-08-13T18:17:04.963790",
     "status": "completed"
    },
    "tags": []
   },
   "outputs": [],
   "source": [
    "# sv_clf = LinearSVC(random_state=52,C=0.18,max_iter=10000,loss='squared_hinge') #default svc model\n",
    "# sv_clf.fit(X_tfidf,y_new)\n",
    "# f1_score(y_new,sv_clf.predict(X_tfidf),average=\"micro\")"
   ]
  },
  {
   "cell_type": "markdown",
   "id": "ed9255dc",
   "metadata": {
    "papermill": {
     "duration": 0.04937,
     "end_time": "2023-08-13T18:17:05.108284",
     "exception": false,
     "start_time": "2023-08-13T18:17:05.058914",
     "status": "completed"
    },
    "tags": []
   },
   "source": [
    "0.8816893793239042"
   ]
  },
  {
   "cell_type": "code",
   "execution_count": 92,
   "id": "6e036b96",
   "metadata": {
    "execution": {
     "iopub.execute_input": "2023-08-13T18:17:05.200837Z",
     "iopub.status.busy": "2023-08-13T18:17:05.200063Z",
     "iopub.status.idle": "2023-08-13T18:17:05.204815Z",
     "shell.execute_reply": "2023-08-13T18:17:05.203843Z"
    },
    "papermill": {
     "duration": 0.05239,
     "end_time": "2023-08-13T18:17:05.207013",
     "exception": false,
     "start_time": "2023-08-13T18:17:05.154623",
     "status": "completed"
    },
    "tags": []
   },
   "outputs": [],
   "source": [
    "# # Polynomial Kernel\n",
    "# svc=SVC(kernel=\"poly\",probability=True)\n",
    "# scores=scores=cross_val_score(svc,X_tfidf, y_new,scoring=\"accuracy\",n_jobs=-1,cv=5) \n",
    "# print('Cross-validation mean accuracy {0:.2f}%'.format(np.mean(scores)*100))"
   ]
  },
  {
   "cell_type": "code",
   "execution_count": 93,
   "id": "69804406",
   "metadata": {
    "execution": {
     "iopub.execute_input": "2023-08-13T18:17:05.295735Z",
     "iopub.status.busy": "2023-08-13T18:17:05.294984Z",
     "iopub.status.idle": "2023-08-13T18:17:05.299391Z",
     "shell.execute_reply": "2023-08-13T18:17:05.298609Z"
    },
    "papermill": {
     "duration": 0.050361,
     "end_time": "2023-08-13T18:17:05.301351",
     "exception": false,
     "start_time": "2023-08-13T18:17:05.250990",
     "status": "completed"
    },
    "tags": []
   },
   "outputs": [],
   "source": [
    "# # RBF Kernel\n",
    "# svc=SVC(kernel=\"rbf\",probability=True)\n",
    "# scores=scores=cross_val_score(svc,X_tfidf, y_new,scoring=\"accuracy\",n_jobs=-1,cv=5) \n",
    "# print('Cross-validation mean accuracy {0:.2f}%'.format(np.mean(scores)*100))"
   ]
  },
  {
   "cell_type": "code",
   "execution_count": 94,
   "id": "09927760",
   "metadata": {
    "execution": {
     "iopub.execute_input": "2023-08-13T18:17:05.389328Z",
     "iopub.status.busy": "2023-08-13T18:17:05.388925Z",
     "iopub.status.idle": "2023-08-13T18:17:05.392912Z",
     "shell.execute_reply": "2023-08-13T18:17:05.391876Z"
    },
    "papermill": {
     "duration": 0.050169,
     "end_time": "2023-08-13T18:17:05.394975",
     "exception": false,
     "start_time": "2023-08-13T18:17:05.344806",
     "status": "completed"
    },
    "tags": []
   },
   "outputs": [],
   "source": [
    "# # Sigmoid Kernel\n",
    "# svc=SVC(kernel=\"sigmoid\",probability=True)\n",
    "# scores=scores=cross_val_score(svc,X_tfidf, y_new,scoring=\"accuracy\",n_jobs=-1,cv=5) \n",
    "# print('Cross-validation mean accuracy {0:.2f}%'.format(np.mean(scores)*100))"
   ]
  },
  {
   "cell_type": "markdown",
   "id": "d180420d",
   "metadata": {
    "papermill": {
     "duration": 0.042772,
     "end_time": "2023-08-13T18:17:05.480530",
     "exception": false,
     "start_time": "2023-08-13T18:17:05.437758",
     "status": "completed"
    },
    "tags": []
   },
   "source": [
    "# Hyperparameter tuning  for svc"
   ]
  },
  {
   "cell_type": "code",
   "execution_count": 95,
   "id": "3398fc05",
   "metadata": {
    "execution": {
     "iopub.execute_input": "2023-08-13T18:17:05.568207Z",
     "iopub.status.busy": "2023-08-13T18:17:05.567829Z",
     "iopub.status.idle": "2023-08-13T18:17:05.572310Z",
     "shell.execute_reply": "2023-08-13T18:17:05.571253Z"
    },
    "papermill": {
     "duration": 0.050727,
     "end_time": "2023-08-13T18:17:05.574326",
     "exception": false,
     "start_time": "2023-08-13T18:17:05.523599",
     "status": "completed"
    },
    "tags": []
   },
   "outputs": [],
   "source": [
    "# ## Define the hyperparameter search space\n",
    "# param_dist = {'C': uniform(loc=0, scale=1),'loss': ['hinge', 'squared_hinge'],'max_iter': [100000]}\n",
    "\n",
    "#  # Create the Linear SVC model\n",
    "# linear_svc = LinearSVC()\n",
    "\n",
    "# # Perform random search cross-validation\n",
    "# random_search2 = RandomizedSearchCV(linear_svc, param_distributions=param_dist, n_iter=10, scoring='f1_micro', random_state=42)\n",
    "# random_search2.fit(X_tfidf,y_new)\n",
    "\n",
    "# # Get the best model and its hyperparameters\n",
    "# best_model2 = random_search2.best_estimator_\n",
    "# best_params2 = random_search2.best_params_\n",
    "\n",
    "#  # Make predictions using the best model\n",
    "# y_pred2 = best_model2.predict(X_tfidf)\n",
    "\n",
    "#  # Calculate the F1 score\n",
    "# f1 = f1_score(y_new, y_pred2, average='micro')\n",
    "\n",
    "#  # Print the best hyperparameters and F1 score\n",
    "# print(\"Best Hyperparameters:\", best_params2)\n",
    "# print(\"F1 Score:\", f1)"
   ]
  },
  {
   "cell_type": "markdown",
   "id": "2621d573",
   "metadata": {
    "papermill": {
     "duration": 0.042581,
     "end_time": "2023-08-13T18:17:05.659635",
     "exception": false,
     "start_time": "2023-08-13T18:17:05.617054",
     "status": "completed"
    },
    "tags": []
   },
   "source": [
    "Best Hyperparameters: {'C': 0.1834347898661638, 'loss': 'squared_hinge', 'max_iter': 100000}\n",
    "F1 Score: 0.847669546197422"
   ]
  },
  {
   "cell_type": "code",
   "execution_count": 96,
   "id": "cdc845db",
   "metadata": {
    "execution": {
     "iopub.execute_input": "2023-08-13T18:17:05.747159Z",
     "iopub.status.busy": "2023-08-13T18:17:05.746202Z",
     "iopub.status.idle": "2023-08-13T18:17:05.751136Z",
     "shell.execute_reply": "2023-08-13T18:17:05.750231Z"
    },
    "papermill": {
     "duration": 0.050899,
     "end_time": "2023-08-13T18:17:05.753233",
     "exception": false,
     "start_time": "2023-08-13T18:17:05.702334",
     "status": "completed"
    },
    "tags": []
   },
   "outputs": [],
   "source": [
    "# #applying confusion metrix\n",
    "# cm2 = confusion_matrix(ytrain_balanced, y_pred2)\n",
    "# #visualisation of confusion matrix\n",
    "# sns.heatmap(cm2, annot=True, cmap='Blues')\n",
    "# plt.xlabel('Predicted Labels')\n",
    "# plt.ylabel('True Labels')\n",
    "# plt.title('Confusion Matrix')\n",
    "# plt.show()"
   ]
  },
  {
   "cell_type": "code",
   "execution_count": 97,
   "id": "ac2b4bbd",
   "metadata": {
    "execution": {
     "iopub.execute_input": "2023-08-13T18:17:05.840818Z",
     "iopub.status.busy": "2023-08-13T18:17:05.839904Z",
     "iopub.status.idle": "2023-08-13T18:17:05.843811Z",
     "shell.execute_reply": "2023-08-13T18:17:05.843147Z"
    },
    "papermill": {
     "duration": 0.049541,
     "end_time": "2023-08-13T18:17:05.845625",
     "exception": false,
     "start_time": "2023-08-13T18:17:05.796084",
     "status": "completed"
    },
    "tags": []
   },
   "outputs": [],
   "source": [
    "# #printing classification report\n",
    "# clf_report2 = classification_report(ytrain_balanced, y_pred2)\n",
    "# print(clf_report2)"
   ]
  },
  {
   "cell_type": "markdown",
   "id": "025ec453",
   "metadata": {
    "papermill": {
     "duration": 0.043113,
     "end_time": "2023-08-13T18:17:05.931875",
     "exception": false,
     "start_time": "2023-08-13T18:17:05.888762",
     "status": "completed"
    },
    "tags": []
   },
   "source": [
    "# Model 3 Naive Bayes"
   ]
  },
  {
   "cell_type": "code",
   "execution_count": 98,
   "id": "07399e68",
   "metadata": {
    "execution": {
     "iopub.execute_input": "2023-08-13T18:17:06.019070Z",
     "iopub.status.busy": "2023-08-13T18:17:06.018416Z",
     "iopub.status.idle": "2023-08-13T18:17:06.021969Z",
     "shell.execute_reply": "2023-08-13T18:17:06.021317Z"
    },
    "papermill": {
     "duration": 0.049474,
     "end_time": "2023-08-13T18:17:06.023781",
     "exception": false,
     "start_time": "2023-08-13T18:17:05.974307",
     "status": "completed"
    },
    "tags": []
   },
   "outputs": [],
   "source": [
    "# from sklearn.naive_bayes import MultinomialNB\n",
    "# mnb=MultinomialNB()\n",
    "# mnb.fit(X_tfidf,y_new)\n",
    "# f1_score(y_new,mnb.predict(X_tfidf))"
   ]
  },
  {
   "cell_type": "markdown",
   "id": "8ee4b696",
   "metadata": {
    "papermill": {
     "duration": 0.043415,
     "end_time": "2023-08-13T18:17:06.110296",
     "exception": false,
     "start_time": "2023-08-13T18:17:06.066881",
     "status": "completed"
    },
    "tags": []
   },
   "source": [
    "f1score on train 0.8630069517896216\n",
    "score on text  0.7559"
   ]
  },
  {
   "cell_type": "code",
   "execution_count": 99,
   "id": "bf5c8841",
   "metadata": {
    "execution": {
     "iopub.execute_input": "2023-08-13T18:17:06.197795Z",
     "iopub.status.busy": "2023-08-13T18:17:06.197392Z",
     "iopub.status.idle": "2023-08-13T18:17:06.201509Z",
     "shell.execute_reply": "2023-08-13T18:17:06.200771Z"
    },
    "papermill": {
     "duration": 0.050126,
     "end_time": "2023-08-13T18:17:06.203352",
     "exception": false,
     "start_time": "2023-08-13T18:17:06.153226",
     "status": "completed"
    },
    "tags": []
   },
   "outputs": [],
   "source": [
    "# from sklearn.naive_bayes import ComplementNB\n",
    "# cnb = ComplementNB(force_alpha=True)\n",
    "# cnb.fit(X_tfidf,y_new)\n",
    "# f1_score(y_new,cnb.predict(X_tfidf))"
   ]
  },
  {
   "cell_type": "markdown",
   "id": "cedd6d87",
   "metadata": {
    "papermill": {
     "duration": 0.042529,
     "end_time": "2023-08-13T18:17:06.288874",
     "exception": false,
     "start_time": "2023-08-13T18:17:06.246345",
     "status": "completed"
    },
    "tags": []
   },
   "source": [
    "f1 score on train : 0.8671993734324155\n",
    "on test : 0.76"
   ]
  },
  {
   "cell_type": "markdown",
   "id": "fa14a0b2",
   "metadata": {
    "papermill": {
     "duration": 0.042491,
     "end_time": "2023-08-13T18:17:06.374334",
     "exception": false,
     "start_time": "2023-08-13T18:17:06.331843",
     "status": "completed"
    },
    "tags": []
   },
   "source": [
    "# Model 4:Bagging "
   ]
  },
  {
   "cell_type": "code",
   "execution_count": 100,
   "id": "a54ebc7f",
   "metadata": {
    "execution": {
     "iopub.execute_input": "2023-08-13T18:17:06.461624Z",
     "iopub.status.busy": "2023-08-13T18:17:06.460728Z",
     "iopub.status.idle": "2023-08-13T18:17:06.464805Z",
     "shell.execute_reply": "2023-08-13T18:17:06.464137Z"
    },
    "papermill": {
     "duration": 0.049482,
     "end_time": "2023-08-13T18:17:06.466552",
     "exception": false,
     "start_time": "2023-08-13T18:17:06.417070",
     "status": "completed"
    },
    "tags": []
   },
   "outputs": [],
   "source": [
    "\n",
    "# # Create the base model (Logistic Regression)\n",
    "# base_model = LogisticRegression(C=10, max_iter=1000, penalty='l2', solver='liblinear')\n",
    "\n",
    "# # Create the Bagging classifier with Logistic Regression as the base model\n",
    "# bagging_model = BaggingClassifier(base_model, n_estimators=14, random_state=52)\n",
    "\n",
    "# # Train the Bagging classifier\n",
    "# bagging_model.fit(X_tfidf,y_new)\n",
    "# y_pred5 = bagging_model.predict(X_tfidf)\n",
    "\n",
    "# # Evaluate the model using F1-score\n",
    "# f1 = f1_score(y_new, y_pred5, average=\"micro\")\n",
    "# print(\"F1 Score:\", f1)\n",
    "\n"
   ]
  },
  {
   "cell_type": "markdown",
   "id": "0f65cfe4",
   "metadata": {
    "papermill": {
     "duration": 0.042265,
     "end_time": "2023-08-13T18:17:06.551726",
     "exception": false,
     "start_time": "2023-08-13T18:17:06.509461",
     "status": "completed"
    },
    "tags": []
   },
   "source": [
    "F1 Score: 0.8700094619004903"
   ]
  },
  {
   "cell_type": "markdown",
   "id": "1de6e6ca",
   "metadata": {
    "papermill": {
     "duration": 0.04211,
     "end_time": "2023-08-13T18:17:06.636606",
     "exception": false,
     "start_time": "2023-08-13T18:17:06.594496",
     "status": "completed"
    },
    "tags": []
   },
   "source": [
    "# Hyperparametertuning for bagging classifier"
   ]
  },
  {
   "cell_type": "markdown",
   "id": "c72885da",
   "metadata": {
    "papermill": {
     "duration": 0.042411,
     "end_time": "2023-08-13T18:17:06.721647",
     "exception": false,
     "start_time": "2023-08-13T18:17:06.679236",
     "status": "completed"
    },
    "tags": []
   },
   "source": [
    "Best Hyperparameters: {'n_estimators': 14, 'base_estimator__C': 10.0} #on smote set\n",
    "Best F1 Score: 0.8014979552451408"
   ]
  },
  {
   "cell_type": "markdown",
   "id": "44f2b469",
   "metadata": {
    "papermill": {
     "duration": 0.042546,
     "end_time": "2023-08-13T18:17:06.806688",
     "exception": false,
     "start_time": "2023-08-13T18:17:06.764142",
     "status": "completed"
    },
    "tags": []
   },
   "source": [
    "Best Hyperparameters: {'n_estimators': 14, 'base_estimator__C': 10.0} #without smote\n",
    "Best F1 Score: 0.8592757345261063"
   ]
  },
  {
   "cell_type": "code",
   "execution_count": 101,
   "id": "4a092602",
   "metadata": {
    "execution": {
     "iopub.execute_input": "2023-08-13T18:17:06.894393Z",
     "iopub.status.busy": "2023-08-13T18:17:06.893701Z",
     "iopub.status.idle": "2023-08-13T18:17:06.898119Z",
     "shell.execute_reply": "2023-08-13T18:17:06.897433Z"
    },
    "papermill": {
     "duration": 0.050685,
     "end_time": "2023-08-13T18:17:06.900074",
     "exception": false,
     "start_time": "2023-08-13T18:17:06.849389",
     "status": "completed"
    },
    "tags": []
   },
   "outputs": [],
   "source": [
    "# # Create the base model (Logistic Regression)\n",
    "# base_model = LogisticRegression(max_iter=1000)\n",
    "\n",
    "# # Create the Bagging classifier with Logistic Regression as the base model\n",
    "# bagging_model = BaggingClassifier(base_model, random_state=52)\n",
    "\n",
    "# # Define the hyperparameters to sample from\n",
    "# param_dist = {\n",
    "#     'n_estimators': np.arange(5, 16),   # Number of base estimators in the ensemble (5 to 15)\n",
    "#     'base_estimator__C': np.logspace(-3, 3, 7),  # C parameter of Logistic Regression (0.001 to 1000)\n",
    "# }\n",
    "\n",
    "# # Create the RandomizedSearchCV object\n",
    "# random_search = RandomizedSearchCV(bagging_model, param_distributions=param_dist, n_iter=10, scoring='f1_micro', cv=5, random_state=42)\n",
    "\n",
    "# # Train the RandomizedSearchCV to find the best hyperparameters\n",
    "# random_search.fit(X_tfidf,y_new)\n",
    "\n",
    "# # Get the best estimator and its hyperparameters\n",
    "# best_bagging_model = random_search.best_estimator_\n",
    "# best_params = random_search.best_params_\n",
    "\n",
    "# # Print the best hyperparameters\n",
    "# print(\"Best Hyperparameters:\", best_params)\n",
    "\n",
    "# # Evaluate the best model on the test set\n",
    "# y_pred = best_bagging_model.predict(X_tfidf)\n",
    "# f1 = f1_score(y_new, y_pred, average=\"micro\")\n",
    "# print(\"Best F1 Score:\", f1)\n"
   ]
  },
  {
   "cell_type": "code",
   "execution_count": 102,
   "id": "fa8b8561",
   "metadata": {
    "execution": {
     "iopub.execute_input": "2023-08-13T18:17:06.988665Z",
     "iopub.status.busy": "2023-08-13T18:17:06.987982Z",
     "iopub.status.idle": "2023-08-13T18:17:06.991746Z",
     "shell.execute_reply": "2023-08-13T18:17:06.991034Z"
    },
    "papermill": {
     "duration": 0.04967,
     "end_time": "2023-08-13T18:17:06.993564",
     "exception": false,
     "start_time": "2023-08-13T18:17:06.943894",
     "status": "completed"
    },
    "tags": []
   },
   "outputs": [],
   "source": [
    "# #applying confusion metrix\n",
    "# cm5 = confusion_matrix(y_test,y_pred5)\n",
    "# #visualisation of confusion matrix\n",
    "# sns.heatmap(cm5,annot=True,cmap='Blues')\n",
    "# plt.xlabel('Predicted Labels')\n",
    "# plt.ylabel('True Labels')\n",
    "# plt.title('Confusion Matrix')\n",
    "# plt.show()"
   ]
  },
  {
   "cell_type": "code",
   "execution_count": 103,
   "id": "b3021859",
   "metadata": {
    "execution": {
     "iopub.execute_input": "2023-08-13T18:17:07.082144Z",
     "iopub.status.busy": "2023-08-13T18:17:07.081457Z",
     "iopub.status.idle": "2023-08-13T18:17:07.085063Z",
     "shell.execute_reply": "2023-08-13T18:17:07.084364Z"
    },
    "papermill": {
     "duration": 0.050447,
     "end_time": "2023-08-13T18:17:07.086862",
     "exception": false,
     "start_time": "2023-08-13T18:17:07.036415",
     "status": "completed"
    },
    "tags": []
   },
   "outputs": [],
   "source": [
    "# #printing classification report\n",
    "# clf_report5 = classification_report(y_test, y_pred5)\n",
    "# print(clf_report)"
   ]
  },
  {
   "cell_type": "markdown",
   "id": "ee9a9e9d",
   "metadata": {
    "papermill": {
     "duration": 0.042492,
     "end_time": "2023-08-13T18:17:07.172230",
     "exception": false,
     "start_time": "2023-08-13T18:17:07.129738",
     "status": "completed"
    },
    "tags": []
   },
   "source": [
    "# Model5:Decision Tree\n"
   ]
  },
  {
   "cell_type": "code",
   "execution_count": 104,
   "id": "ffca07c8",
   "metadata": {
    "execution": {
     "iopub.execute_input": "2023-08-13T18:17:07.259667Z",
     "iopub.status.busy": "2023-08-13T18:17:07.259266Z",
     "iopub.status.idle": "2023-08-13T18:17:07.263151Z",
     "shell.execute_reply": "2023-08-13T18:17:07.262462Z"
    },
    "papermill": {
     "duration": 0.049663,
     "end_time": "2023-08-13T18:17:07.264928",
     "exception": false,
     "start_time": "2023-08-13T18:17:07.215265",
     "status": "completed"
    },
    "tags": []
   },
   "outputs": [],
   "source": [
    "# from sklearn.tree import DecisionTreeClassifier\n",
    "# dt = DecisionTreeClassifier(criterion='gini',max_depth=3,min_samples_split=12,min_samples_leaf=6)\n",
    "# dt.fit(X_tfidf,y_new)\n",
    "# y_pred4 = dt.predict(X_tfidf)\n",
    "# f1_score(y_new,y_pred4,average=\"micro\")"
   ]
  },
  {
   "cell_type": "markdown",
   "id": "533efd3d",
   "metadata": {
    "papermill": {
     "duration": 0.042531,
     "end_time": "2023-08-13T18:17:07.350746",
     "exception": false,
     "start_time": "2023-08-13T18:17:07.308215",
     "status": "completed"
    },
    "tags": []
   },
   "source": [
    "on train: 0.9847012128436083\n",
    "\n",
    "on test : 0.69774\n",
    "\n",
    "with tuning on train :0.7171567603435776\n",
    "on test : 0.69811"
   ]
  },
  {
   "cell_type": "markdown",
   "id": "bc12b7a3",
   "metadata": {
    "papermill": {
     "duration": 0.042625,
     "end_time": "2023-08-13T18:17:07.436266",
     "exception": false,
     "start_time": "2023-08-13T18:17:07.393641",
     "status": "completed"
    },
    "tags": []
   },
   "source": [
    "# hyperparameter tuning for DecisionTree"
   ]
  },
  {
   "cell_type": "code",
   "execution_count": 105,
   "id": "185e0dd3",
   "metadata": {
    "execution": {
     "iopub.execute_input": "2023-08-13T18:17:07.524232Z",
     "iopub.status.busy": "2023-08-13T18:17:07.523838Z",
     "iopub.status.idle": "2023-08-13T18:17:07.527998Z",
     "shell.execute_reply": "2023-08-13T18:17:07.527322Z"
    },
    "papermill": {
     "duration": 0.050321,
     "end_time": "2023-08-13T18:17:07.529800",
     "exception": false,
     "start_time": "2023-08-13T18:17:07.479479",
     "status": "completed"
    },
    "tags": []
   },
   "outputs": [],
   "source": [
    "# from scipy.stats import randint\n",
    "\n",
    "# # Define the hyperparameter distribution\n",
    "# param_dist = {\n",
    "#     'criterion': ['gini', 'entropy'],\n",
    "#     'max_depth': randint(5, 50),\n",
    "#     'min_samples_split': randint(2, 30),\n",
    "#     'min_samples_leaf': randint(1,10)\n",
    "# }\n",
    "\n",
    "# # Create the RandomizedSearchCV object\n",
    "# random_search4 = RandomizedSearchCV(dt, param_distributions=param_dist, n_iter=10, cv=5, scoring='accuracy', n_jobs=1, random_state=52)\n",
    "\n",
    "# # Fit the RandomizedSearchCV to the data\n",
    "# random_search4.fit(X_tfidf,y_new)\n",
    "\n",
    "# #getting best estimator and parameter for log_reg\n",
    "# best_model4 = random_search4.best_estimator_\n",
    "# best_params4 = random_search4.best_params_\n",
    "\n",
    "# #applying on train data\n",
    "# y_pred4 = best_model4.predict(X_tfidf)\n",
    "\n",
    "# # Calculate the F1 score\n",
    "# f1 = f1_score(y_new, y_pred4, average='micro')\n",
    "# print(\"Best Hyperparameters:\", best_params4)\n",
    "# print(\"F1 Score:\", f1)"
   ]
  },
  {
   "cell_type": "markdown",
   "id": "c853ce0e",
   "metadata": {
    "papermill": {
     "duration": 0.042447,
     "end_time": "2023-08-13T18:17:07.615034",
     "exception": false,
     "start_time": "2023-08-13T18:17:07.572587",
     "status": "completed"
    },
    "tags": []
   },
   "source": [
    "Best Hyperparameters: {'criterion': 'gini', 'max_depth': 37, 'min_samples_leaf': 6, 'min_samples_split': 12}\n",
    "F1 Score: 0.7170338785190282"
   ]
  },
  {
   "cell_type": "code",
   "execution_count": 106,
   "id": "30cc9d56",
   "metadata": {
    "execution": {
     "iopub.execute_input": "2023-08-13T18:17:07.702543Z",
     "iopub.status.busy": "2023-08-13T18:17:07.701818Z",
     "iopub.status.idle": "2023-08-13T18:17:07.705836Z",
     "shell.execute_reply": "2023-08-13T18:17:07.705065Z"
    },
    "papermill": {
     "duration": 0.049802,
     "end_time": "2023-08-13T18:17:07.707722",
     "exception": false,
     "start_time": "2023-08-13T18:17:07.657920",
     "status": "completed"
    },
    "tags": []
   },
   "outputs": [],
   "source": [
    "# #applying confusion metrix\n",
    "# cm4 = confusion_matrix(y_test,y_pred4)\n",
    "# #visualisation of confusion matrix\n",
    "# sns.heatmap(cm4,annot=True,cmap='Blues')\n",
    "# plt.xlabel('Predicted Labels')\n",
    "# plt.ylabel('True Labels')\n",
    "# plt.title('Confusion Matrix')\n",
    "# plt.show()"
   ]
  },
  {
   "cell_type": "code",
   "execution_count": 107,
   "id": "5dda75bf",
   "metadata": {
    "execution": {
     "iopub.execute_input": "2023-08-13T18:17:07.795417Z",
     "iopub.status.busy": "2023-08-13T18:17:07.794745Z",
     "iopub.status.idle": "2023-08-13T18:17:07.798513Z",
     "shell.execute_reply": "2023-08-13T18:17:07.797697Z"
    },
    "papermill": {
     "duration": 0.049704,
     "end_time": "2023-08-13T18:17:07.800352",
     "exception": false,
     "start_time": "2023-08-13T18:17:07.750648",
     "status": "completed"
    },
    "tags": []
   },
   "outputs": [],
   "source": [
    "# #printing classification report\n",
    "# clf_report4 = classification_report(y_test, y_pred4)\n",
    "# print(clf_report4)"
   ]
  },
  {
   "cell_type": "markdown",
   "id": "d02262a0",
   "metadata": {
    "papermill": {
     "duration": 0.042565,
     "end_time": "2023-08-13T18:17:07.885706",
     "exception": false,
     "start_time": "2023-08-13T18:17:07.843141",
     "status": "completed"
    },
    "tags": []
   },
   "source": [
    "# Multilayerperceptron"
   ]
  },
  {
   "cell_type": "code",
   "execution_count": 108,
   "id": "51a18cdf",
   "metadata": {
    "execution": {
     "iopub.execute_input": "2023-08-13T18:17:07.973908Z",
     "iopub.status.busy": "2023-08-13T18:17:07.973242Z",
     "iopub.status.idle": "2023-08-13T18:17:07.977200Z",
     "shell.execute_reply": "2023-08-13T18:17:07.976327Z"
    },
    "papermill": {
     "duration": 0.050671,
     "end_time": "2023-08-13T18:17:07.979117",
     "exception": false,
     "start_time": "2023-08-13T18:17:07.928446",
     "status": "completed"
    },
    "tags": []
   },
   "outputs": [],
   "source": [
    "# mlp_model = MLPClassifier(hidden_layer_sizes=(100,), activation='relu', solver='adam', random_state=42)\n",
    "# mlp_model.fit(Xtrain_balanced,ytrain_balanced)\n",
    "# y_pred6 =mlp_model.predict(Xtest_balanced)\n",
    "# f1_score(y_test,y_pred6,average=\"micro\")"
   ]
  },
  {
   "cell_type": "markdown",
   "id": "36a23948",
   "metadata": {
    "papermill": {
     "duration": 0.042435,
     "end_time": "2023-08-13T18:17:08.064453",
     "exception": false,
     "start_time": "2023-08-13T18:17:08.022018",
     "status": "completed"
    },
    "tags": []
   },
   "source": [
    "# XGBoostClassifier "
   ]
  },
  {
   "cell_type": "code",
   "execution_count": 109,
   "id": "2c5be4ed",
   "metadata": {
    "execution": {
     "iopub.execute_input": "2023-08-13T18:17:08.154006Z",
     "iopub.status.busy": "2023-08-13T18:17:08.153398Z",
     "iopub.status.idle": "2023-08-13T18:17:08.157567Z",
     "shell.execute_reply": "2023-08-13T18:17:08.156633Z"
    },
    "papermill": {
     "duration": 0.050958,
     "end_time": "2023-08-13T18:17:08.159703",
     "exception": false,
     "start_time": "2023-08-13T18:17:08.108745",
     "status": "completed"
    },
    "tags": []
   },
   "outputs": [],
   "source": [
    "# from xgboost import XGBClassifier\n",
    "# xgb = XGBClassifier()\n",
    "# xgb.fit(Xtrain_balanced,ytrain_balanced)\n",
    "# y_pred5 = dt.predict(X_test)\n",
    "# f1_score(y_test,y_pred4,average=\"micro\")"
   ]
  },
  {
   "cell_type": "markdown",
   "id": "5c80366c",
   "metadata": {
    "papermill": {
     "duration": 0.042846,
     "end_time": "2023-08-13T18:17:08.245473",
     "exception": false,
     "start_time": "2023-08-13T18:17:08.202627",
     "status": "completed"
    },
    "tags": []
   },
   "source": [
    "# **MODEL: KNN**"
   ]
  },
  {
   "cell_type": "code",
   "execution_count": 110,
   "id": "91770be3",
   "metadata": {
    "execution": {
     "iopub.execute_input": "2023-08-13T18:17:08.333811Z",
     "iopub.status.busy": "2023-08-13T18:17:08.332916Z",
     "iopub.status.idle": "2023-08-13T18:17:08.337851Z",
     "shell.execute_reply": "2023-08-13T18:17:08.337124Z"
    },
    "papermill": {
     "duration": 0.051687,
     "end_time": "2023-08-13T18:17:08.339809",
     "exception": false,
     "start_time": "2023-08-13T18:17:08.288122",
     "status": "completed"
    },
    "tags": []
   },
   "outputs": [],
   "source": [
    "#from sklearn.neighbors import KNeighborsClassifier"
   ]
  },
  {
   "cell_type": "code",
   "execution_count": 111,
   "id": "c57411d3",
   "metadata": {
    "execution": {
     "iopub.execute_input": "2023-08-13T18:17:08.427799Z",
     "iopub.status.busy": "2023-08-13T18:17:08.427010Z",
     "iopub.status.idle": "2023-08-13T18:17:08.431627Z",
     "shell.execute_reply": "2023-08-13T18:17:08.430543Z"
    },
    "papermill": {
     "duration": 0.050539,
     "end_time": "2023-08-13T18:17:08.433590",
     "exception": false,
     "start_time": "2023-08-13T18:17:08.383051",
     "status": "completed"
    },
    "tags": []
   },
   "outputs": [],
   "source": [
    "#knc = KNeighborsClassifier()"
   ]
  },
  {
   "cell_type": "code",
   "execution_count": 112,
   "id": "1a2ab7ad",
   "metadata": {
    "execution": {
     "iopub.execute_input": "2023-08-13T18:17:08.520752Z",
     "iopub.status.busy": "2023-08-13T18:17:08.519776Z",
     "iopub.status.idle": "2023-08-13T18:17:08.524445Z",
     "shell.execute_reply": "2023-08-13T18:17:08.523415Z"
    },
    "papermill": {
     "duration": 0.050166,
     "end_time": "2023-08-13T18:17:08.526341",
     "exception": false,
     "start_time": "2023-08-13T18:17:08.476175",
     "status": "completed"
    },
    "tags": []
   },
   "outputs": [],
   "source": [
    "#knc.fit(Xtrain_balanced,ytrain_balanced)\n",
    "#f1_score(ytrain_balanced,knc.predict(Xtrain_balanced),average=\"micro\")"
   ]
  },
  {
   "cell_type": "markdown",
   "id": "981a6009",
   "metadata": {
    "papermill": {
     "duration": 0.042165,
     "end_time": "2023-08-13T18:17:08.611023",
     "exception": false,
     "start_time": "2023-08-13T18:17:08.568858",
     "status": "completed"
    },
    "tags": []
   },
   "source": [
    "**HYPERPARAMETER TUNING**"
   ]
  },
  {
   "cell_type": "code",
   "execution_count": 113,
   "id": "eea66e95",
   "metadata": {
    "execution": {
     "iopub.execute_input": "2023-08-13T18:17:08.698567Z",
     "iopub.status.busy": "2023-08-13T18:17:08.697555Z",
     "iopub.status.idle": "2023-08-13T18:17:08.702156Z",
     "shell.execute_reply": "2023-08-13T18:17:08.701471Z"
    },
    "papermill": {
     "duration": 0.050338,
     "end_time": "2023-08-13T18:17:08.704099",
     "exception": false,
     "start_time": "2023-08-13T18:17:08.653761",
     "status": "completed"
    },
    "tags": []
   },
   "outputs": [],
   "source": [
    "#param_dist = {'n_neighbors': randint(low=1, high=20),'weights': ['uniform', 'distance'],'p': [1, 2]}"
   ]
  },
  {
   "cell_type": "code",
   "execution_count": 114,
   "id": "5375377a",
   "metadata": {
    "execution": {
     "iopub.execute_input": "2023-08-13T18:17:08.791286Z",
     "iopub.status.busy": "2023-08-13T18:17:08.790903Z",
     "iopub.status.idle": "2023-08-13T18:17:08.795067Z",
     "shell.execute_reply": "2023-08-13T18:17:08.794113Z"
    },
    "papermill": {
     "duration": 0.050155,
     "end_time": "2023-08-13T18:17:08.797167",
     "exception": false,
     "start_time": "2023-08-13T18:17:08.747012",
     "status": "completed"
    },
    "tags": []
   },
   "outputs": [],
   "source": [
    "#knn = KNeighborsClassifier()\n",
    "#random_search3 = RandomizedSearchCV(knn, param_distributions=param_dist, n_iter=10, scoring='f1_micro', random_state=42)\n",
    "#random_search3.fit(Xtrain_balanced, ytrain_balanced)"
   ]
  },
  {
   "cell_type": "code",
   "execution_count": 115,
   "id": "5857379c",
   "metadata": {
    "execution": {
     "iopub.execute_input": "2023-08-13T18:17:08.884308Z",
     "iopub.status.busy": "2023-08-13T18:17:08.883920Z",
     "iopub.status.idle": "2023-08-13T18:17:08.888099Z",
     "shell.execute_reply": "2023-08-13T18:17:08.887068Z"
    },
    "papermill": {
     "duration": 0.050076,
     "end_time": "2023-08-13T18:17:08.890204",
     "exception": false,
     "start_time": "2023-08-13T18:17:08.840128",
     "status": "completed"
    },
    "tags": []
   },
   "outputs": [],
   "source": [
    "#best_model3 = random_search3.best_estimator_\n",
    "#best_params3 = random_search3.best_params_"
   ]
  },
  {
   "cell_type": "code",
   "execution_count": 116,
   "id": "1930b69d",
   "metadata": {
    "execution": {
     "iopub.execute_input": "2023-08-13T18:17:08.978050Z",
     "iopub.status.busy": "2023-08-13T18:17:08.977475Z",
     "iopub.status.idle": "2023-08-13T18:17:08.981610Z",
     "shell.execute_reply": "2023-08-13T18:17:08.980861Z"
    },
    "papermill": {
     "duration": 0.050781,
     "end_time": "2023-08-13T18:17:08.983486",
     "exception": false,
     "start_time": "2023-08-13T18:17:08.932705",
     "status": "completed"
    },
    "tags": []
   },
   "outputs": [],
   "source": [
    "#y_pred3 = best_model3.predict(Xtrain_balanced)"
   ]
  },
  {
   "cell_type": "code",
   "execution_count": 117,
   "id": "5f283fe6",
   "metadata": {
    "execution": {
     "iopub.execute_input": "2023-08-13T18:17:09.072040Z",
     "iopub.status.busy": "2023-08-13T18:17:09.071405Z",
     "iopub.status.idle": "2023-08-13T18:17:09.076537Z",
     "shell.execute_reply": "2023-08-13T18:17:09.075675Z"
    },
    "papermill": {
     "duration": 0.051652,
     "end_time": "2023-08-13T18:17:09.078758",
     "exception": false,
     "start_time": "2023-08-13T18:17:09.027106",
     "status": "completed"
    },
    "tags": []
   },
   "outputs": [],
   "source": [
    "#f1 = f1_score(ytrain_balanced, y_pred3, average='micro')\n",
    "#print(\"Best Hyperparameters:\", best_params)\n",
    "#print(\"F1 Score:\", f1)"
   ]
  },
  {
   "cell_type": "markdown",
   "id": "b58bf671",
   "metadata": {
    "papermill": {
     "duration": 0.042291,
     "end_time": "2023-08-13T18:17:09.167411",
     "exception": false,
     "start_time": "2023-08-13T18:17:09.125120",
     "status": "completed"
    },
    "tags": []
   },
   "source": [
    "# feature scaling using pipeline"
   ]
  },
  {
   "cell_type": "code",
   "execution_count": 118,
   "id": "0326e110",
   "metadata": {
    "execution": {
     "iopub.execute_input": "2023-08-13T18:17:09.254939Z",
     "iopub.status.busy": "2023-08-13T18:17:09.254275Z",
     "iopub.status.idle": "2023-08-13T18:17:09.258781Z",
     "shell.execute_reply": "2023-08-13T18:17:09.257692Z"
    },
    "papermill": {
     "duration": 0.050636,
     "end_time": "2023-08-13T18:17:09.260747",
     "exception": false,
     "start_time": "2023-08-13T18:17:09.210111",
     "status": "completed"
    },
    "tags": []
   },
   "outputs": [],
   "source": [
    "# from sklearn.preprocessing import PolynomialFeatures,StandardScaler,MaxAbsScaler,RobustScaler"
   ]
  },
  {
   "cell_type": "code",
   "execution_count": 119,
   "id": "51bac066",
   "metadata": {
    "execution": {
     "iopub.execute_input": "2023-08-13T18:17:09.348769Z",
     "iopub.status.busy": "2023-08-13T18:17:09.347876Z",
     "iopub.status.idle": "2023-08-13T18:17:09.352826Z",
     "shell.execute_reply": "2023-08-13T18:17:09.351772Z"
    },
    "papermill": {
     "duration": 0.051088,
     "end_time": "2023-08-13T18:17:09.354903",
     "exception": false,
     "start_time": "2023-08-13T18:17:09.303815",
     "status": "completed"
    },
    "tags": []
   },
   "outputs": [],
   "source": [
    "#from sklearn.pipeline import Pipeline\n",
    "#from sklearn.decomposition import TruncatedSVD\n",
    "\n",
    "#ss_pipe = Pipeline([(\"std_scaler\",StandardScaler(with_mean=False)),\n",
    " #                   (\"svd\",TruncatedSVD(n_components=99,random_state=52)),\n",
    "  #                  ('log_reg',LogisticRegression(random_state=52,max_iter=1000))])\n",
    "\n",
    "#mx_pipe = Pipeline([(\"mx_pipe\",MaxAbsScaler()),\n",
    "                      #(\"svd\",TruncatedSVD(n_components=99,random_state=52)),\n",
    "                      #('log_reg',LogisticRegression(random_state=52,max_iter=1000))])\n",
    "\n",
    "#rc_pipe = Pipeline([(\"std_scaler\",RobustScaler(with_centering=False)),\n",
    "                    #(\"svd\",TruncatedSVD(n_components=99,random_state=52)),\n",
    "                    #('log_reg',LogisticRegression(random_state=52,max_iter=1000))])'''\n"
   ]
  },
  {
   "cell_type": "markdown",
   "id": "8e049887",
   "metadata": {
    "papermill": {
     "duration": 0.042348,
     "end_time": "2023-08-13T18:17:09.439757",
     "exception": false,
     "start_time": "2023-08-13T18:17:09.397409",
     "status": "completed"
    },
    "tags": []
   },
   "source": [
    "**Model with StandardScaler**"
   ]
  },
  {
   "cell_type": "code",
   "execution_count": 120,
   "id": "16342d58",
   "metadata": {
    "execution": {
     "iopub.execute_input": "2023-08-13T18:17:09.526967Z",
     "iopub.status.busy": "2023-08-13T18:17:09.525975Z",
     "iopub.status.idle": "2023-08-13T18:17:09.530720Z",
     "shell.execute_reply": "2023-08-13T18:17:09.529941Z"
    },
    "papermill": {
     "duration": 0.050496,
     "end_time": "2023-08-13T18:17:09.532663",
     "exception": false,
     "start_time": "2023-08-13T18:17:09.482167",
     "status": "completed"
    },
    "tags": []
   },
   "outputs": [],
   "source": [
    "#ss_pipe.fit(Xtrain_balanced,ytrain_balanced)\n",
    "#f1_score(ytrain_balanced,ss_pipe.predict(Xtrain_balanced),average=\"micro\"),\n",
    "#f1_score(ytest_balanced,ss_pipe.predict(Xtest_balanced),average=\"micro\")'''\n"
   ]
  },
  {
   "cell_type": "markdown",
   "id": "911c58a1",
   "metadata": {
    "papermill": {
     "duration": 0.042256,
     "end_time": "2023-08-13T18:17:09.617833",
     "exception": false,
     "start_time": "2023-08-13T18:17:09.575577",
     "status": "completed"
    },
    "tags": []
   },
   "source": [
    "**Model with MaxAbsScaler**"
   ]
  },
  {
   "cell_type": "code",
   "execution_count": 121,
   "id": "ee0e1425",
   "metadata": {
    "execution": {
     "iopub.execute_input": "2023-08-13T18:17:09.705381Z",
     "iopub.status.busy": "2023-08-13T18:17:09.704394Z",
     "iopub.status.idle": "2023-08-13T18:17:09.708980Z",
     "shell.execute_reply": "2023-08-13T18:17:09.708261Z"
    },
    "papermill": {
     "duration": 0.05032,
     "end_time": "2023-08-13T18:17:09.710929",
     "exception": false,
     "start_time": "2023-08-13T18:17:09.660609",
     "status": "completed"
    },
    "tags": []
   },
   "outputs": [],
   "source": [
    "#mx_pipe.fit(Xtrain_balanced,ytrain_balanced)\n",
    "#f1_score(ytrain_balanced,mx_pipe.predict(Xtrain_balanced),average=\"micro\"),\n",
    "#f1_score(ytest_balanced,mx_pipe.predict(Xtest_balanced),average=\"micro\")'''\n"
   ]
  },
  {
   "cell_type": "markdown",
   "id": "c8548f5b",
   "metadata": {
    "papermill": {
     "duration": 0.042301,
     "end_time": "2023-08-13T18:17:09.795865",
     "exception": false,
     "start_time": "2023-08-13T18:17:09.753564",
     "status": "completed"
    },
    "tags": []
   },
   "source": [
    "**Model with Robust Scaler**"
   ]
  },
  {
   "cell_type": "code",
   "execution_count": 122,
   "id": "2083fc15",
   "metadata": {
    "execution": {
     "iopub.execute_input": "2023-08-13T18:17:09.883695Z",
     "iopub.status.busy": "2023-08-13T18:17:09.882702Z",
     "iopub.status.idle": "2023-08-13T18:17:09.887174Z",
     "shell.execute_reply": "2023-08-13T18:17:09.886522Z"
    },
    "papermill": {
     "duration": 0.050368,
     "end_time": "2023-08-13T18:17:09.889073",
     "exception": false,
     "start_time": "2023-08-13T18:17:09.838705",
     "status": "completed"
    },
    "tags": []
   },
   "outputs": [],
   "source": [
    "#rc_pipe.fit(Xtrain_balanced,ytrain_balanced)\n",
    "#f1_score(ytrain_balanced,rc_pipe.predict(Xtrain_balanced),average=\"micro\"),\n",
    "#f1_score(ytest_balanced,rc_pipe.predict(Xtest_balanced),average=\"micro\")'''\n"
   ]
  },
  {
   "cell_type": "markdown",
   "id": "79867e40",
   "metadata": {
    "papermill": {
     "duration": 0.043085,
     "end_time": "2023-08-13T18:17:09.975020",
     "exception": false,
     "start_time": "2023-08-13T18:17:09.931935",
     "status": "completed"
    },
    "tags": []
   },
   "source": [
    "**Hyperparameter tuning using grid search CV** "
   ]
  },
  {
   "cell_type": "code",
   "execution_count": 123,
   "id": "39482ebb",
   "metadata": {
    "execution": {
     "iopub.execute_input": "2023-08-13T18:17:10.064321Z",
     "iopub.status.busy": "2023-08-13T18:17:10.063589Z",
     "iopub.status.idle": "2023-08-13T18:17:10.068116Z",
     "shell.execute_reply": "2023-08-13T18:17:10.067230Z"
    },
    "papermill": {
     "duration": 0.051198,
     "end_time": "2023-08-13T18:17:10.070174",
     "exception": false,
     "start_time": "2023-08-13T18:17:10.018976",
     "status": "completed"
    },
    "tags": []
   },
   "outputs": [],
   "source": [
    "#from sklearn.model_selection import GridSearchCV\n",
    "\n",
    "#param_grid = {'log_reg__penalty':['l2'],'log_reg__C': [0.1, 1, 10]}'''"
   ]
  },
  {
   "cell_type": "code",
   "execution_count": 124,
   "id": "dd22f8fa",
   "metadata": {
    "execution": {
     "iopub.execute_input": "2023-08-13T18:17:10.159609Z",
     "iopub.status.busy": "2023-08-13T18:17:10.158871Z",
     "iopub.status.idle": "2023-08-13T18:17:10.163345Z",
     "shell.execute_reply": "2023-08-13T18:17:10.162619Z"
    },
    "papermill": {
     "duration": 0.050955,
     "end_time": "2023-08-13T18:17:10.165383",
     "exception": false,
     "start_time": "2023-08-13T18:17:10.114428",
     "status": "completed"
    },
    "tags": []
   },
   "outputs": [],
   "source": [
    "#gs_cv = GridSearchCV(rc_pipe, param_grid, cv=5)''''''"
   ]
  },
  {
   "cell_type": "code",
   "execution_count": 125,
   "id": "4f573b5e",
   "metadata": {
    "execution": {
     "iopub.execute_input": "2023-08-13T18:17:10.253889Z",
     "iopub.status.busy": "2023-08-13T18:17:10.253145Z",
     "iopub.status.idle": "2023-08-13T18:17:10.257454Z",
     "shell.execute_reply": "2023-08-13T18:17:10.256746Z"
    },
    "papermill": {
     "duration": 0.051038,
     "end_time": "2023-08-13T18:17:10.259443",
     "exception": false,
     "start_time": "2023-08-13T18:17:10.208405",
     "status": "completed"
    },
    "tags": []
   },
   "outputs": [],
   "source": [
    "#gs_cv.fit(Xtrain_balanced,ytrain_balanced)"
   ]
  },
  {
   "cell_type": "code",
   "execution_count": 126,
   "id": "ce916fde",
   "metadata": {
    "execution": {
     "iopub.execute_input": "2023-08-13T18:17:10.346863Z",
     "iopub.status.busy": "2023-08-13T18:17:10.346123Z",
     "iopub.status.idle": "2023-08-13T18:17:10.350585Z",
     "shell.execute_reply": "2023-08-13T18:17:10.349849Z"
    },
    "papermill": {
     "duration": 0.050544,
     "end_time": "2023-08-13T18:17:10.352585",
     "exception": false,
     "start_time": "2023-08-13T18:17:10.302041",
     "status": "completed"
    },
    "tags": []
   },
   "outputs": [],
   "source": [
    "#tuned_log = gs_cv.best_estimator_\n",
    "#tuned_log.fit(Xtrain_balanced, ytrain_balanced)\n",
    "#f1_score(ytrain_balanced,tuned_log.predict(Xtrain_balanced),average=\"micro\"),\n",
    "#f1_score(ytest_balanced,tuned_log.predict(Xtest_balanced),average=\"micro\")'''\n"
   ]
  },
  {
   "cell_type": "markdown",
   "id": "0658b14e",
   "metadata": {
    "papermill": {
     "duration": 0.04242,
     "end_time": "2023-08-13T18:17:10.437743",
     "exception": false,
     "start_time": "2023-08-13T18:17:10.395323",
     "status": "completed"
    },
    "tags": []
   },
   "source": [
    "# voting classifier"
   ]
  },
  {
   "cell_type": "code",
   "execution_count": 127,
   "id": "36c3f877",
   "metadata": {
    "execution": {
     "iopub.execute_input": "2023-08-13T18:17:10.525502Z",
     "iopub.status.busy": "2023-08-13T18:17:10.524779Z",
     "iopub.status.idle": "2023-08-13T18:17:10.529291Z",
     "shell.execute_reply": "2023-08-13T18:17:10.528575Z"
    },
    "papermill": {
     "duration": 0.051017,
     "end_time": "2023-08-13T18:17:10.531262",
     "exception": false,
     "start_time": "2023-08-13T18:17:10.480245",
     "status": "completed"
    },
    "tags": []
   },
   "outputs": [],
   "source": [
    "# clf1 = LogisticRegression(random_state=52,max_iter = 1000)\n",
    "# clf2 = LinearSVC(random_state=52)\n",
    "# clf3 = GaussianNB()\n",
    "# eclf = VotingClassifier(estimators=[('lr', clf1), ('rf', clf2), ('gnb', clf3)], voting='hard')\n",
    "# for clf, label in zip([clf1, clf2, clf3, eclf], ['Logistic Regression', 'Random Forest', 'Naive Bayes', 'Ensemble']):\n",
    "#     scores = cross_val_score(clf,X_tfidf,y_new, scoring='accuracy', cv=5)\n",
    "#     print(\"Accuracy: %0.2f (+/- %0.2f) [%s]\" % (scores.mean(), scores.std(), label))\n",
    "# eclf.fit(X_tfidf,y_new)\n",
    "# predictions = eclf.predict(X_tfidf)\n"
   ]
  },
  {
   "cell_type": "code",
   "execution_count": 128,
   "id": "eeb55ec3",
   "metadata": {
    "execution": {
     "iopub.execute_input": "2023-08-13T18:17:10.618575Z",
     "iopub.status.busy": "2023-08-13T18:17:10.617892Z",
     "iopub.status.idle": "2023-08-13T18:17:10.623127Z",
     "shell.execute_reply": "2023-08-13T18:17:10.622379Z"
    },
    "papermill": {
     "duration": 0.051578,
     "end_time": "2023-08-13T18:17:10.625352",
     "exception": false,
     "start_time": "2023-08-13T18:17:10.573774",
     "status": "completed"
    },
    "tags": []
   },
   "outputs": [],
   "source": [
    "# from sklearn.linear_model import SGDClassifier\n",
    "# from sklearn.metrics import log_loss, f1_score\n",
    "# from sklearn.pipeline import make_pipeline\n",
    "# from sklearn.preprocessing import MaxAbsScaler\n",
    "\n",
    "# # Define your SGDClassifier with appropriate parameters\n",
    "# estimator = SGDClassifier(loss='log', penalty='l2', max_iter=1, warm_start=True, alpha=0, eta0=0.5, learning_rate='constant', random_state=10)\n",
    "\n",
    "# # Create a pipeline with the estimator and MaxAbsScaler for sparse data\n",
    "# pipe_sgd = make_pipeline(MaxAbsScaler(), estimator)\n",
    "\n",
    "# Loss = []\n",
    "# F1_scores = []\n",
    "# iterations = 40\n",
    "\n",
    "# for i in range(iterations):\n",
    "#     # Fit the pipeline to the training data\n",
    "#     pipe_sgd.fit(merged_data_tr, y)\n",
    "    \n",
    "#     # Predict probabilities using the trained model\n",
    "#     y_pred_proba = pipe_sgd.predict_proba(merged_data_tr)\n",
    "    \n",
    "#     # Calculate and append log loss\n",
    "#     loss = log_loss(y, y_pred_proba)\n",
    "#     Loss.append(loss)\n",
    "    \n",
    "#     # Predict labels and calculate F1 score\n",
    "#     y_pred_labels = pipe_sgd.predict(merged_data_tr)\n",
    "#     f1 = f1_score(y, y_pred_labels)\n",
    "#     F1_scores.append(f1)\n",
    "\n",
    "#     print(f\"Iteration {i+1}: Log Loss = {loss:.4f}, F1 Score = {f1:.4f}\")\n",
    "\n",
    "# print(\"Log Loss:\", Loss)\n",
    "# print(\"F1 Scores:\", F1_scores)\n",
    "\n"
   ]
  },
  {
   "cell_type": "code",
   "execution_count": 129,
   "id": "79010a6e",
   "metadata": {
    "execution": {
     "iopub.execute_input": "2023-08-13T18:17:10.713281Z",
     "iopub.status.busy": "2023-08-13T18:17:10.712558Z",
     "iopub.status.idle": "2023-08-13T18:17:10.716839Z",
     "shell.execute_reply": "2023-08-13T18:17:10.716118Z"
    },
    "papermill": {
     "duration": 0.050612,
     "end_time": "2023-08-13T18:17:10.718738",
     "exception": false,
     "start_time": "2023-08-13T18:17:10.668126",
     "status": "completed"
    },
    "tags": []
   },
   "outputs": [],
   "source": [
    "# plt.figure()\n",
    "# plt.plot(np.arange(iterations), Loss)\n",
    "# plt.grid(True)\n",
    "# plt.xlabel('Iteration')\n",
    "# plt.ylabel('Loss')\n",
    "# plt.show()"
   ]
  },
  {
   "cell_type": "code",
   "execution_count": 130,
   "id": "9adfc42b",
   "metadata": {
    "execution": {
     "iopub.execute_input": "2023-08-13T18:17:10.807432Z",
     "iopub.status.busy": "2023-08-13T18:17:10.806828Z",
     "iopub.status.idle": "2023-08-13T18:17:10.811664Z",
     "shell.execute_reply": "2023-08-13T18:17:10.810978Z"
    },
    "papermill": {
     "duration": 0.052065,
     "end_time": "2023-08-13T18:17:10.813522",
     "exception": false,
     "start_time": "2023-08-13T18:17:10.761457",
     "status": "completed"
    },
    "tags": []
   },
   "outputs": [],
   "source": [
    "# from sklearn.model_selection import cross_val_score\n",
    "\n",
    "# # Define a range of learning rates to test\n",
    "# learning_rates = [0.001, 0.01, 0.1, 0.3, 0.5, 0.7, 1]\n",
    "\n",
    "# # Create lists to store mean F1 scores for each learning rate\n",
    "# mean_f1_scores = []\n",
    "\n",
    "# for lr in learning_rates:\n",
    "#     # Create the SGDClassifier with the specified learning rate\n",
    "#     estimator = SGDClassifier(loss='hinge', penalty='l1', max_iter=50, warm_start=True, alpha=0, eta0=lr, learning_rate='constant', random_state=10)\n",
    "#     pipe_sgd = make_pipeline(MaxAbsScaler(), estimator)\n",
    "    \n",
    "#     # Perform cross-validation and get F1 scores\n",
    "#     f1_scores = cross_val_score(pipe_sgd, merged_data_tr, y, cv=5, scoring='f1')\n",
    "    \n",
    "#     # Calculate the mean F1 score across all folds for this learning rate\n",
    "#     mean_f1 = np.mean(f1_scores)\n",
    "#     mean_f1_scores.append(mean_f1)\n",
    "\n",
    "# # Find the learning rate with the highest mean F1 score\n",
    "# best_learning_rate = learning_rates[np.argmax(mean_f1_scores)]\n",
    "# print(\"Best Learning Rate:\", best_learning_rate)\n"
   ]
  },
  {
   "cell_type": "code",
   "execution_count": 131,
   "id": "2c25cd3d",
   "metadata": {
    "execution": {
     "iopub.execute_input": "2023-08-13T18:17:10.900835Z",
     "iopub.status.busy": "2023-08-13T18:17:10.900247Z",
     "iopub.status.idle": "2023-08-13T18:17:10.904908Z",
     "shell.execute_reply": "2023-08-13T18:17:10.904239Z"
    },
    "papermill": {
     "duration": 0.050603,
     "end_time": "2023-08-13T18:17:10.906804",
     "exception": false,
     "start_time": "2023-08-13T18:17:10.856201",
     "status": "completed"
    },
    "tags": []
   },
   "outputs": [],
   "source": [
    "# from sklearn.model_selection import cross_val_score\n",
    "\n",
    "# # Define a range of alpha values to test\n",
    "# alpha_values = [0.001, 0.01, 0.1, 1, 10]\n",
    "\n",
    "# # Create lists to store mean F1 scores for each alpha\n",
    "# mean_f1_scores = []\n",
    "\n",
    "# for alpha in alpha_values:\n",
    "#     # Create the SGDClassifier with the specified alpha value\n",
    "#     estimator = SGDClassifier(loss='hinge', penalty='l1', max_iter=50, warm_start=True, alpha=alpha, eta0=0.5, learning_rate='constant', random_state=10)\n",
    "#     pipe_sgd = make_pipeline(MaxAbsScaler(), estimator)\n",
    "    \n",
    "#     # Perform cross-validation and get F1 scores\n",
    "#     f1_scores = cross_val_score(pipe_sgd, merged_data_tr, y, cv=5, scoring='f1')\n",
    "    \n",
    "#     # Calculate the mean F1 score across all folds for this alpha\n",
    "#     mean_f1 = np.mean(f1_scores)\n",
    "#     mean_f1_scores.append(mean_f1)\n",
    "\n",
    "# # Find the alpha with the highest mean F1 score\n",
    "# best_alpha = alpha_values[np.argmax(mean_f1_scores)]\n",
    "# print(\"Best Alpha:\", best_alpha)\n"
   ]
  },
  {
   "cell_type": "code",
   "execution_count": 132,
   "id": "02644c84",
   "metadata": {
    "execution": {
     "iopub.execute_input": "2023-08-13T18:17:10.994902Z",
     "iopub.status.busy": "2023-08-13T18:17:10.994314Z",
     "iopub.status.idle": "2023-08-13T18:17:10.998849Z",
     "shell.execute_reply": "2023-08-13T18:17:10.998154Z"
    },
    "papermill": {
     "duration": 0.050991,
     "end_time": "2023-08-13T18:17:11.000723",
     "exception": false,
     "start_time": "2023-08-13T18:17:10.949732",
     "status": "completed"
    },
    "tags": []
   },
   "outputs": [],
   "source": [
    "# from sklearn.linear_model import SGDClassifier\n",
    "# from sklearn.metrics import log_loss, f1_score\n",
    "# from sklearn.pipeline import make_pipeline\n",
    "# from sklearn.preprocessing import MaxAbsScaler\n",
    "\n",
    "# # Define your SGDClassifier with appropriate parameters\n",
    "# estimator = SGDClassifier(loss='squared_hinge',penalty='l2', max_iter=1000, warm_start=True, alpha=0, eta0=0.01, learning_rate='constant', random_state=42)\n",
    "\n",
    "# # Create a pipeline with the estimator and MaxAbsScaler for sparse data\n",
    "# pipe_sgd = make_pipeline(MaxAbsScaler(), estimator)\n",
    "# # Fit the pipeline to the training data\n",
    "# pipe_sgd.fit(merged_data_tr, y)\n",
    "# y_pred_labels = pipe_sgd.predict(merged_data_tr)\n",
    "# f1 = f1_score(y, y_pred_labels)\n",
    "# print(\"F1 Score:\", f1)"
   ]
  },
  {
   "cell_type": "markdown",
   "id": "6c33b457",
   "metadata": {
    "papermill": {
     "duration": 0.042138,
     "end_time": "2023-08-13T18:17:11.086079",
     "exception": false,
     "start_time": "2023-08-13T18:17:11.043941",
     "status": "completed"
    },
    "tags": []
   },
   "source": [
    "F1 Score: 0.9264134363647893"
   ]
  },
  {
   "cell_type": "code",
   "execution_count": 133,
   "id": "5d8ae398",
   "metadata": {
    "execution": {
     "iopub.execute_input": "2023-08-13T18:17:11.174599Z",
     "iopub.status.busy": "2023-08-13T18:17:11.173975Z",
     "iopub.status.idle": "2023-08-13T18:17:11.178524Z",
     "shell.execute_reply": "2023-08-13T18:17:11.177813Z"
    },
    "papermill": {
     "duration": 0.050351,
     "end_time": "2023-08-13T18:17:11.180459",
     "exception": false,
     "start_time": "2023-08-13T18:17:11.130108",
     "status": "completed"
    },
    "tags": []
   },
   "outputs": [],
   "source": [
    "# from sklearn.linear_model import SGDClassifier\n",
    "# from sklearn.metrics import log_loss, f1_score\n",
    "# from sklearn.pipeline import make_pipeline\n",
    "# from sklearn.preprocessing import MaxAbsScaler\n",
    "\n",
    "# # Define your SGDClassifier with appropriate parameters\n",
    "# estimator = SGDClassifier(loss='log', penalty='l2', max_iter=10, warm_start=True, alpha=0, eta0=0.001, learning_rate='constant', random_state=10)\n",
    "\n",
    "# # Create a pipeline with the estimator and MaxAbsScaler for sparse data\n",
    "# pipe_sgd = make_pipeline(MaxAbsScaler(), estimator)\n",
    "# # Fit the pipeline to the training data\n",
    "# pipe_sgd.fit(merged_data_tr, y)\n",
    "# y_pred_labels = pipe_sgd.predict(merged_data_tr)\n",
    "# f1 = f1_score(y, y_pred_labels)\n",
    "# print(\"F1 Score:\", f1)"
   ]
  },
  {
   "cell_type": "markdown",
   "id": "967c24d4",
   "metadata": {
    "papermill": {
     "duration": 0.04296,
     "end_time": "2023-08-13T18:17:11.266661",
     "exception": false,
     "start_time": "2023-08-13T18:17:11.223701",
     "status": "completed"
    },
    "tags": []
   },
   "source": [
    "for l2 best alpha is 0.001 and learning rate is 0.01 F1 Score: 0.8227459600276793\n",
    "\n",
    "for l1 best alpha is 0.1and learning rate is 0.01 F1 Score: 0.8011299393412615"
   ]
  }
 ],
 "metadata": {
  "kernelspec": {
   "display_name": "Python 3",
   "language": "python",
   "name": "python3"
  },
  "language_info": {
   "codemirror_mode": {
    "name": "ipython",
    "version": 3
   },
   "file_extension": ".py",
   "mimetype": "text/x-python",
   "name": "python",
   "nbconvert_exporter": "python",
   "pygments_lexer": "ipython3",
   "version": "3.10.10"
  },
  "papermill": {
   "default_parameters": {},
   "duration": 176.524173,
   "end_time": "2023-08-13T18:17:12.331883",
   "environment_variables": {},
   "exception": null,
   "input_path": "__notebook__.ipynb",
   "output_path": "__notebook__.ipynb",
   "parameters": {},
   "start_time": "2023-08-13T18:14:15.807710",
   "version": "2.4.0"
  }
 },
 "nbformat": 4,
 "nbformat_minor": 5
}
